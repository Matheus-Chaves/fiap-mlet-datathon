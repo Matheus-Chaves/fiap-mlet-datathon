{
 "cells": [
  {
   "cell_type": "code",
   "execution_count": 10,
   "metadata": {},
   "outputs": [],
   "source": [
    "import torch\n",
    "import pandas as pd\n",
    "import numpy as np\n",
    "import csv\n",
    "import os\n",
    "from sklearn.metrics.pairwise import cosine_similarity\n",
    "from transformers import AutoTokenizer, AutoModel\n",
    "from transformers import RobertaTokenizer, RobertaModel\n"
   ]
  },
  {
   "cell_type": "code",
   "execution_count": 11,
   "metadata": {},
   "outputs": [
    {
     "name": "stderr",
     "output_type": "stream",
     "text": [
      "Some weights of RobertaModel were not initialized from the model checkpoint at roberta-base and are newly initialized: ['roberta.pooler.dense.bias', 'roberta.pooler.dense.weight']\n",
      "You should probably TRAIN this model on a down-stream task to be able to use it for predictions and inference.\n"
     ]
    }
   ],
   "source": [
    "# Carregar o tokenizer e modelo RoBERTa\n",
    "tokenizer = RobertaTokenizer.from_pretrained('roberta-base')\n",
    "model = RobertaModel.from_pretrained('roberta-base')"
   ]
  },
  {
   "cell_type": "code",
   "execution_count": null,
   "metadata": {},
   "outputs": [],
   "source": [
    "# Carregar o dataset\n",
    "df = pd.read_csv('../data_preprocessing/itens/dados_preprocessados.csv')"
   ]
  },
  {
   "cell_type": "code",
   "execution_count": 13,
   "metadata": {},
   "outputs": [
    {
     "name": "stdout",
     "output_type": "stream",
     "text": [
      "Valores nulos por coluna:\n",
      "page         0\n",
      "url          0\n",
      "issued       0\n",
      "title      263\n",
      "body         0\n",
      "caption     83\n",
      "dtype: int64\n"
     ]
    }
   ],
   "source": [
    "# Contar valores nulos por coluna\n",
    "null_count = df.isnull().sum()\n",
    "\n",
    "# Exibir a quantidade de valores nulos por coluna\n",
    "print(\"Valores nulos por coluna:\")\n",
    "print(null_count)"
   ]
  },
  {
   "cell_type": "code",
   "execution_count": 14,
   "metadata": {},
   "outputs": [
    {
     "name": "stdout",
     "output_type": "stream",
     "text": [
      "Linhas com 'title' nulo:\n",
      "                                        page  \\\n",
      "1906    53df5eff-aafc-4b86-859a-52d5008720c5   \n",
      "2972    237eb885-c009-448d-80fb-69874c1a6d1f   \n",
      "3228    d5a52ee9-dab2-4970-8491-b27ccdc8fa81   \n",
      "3354    f11f12d7-ffb9-4b64-9542-348675ebbd51   \n",
      "4021    4e4ca11a-1066-4f26-8619-0e1a256ff098   \n",
      "...                                      ...   \n",
      "251549  1b1e79e9-19ef-45cc-8292-a1de100e4c76   \n",
      "252000  b33ddbb3-f5f5-418c-a35b-aef77a14679e   \n",
      "252296  6a8ee504-36cb-455e-8e77-8022602853c9   \n",
      "253096  2a5a41bf-a6d9-446e-91b6-85d7f8892065   \n",
      "255501  88060942-f2e1-4f8d-954c-9213ade1736e   \n",
      "\n",
      "                                                      url  \\\n",
      "1906    http://g1.globo.com/rs/rio-grande-do-sul/notic...   \n",
      "2972    http://g1.globo.com/sp/campinas-regiao/terra-d...   \n",
      "3228    http://g1.globo.com/pop-arte/musica/noticia/20...   \n",
      "3354    http://g1.globo.com/am/amazonas/noticia/2021/0...   \n",
      "4021    http://g1.globo.com/politica/noticia/2021/11/3...   \n",
      "...                                                   ...   \n",
      "251549  http://g1.globo.com/sp/sao-paulo/noticia/2022/...   \n",
      "252000  http://g1.globo.com/mg/centro-oeste/noticia/20...   \n",
      "252296  http://g1.globo.com/sp/ribeirao-preto-franca/n...   \n",
      "253096  http://g1.globo.com/sc/santa-catarina/especial...   \n",
      "255501  http://g1.globo.com/al/alagoas/noticia/2018/11...   \n",
      "\n",
      "                           issued title  \\\n",
      "1906    2020-11-16 19:30:03+00:00   NaN   \n",
      "2972    2019-07-16 21:05:37+00:00   NaN   \n",
      "3228    2020-04-24 21:03:14+00:00   NaN   \n",
      "3354    2021-01-21 18:45:18+00:00   NaN   \n",
      "4021    2021-11-30 18:50:52+00:00   NaN   \n",
      "...                           ...   ...   \n",
      "251549  2022-07-15 22:34:20+00:00   NaN   \n",
      "252000  2022-05-23 18:59:08+00:00   NaN   \n",
      "252296  2022-07-13 09:00:29+00:00   NaN   \n",
      "253096  2019-04-10 12:45:07+00:00   NaN   \n",
      "255501  2018-11-14 13:05:57+00:00   NaN   \n",
      "\n",
      "                                                     body  \\\n",
      "1906    domingo prefeito hartz próximo ano apuraçãor v...   \n",
      "2972    cambuci Arquivo Brasil casa espécie flora biom...   \n",
      "3228    voz samba reprodução facebook mumuzinho cantor...   \n",
      "3354    ágido cavalcante santo esq dir professor ufamr...   \n",
      "4021    stf manter foro privilegiar prova caso rachadi...   \n",
      "...                                                   ...   \n",
      "251549  deolaner Bezerra falar apreensão mansão influe...   \n",
      "252000  bombeiro acionar combater incêndio casa olivei...   \n",
      "252296  ribeirão preto receber festival torresmo divul...   \n",
      "253096  araquari cidade crescer economicamente santo c...   \n",
      "255501  cícero perder mandato deputado federal infidel...   \n",
      "\n",
      "                                                  caption  \n",
      "1906     voto dar candidato derrotar robson massaia ficar  \n",
      "2972    endêmica bioma árvore possuir flor branco frut...  \n",
      "3228    cantor internar rio janeiro feira quadro pneum...  \n",
      "3354                                    caso morte doença  \n",
      "4021    senador suspeito confiscar salário funcionário...  \n",
      "...                                                   ...  \n",
      "251549  influenciadora manifestar mandado busco apreen...  \n",
      "252000  apesar dano material evitado problema grande p...  \n",
      "252296  evento acontecer cidade expectativo pessoa par...  \n",
      "253096  araquari tornar terra oportunidades investir b...  \n",
      "255501  almeida elegeu prtbr ano seguinte desfiliar pa...  \n",
      "\n",
      "[263 rows x 6 columns]\n",
      "\n",
      "Linhas com 'caption' nulo:\n",
      "                                        page  \\\n",
      "287     ffa8a291-a68b-4dc4-908d-3e3ac5ce80bf   \n",
      "1934    fcb30d7e-09b0-41dd-b8a9-1b5f454b677c   \n",
      "13634   dfdf768f-0cc3-4300-9f39-c17fec165c2b   \n",
      "18433   2e8f19f0-8233-419a-b162-9d3a615dc8b1   \n",
      "23131   b1591d2b-c76f-4b26-be66-ab4dffb09baf   \n",
      "...                                      ...   \n",
      "249361  40e54946-dc4d-416b-ada5-ad05e9eb3219   \n",
      "250131  3e938431-c5be-4fce-b6c0-a0b4fc6b16e7   \n",
      "253449  9854ad85-b205-468b-907d-2aa9494026cb   \n",
      "254314  2fa7d7db-fd84-446d-b8ae-8069ae675645   \n",
      "255213  31ee0c47-4946-498d-bd9a-9a383965e0b1   \n",
      "\n",
      "                                                      url  \\\n",
      "287     http://g1.globo.com/pa/para/e-do-para/noticia/...   \n",
      "1934    http://g1.globo.com/se/sergipe/noticia/policia...   \n",
      "13634   http://g1.globo.com/pop-arte/blog/legendado/po...   \n",
      "18433   http://g1.globo.com/al/alagoas/noticia/2022/06...   \n",
      "23131   http://g1.globo.com/mg/triangulo-mineiro/notic...   \n",
      "...                                                   ...   \n",
      "249361  http://g1.globo.com/mg/minas-gerais/noticia/20...   \n",
      "250131  http://g1.globo.com/natureza/blog/andre-trigue...   \n",
      "253449  http://g1.globo.com/ms/mato-grosso-do-sul/noti...   \n",
      "254314  http://g1.globo.com/ro/rondonia/eleicoes/2022/...   \n",
      "255213  http://g1.globo.com/pr/norte-noroeste/noticia/...   \n",
      "\n",
      "                           issued  \\\n",
      "287     2022-05-21 14:58:03+00:00   \n",
      "1934    2017-09-18 15:33:15+00:00   \n",
      "13634   2022-02-04 18:45:06+00:00   \n",
      "18433   2022-06-21 19:31:34+00:00   \n",
      "23131   2022-02-11 19:13:50+00:00   \n",
      "...                           ...   \n",
      "249361  2022-07-11 08:41:45+00:00   \n",
      "250131  2018-12-10 20:05:45+00:00   \n",
      "253449  2020-11-16 03:25:02+00:00   \n",
      "254314  2022-07-23 13:07:19+00:00   \n",
      "255213  2021-05-03 15:53:19+00:00   \n",
      "\n",
      "                                                    title  \\\n",
      "287                       aprenda preparar cocada cupuaçu   \n",
      "1934    polícia prender homem estupro mulher bairro co...   \n",
      "13634   Station eleven girlseva yellowjackets voltar s...   \n",
      "18433   empresa investigadas fraude fiscal sonegação i...   \n",
      "23131   avaliar carga roubar painél solar recuperar pa...   \n",
      "...                                                   ...   \n",
      "249361     filho espanca companheiro mãe suspeito agredir   \n",
      "250131                                                NaN   \n",
      "253449                          eleger prefeito andradino   \n",
      "254314  eleição cerca eleitor apto filiar algum partid...   \n",
      "255213  homem prender transportar cigarro contrabandea...   \n",
      "\n",
      "                                                     body caption  \n",
      "287     dica receita par sábado cocar cupuaçu dica coz...     NaN  \n",
      "1934    polícia civil informar feira prender santo ano...     NaN  \n",
      "13634   eis compilado ver difícil começo compartilhe p...     NaN  \n",
      "18433   preso operação fraude fiscal sonegação imposto...     NaN  \n",
      "23131   policial federal carga roubar painel solar ava...     NaN  \n",
      "...                                                   ...     ...  \n",
      "249361  várias viatura deslocar prédio bairro planalto...     NaN  \n",
      "250131  trigueiro matheu ribeirodivulgação andré trigu...     NaN  \n",
      "253449  eleger prefeito Andradina turno domingo urna a...     NaN  \n",
      "254314  urna eletrônico reproduçãotse rondônia pessoa ...     NaN  \n",
      "255213  cigarro contrabandear esconder mesa sinuco prf...     NaN  \n",
      "\n",
      "[83 rows x 6 columns]\n"
     ]
    }
   ],
   "source": [
    "# Verificar linhas com valores nulos na coluna 'title'\n",
    "null_title = df[df['title'].isnull()]\n",
    "\n",
    "# Verificar linhas com valores nulos na coluna 'caption'\n",
    "null_caption = df[df['caption'].isnull()]\n",
    "\n",
    "# Exibir as linhas que possuem valores nulos nas colunas 'title' e 'caption'\n",
    "print(\"Linhas com 'title' nulo:\")\n",
    "print(null_title)\n",
    "\n",
    "print(\"\\nLinhas com 'caption' nulo:\")\n",
    "print(null_caption)"
   ]
  },
  {
   "cell_type": "code",
   "execution_count": 15,
   "metadata": {},
   "outputs": [],
   "source": [
    "df_cleaned = df.dropna(axis=0, how='any')"
   ]
  },
  {
   "cell_type": "code",
   "execution_count": 16,
   "metadata": {},
   "outputs": [
    {
     "name": "stdout",
     "output_type": "stream",
     "text": [
      "\n",
      "Valores nulos por coluna após remoção de linhas com nulos:\n",
      "page       0\n",
      "url        0\n",
      "issued     0\n",
      "title      0\n",
      "body       0\n",
      "caption    0\n",
      "dtype: int64\n"
     ]
    }
   ],
   "source": [
    "null_count = df_cleaned.isnull().sum()\n",
    "print(\"\\nValores nulos por coluna após remoção de linhas com nulos:\")\n",
    "print(null_count)\n"
   ]
  },
  {
   "cell_type": "code",
   "execution_count": 17,
   "metadata": {},
   "outputs": [],
   "source": [
    "# Verificar se há GPU disponível e usar CPU caso contrário\n",
    "device = torch.device('cuda' if torch.cuda.is_available() else 'cpu')"
   ]
  },
  {
   "cell_type": "code",
   "execution_count": null,
   "metadata": {},
   "outputs": [
    {
     "data": {
      "text/plain": [
       "[]"
      ]
     },
     "execution_count": 18,
     "metadata": {},
     "output_type": "execute_result"
    }
   ],
   "source": [
    "\n",
    "save_path = '../processed/itens/embeddings/processed_data_embeddings.csv'  # Caminho de saída para os embeddings\n",
    "\n",
    "# Garantir que as colunas 'title', 'body' e 'caption' são do tipo string\n",
    "df['title'] = df['title'].fillna('').astype(str)\n",
    "df['body'] = df['body'].fillna('').astype(str)\n",
    "df['caption'] = df['caption'].fillna('').astype(str)\n",
    "\n",
    "# Criar a pasta de saída, se não existir\n",
    "os.makedirs(os.path.dirname(save_path), exist_ok=True)\n",
    "\n",
    "# Função para verificar o ponto de interrupção e continuar de onde parou\n",
    "def get_last_processed_row(save_path):\n",
    "    if os.path.exists(save_path):\n",
    "        # Ler o CSV para encontrar o número de linhas já processadas\n",
    "        df_existing = pd.read_csv(save_path)\n",
    "        return len(df_existing)  # Retorna o número de linhas já processadas\n",
    "    return 0  # Caso o arquivo não exista, começa do início\n",
    "\n",
    "# Função para gerar embeddings em batches\n",
    "def generate_embeddings_in_batches_for_columns(df, column_name, batch_size=8, max_length=256, save_path=save_path):\n",
    "    all_embeddings = []\n",
    "\n",
    "    last_processed_row = get_last_processed_row(save_path)  # Pega a última linha processada\n",
    "\n",
    "    # Inicializa o arquivo CSV e adiciona o cabeçalho (se ainda não existir)\n",
    "    if last_processed_row == 0:\n",
    "        with open(save_path, mode='w', newline='', encoding='utf-8') as f:\n",
    "            writer = csv.writer(f)\n",
    "            writer.writerow(['page', 'url', 'issued', column_name + '_embedding'])  # Cabeçalho para cada coluna\n",
    "\n",
    "    # Processar os textos da coluna em lotes, a partir da última linha não processada\n",
    "    texts = df[column_name].tolist()  # Selecionar a coluna\n",
    "    for i in range(last_processed_row, len(texts)):\n",
    "        batch = texts[i:i + batch_size]\n",
    "\n",
    "        # Tokenizar o lote de textos\n",
    "        inputs = tokenizer(batch, return_tensors=\"pt\", padding=True, truncation=True, max_length=max_length).to(device)\n",
    "\n",
    "        # Gerar embeddings\n",
    "        with torch.no_grad():\n",
    "            outputs = model(**inputs)\n",
    "\n",
    "        # Média dos embeddings das palavras\n",
    "        embeddings = outputs.last_hidden_state.mean(dim=1).cpu().numpy()\n",
    "\n",
    "        # Armazenar embeddings no arquivo CSV enquanto são gerados\n",
    "        with open(save_path, mode='a', newline='', encoding='utf-8') as f:\n",
    "            writer = csv.writer(f)\n",
    "            for idx, embedding in enumerate(embeddings):\n",
    "                # Recuperar as outras colunas\n",
    "                page = df.iloc[i + idx]['page']\n",
    "                url = df.iloc[i + idx]['url']\n",
    "                issued = df.iloc[i + idx]['issued']\n",
    "\n",
    "                # Escrever no CSV com o embedding específico da coluna\n",
    "                writer.writerow([page, url, issued, embedding.tolist()])  # Escreve as colunas originais e o embedding\n",
    "\n",
    "        print(f\"Processado batch {i // batch_size + 1} de {len(texts) // batch_size + 1}\")\n",
    "\n",
    "    return all_embeddings\n",
    "\n",
    "# Gerar embeddings para as colunas 'title', 'body' e 'caption' separadamente\n",
    "generate_embeddings_in_batches_for_columns(df, 'title', batch_size=8, max_length=256, save_path=save_path)\n",
    "generate_embeddings_in_batches_for_columns(df, 'body', batch_size=8, max_length=256, save_path=save_path)\n",
    "generate_embeddings_in_batches_for_columns(df, 'caption', batch_size=8, max_length=256, save_path=save_path)\n"
   ]
  }
 ],
 "metadata": {
  "kernelspec": {
   "display_name": "Python 3",
   "language": "python",
   "name": "python3"
  },
  "language_info": {
   "codemirror_mode": {
    "name": "ipython",
    "version": 3
   },
   "file_extension": ".py",
   "mimetype": "text/x-python",
   "name": "python",
   "nbconvert_exporter": "python",
   "pygments_lexer": "ipython3",
   "version": "3.12.4"
  }
 },
 "nbformat": 4,
 "nbformat_minor": 2
}
