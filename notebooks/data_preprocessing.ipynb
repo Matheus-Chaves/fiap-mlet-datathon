{
 "cells": [
  {
   "cell_type": "code",
   "execution_count": 1,
   "metadata": {},
   "outputs": [],
   "source": [
    "import pandas as pd\n",
    "import glob\n",
    "import unicodedata\n",
    "import re\n",
    "import nltk\n",
    "import spacy\n",
    "from nltk.tokenize import word_tokenize\n",
    "from nltk.corpus import stopwords\n",
    "\n"
   ]
  },
  {
   "cell_type": "code",
   "execution_count": 2,
   "metadata": {},
   "outputs": [
    {
     "name": "stdout",
     "output_type": "stream",
     "text": [
      "Collecting pt-core-news-sm==3.8.0\n",
      "  Downloading https://github.com/explosion/spacy-models/releases/download/pt_core_news_sm-3.8.0/pt_core_news_sm-3.8.0-py3-none-any.whl (13.0 MB)\n",
      "     ---------------------------------------- 0.0/13.0 MB ? eta -:--:--\n",
      "     ------------- -------------------------- 4.5/13.0 MB 24.4 MB/s eta 0:00:01\n",
      "     ----------------------------- ---------- 9.4/13.0 MB 24.5 MB/s eta 0:00:01\n",
      "     --------------------------------------- 13.0/13.0 MB 21.4 MB/s eta 0:00:00\n",
      "\u001b[38;5;2m✔ Download and installation successful\u001b[0m\n",
      "You can now load the package via spacy.load('pt_core_news_sm')\n"
     ]
    },
    {
     "name": "stderr",
     "output_type": "stream",
     "text": [
      "\n",
      "[notice] A new release of pip is available: 24.3.1 -> 25.0.1\n",
      "[notice] To update, run: C:\\Users\\miche\\AppData\\Local\\Programs\\Python\\Python312\\python.exe -m pip install --upgrade pip\n"
     ]
    }
   ],
   "source": [
    "!py -m spacy download pt_core_news_sm\n"
   ]
  },
  {
   "cell_type": "code",
   "execution_count": 3,
   "metadata": {},
   "outputs": [
    {
     "name": "stderr",
     "output_type": "stream",
     "text": [
      "[nltk_data] Downloading package punkt to C:\\Users\\miche/nltk_data...\n",
      "[nltk_data]   Package punkt is already up-to-date!\n",
      "[nltk_data] Downloading package stopwords to\n",
      "[nltk_data]     C:\\Users\\miche/nltk_data...\n",
      "[nltk_data]   Package stopwords is already up-to-date!\n"
     ]
    },
    {
     "name": "stdout",
     "output_type": "stream",
     "text": [
      "\u001b[38;5;2m✔ Download and installation successful\u001b[0m\n",
      "You can now load the package via spacy.load('pt_core_news_sm')\n",
      "\u001b[38;5;3m⚠ Restart to reload dependencies\u001b[0m\n",
      "If you are in a Jupyter or Colab notebook, you may need to restart Python in\n",
      "order to load all the package's dependencies. You can do this by selecting the\n",
      "'Restart kernel' or 'Restart runtime' option.\n"
     ]
    }
   ],
   "source": [
    "# Baixar pacotes do NLTK\n",
    "nltk.download('punkt')      # Para word_tokenize\n",
    "nltk.download('stopwords')  # Para stopwords\n",
    "\n",
    "spacy.cli.download(\"pt_core_news_sm\")\n",
    "#  Baixar e carregar o modelo de linguagem do Spacy para português\n",
    "nlp = spacy.load(\"pt_core_news_sm\")  # Modelo para portuguê"
   ]
  },
  {
   "cell_type": "markdown",
   "metadata": {},
   "source": [
    "concatenar itens"
   ]
  },
  {
   "cell_type": "code",
   "execution_count": 4,
   "metadata": {},
   "outputs": [
    {
     "name": "stdout",
     "output_type": "stream",
     "text": [
      "                                   page  \\\n",
      "0  13db0ab1-eea2-4603-84c4-f40a876c7400   \n",
      "1  92907b73-5cd3-4184-8d8c-e206aed2bf1c   \n",
      "2  61e07f64-cddf-46f2-b50c-ea0a39c22050   \n",
      "3  30e2e6c5-554a-48ed-a35f-6c6691c8ac9b   \n",
      "4  9dff71eb-b681-40c7-ac8d-68017ac36675   \n",
      "\n",
      "                                                 url  \\\n",
      "0  http://g1.globo.com/am/amazonas/noticia/2022/0...   \n",
      "1  http://g1.globo.com/pa/santarem-regiao/noticia...   \n",
      "2  http://g1.globo.com/mundo/noticia/2022/07/08/e...   \n",
      "3  http://g1.globo.com/politica/noticia/2021/09/0...   \n",
      "4  http://g1.globo.com/politica/noticia/2021/09/1...   \n",
      "\n",
      "                      issued                   modified  \\\n",
      "0  2022-06-18 20:37:45+00:00  2023-04-15 00:02:08+00:00   \n",
      "1  2019-06-20 17:19:52+00:00  2023-06-16 20:19:15+00:00   \n",
      "2  2022-07-08 08:55:52+00:00  2023-04-15 04:25:39+00:00   \n",
      "3  2021-09-09 19:06:46+00:00  2023-06-07 17:44:54+00:00   \n",
      "4  2021-09-15 19:16:13+00:00  2023-06-07 17:43:39+00:00   \n",
      "\n",
      "                                               title  \\\n",
      "0  Caso Bruno e Dom: 3º suspeito tem prisão tempo...   \n",
      "1  Linguajar dos santarenos é diferenciado e chei...   \n",
      "2  Ex-premiê Shinzo Abe morre após ser baleado no...   \n",
      "3  Relator no STF, Fachin vota contra marco tempo...   \n",
      "4  \\nApós 2 votos, pedido de vista suspende julga...   \n",
      "\n",
      "                                                body  \\\n",
      "0  Após audiência de custódia, a Justiça do Amazo...   \n",
      "1  Vista aérea de Santarém\\nÁdrio Denner/ AD Prod...   \n",
      "2  Novo vídeo mostra que assassino de Shinzo Abe ...   \n",
      "3  Relator no STF, Fachin vota contra marco tempo...   \n",
      "4  Após um pedido de vista (mais tempo para análi...   \n",
      "\n",
      "                                             caption  \n",
      "0  Jeferson da Silva Lima foi escoltado por agent...  \n",
      "1  As expressões santarenas não significam apenas...  \n",
      "2  Ex-primeiro-ministro foi atingido por tiros de...  \n",
      "3  Ministro defendeu que posse indígena é diferen...  \n",
      "4  Pelo marco temporal, índios só podem reivindic...  \n"
     ]
    }
   ],
   "source": [
    "\n",
    "# Definir o caminho para os arquivos CSV\n",
    "file_pattern = '../data/raw/itens/itens-parte*.csv'\n",
    "\n",
    "# Usar glob para buscar todos os arquivos que correspondem ao padrão\n",
    "file_paths = glob.glob(file_pattern)\n",
    "\n",
    "# Ler e concatenar todos os arquivos CSV de uma vez\n",
    "df = pd.concat((pd.read_csv(file) for file in file_paths), ignore_index=True)\n",
    "\n",
    "# Exibir as primeiras linhas do DataFrame final\n",
    "print(df.head())\n"
   ]
  },
  {
   "cell_type": "markdown",
   "metadata": {},
   "source": [
    "Remover quebra de linhas"
   ]
  },
  {
   "cell_type": "code",
   "execution_count": 5,
   "metadata": {},
   "outputs": [],
   "source": [
    "df = pd.concat((pd.read_csv(file, lineterminator='\\n') for file in file_paths), ignore_index=True)\n"
   ]
  },
  {
   "cell_type": "markdown",
   "metadata": {},
   "source": [
    "Contar o número de linhas totalmente vazias"
   ]
  },
  {
   "cell_type": "code",
   "execution_count": 6,
   "metadata": {},
   "outputs": [
    {
     "name": "stdout",
     "output_type": "stream",
     "text": [
      "Número de linhas completamente nulas: 0\n"
     ]
    }
   ],
   "source": [
    "num_linhas_nulas = df.isnull().all(axis=1).sum()\n",
    "print(f\"Número de linhas completamente nulas: {num_linhas_nulas}\")"
   ]
  },
  {
   "cell_type": "code",
   "execution_count": 7,
   "metadata": {},
   "outputs": [
    {
     "name": "stdout",
     "output_type": "stream",
     "text": [
      "Valores nulos por coluna:\n",
      "page        0\n",
      "url         0\n",
      "issued      0\n",
      "modified    0\n",
      "title       0\n",
      "body        0\n",
      "caption     0\n",
      "dtype: int64\n"
     ]
    }
   ],
   "source": [
    "print(\"Valores nulos por coluna:\")\n",
    "print(df.isnull().sum())\n"
   ]
  },
  {
   "cell_type": "markdown",
   "metadata": {},
   "source": [
    "Converter a coluna 'issue' para formato datetime"
   ]
  },
  {
   "cell_type": "code",
   "execution_count": 8,
   "metadata": {},
   "outputs": [
    {
     "name": "stdout",
     "output_type": "stream",
     "text": [
      "Coluna 'issued' convertida para datetime e salva no dataset.\n"
     ]
    }
   ],
   "source": [
    "if 'issued' in df.columns:\n",
    "    df['issued'] = pd.to_datetime(df['issued'], errors='coerce')\n",
    "    print(\"Coluna 'issued' convertida para datetime e salva no dataset.\")\n",
    "else:\n",
    "    print(\"Coluna 'issued' não encontrada no DataFrame.\")"
   ]
  },
  {
   "cell_type": "markdown",
   "metadata": {},
   "source": [
    "Definir as colunas que serão limpas"
   ]
  },
  {
   "cell_type": "code",
   "execution_count": 9,
   "metadata": {},
   "outputs": [
    {
     "name": "stdout",
     "output_type": "stream",
     "text": [
      "Colunas encontradas no DataFrame:\n",
      "- title está presente\n",
      "- body está presente\n",
      "- caption está presente\n"
     ]
    }
   ],
   "source": [
    "# Colunas que serão limpas\n",
    "columns_to_clean = [\"title\", \"body\", \"caption\"]\n",
    "\n",
    "# Verificando se as colunas existem no DataFrame\n",
    "print(\"Colunas encontradas no DataFrame:\")\n",
    "for column in columns_to_clean:\n",
    "    if column in df.columns:\n",
    "        print(f\"- {column} está presente\")\n",
    "    else:\n",
    "        print(f\"- {column} NÃO está presente\")\n"
   ]
  },
  {
   "cell_type": "code",
   "execution_count": 10,
   "metadata": {},
   "outputs": [
    {
     "data": {
      "text/html": [
       "<div>\n",
       "<style scoped>\n",
       "    .dataframe tbody tr th:only-of-type {\n",
       "        vertical-align: middle;\n",
       "    }\n",
       "\n",
       "    .dataframe tbody tr th {\n",
       "        vertical-align: top;\n",
       "    }\n",
       "\n",
       "    .dataframe thead th {\n",
       "        text-align: right;\n",
       "    }\n",
       "</style>\n",
       "<table border=\"1\" class=\"dataframe\">\n",
       "  <thead>\n",
       "    <tr style=\"text-align: right;\">\n",
       "      <th></th>\n",
       "      <th>page</th>\n",
       "      <th>url</th>\n",
       "      <th>issued</th>\n",
       "      <th>modified</th>\n",
       "      <th>title</th>\n",
       "      <th>body</th>\n",
       "      <th>caption</th>\n",
       "    </tr>\n",
       "  </thead>\n",
       "  <tbody>\n",
       "    <tr>\n",
       "      <th>0</th>\n",
       "      <td>13db0ab1-eea2-4603-84c4-f40a876c7400</td>\n",
       "      <td>http://g1.globo.com/am/amazonas/noticia/2022/0...</td>\n",
       "      <td>2022-06-18 20:37:45+00:00</td>\n",
       "      <td>2023-04-15 00:02:08+00:00</td>\n",
       "      <td>Caso Bruno e Dom: 3º suspeito tem prisão tempo...</td>\n",
       "      <td>Após audiência de custódia, a Justiça do Amazo...</td>\n",
       "      <td>Jeferson da Silva Lima foi escoltado por agent...</td>\n",
       "    </tr>\n",
       "    <tr>\n",
       "      <th>1</th>\n",
       "      <td>92907b73-5cd3-4184-8d8c-e206aed2bf1c</td>\n",
       "      <td>http://g1.globo.com/pa/santarem-regiao/noticia...</td>\n",
       "      <td>2019-06-20 17:19:52+00:00</td>\n",
       "      <td>2023-06-16 20:19:15+00:00</td>\n",
       "      <td>Linguajar dos santarenos é diferenciado e chei...</td>\n",
       "      <td>Vista aérea de Santarém\\nÁdrio Denner/ AD Prod...</td>\n",
       "      <td>As expressões santarenas não significam apenas...</td>\n",
       "    </tr>\n",
       "    <tr>\n",
       "      <th>2</th>\n",
       "      <td>61e07f64-cddf-46f2-b50c-ea0a39c22050</td>\n",
       "      <td>http://g1.globo.com/mundo/noticia/2022/07/08/e...</td>\n",
       "      <td>2022-07-08 08:55:52+00:00</td>\n",
       "      <td>2023-04-15 04:25:39+00:00</td>\n",
       "      <td>Ex-premiê Shinzo Abe morre após ser baleado no...</td>\n",
       "      <td>Novo vídeo mostra que assassino de Shinzo Abe ...</td>\n",
       "      <td>Ex-primeiro-ministro foi atingido por tiros de...</td>\n",
       "    </tr>\n",
       "    <tr>\n",
       "      <th>3</th>\n",
       "      <td>30e2e6c5-554a-48ed-a35f-6c6691c8ac9b</td>\n",
       "      <td>http://g1.globo.com/politica/noticia/2021/09/0...</td>\n",
       "      <td>2021-09-09 19:06:46+00:00</td>\n",
       "      <td>2023-06-07 17:44:54+00:00</td>\n",
       "      <td>Relator no STF, Fachin vota contra marco tempo...</td>\n",
       "      <td>Relator no STF, Fachin vota contra marco tempo...</td>\n",
       "      <td>Ministro defendeu que posse indígena é diferen...</td>\n",
       "    </tr>\n",
       "    <tr>\n",
       "      <th>4</th>\n",
       "      <td>9dff71eb-b681-40c7-ac8d-68017ac36675</td>\n",
       "      <td>http://g1.globo.com/politica/noticia/2021/09/1...</td>\n",
       "      <td>2021-09-15 19:16:13+00:00</td>\n",
       "      <td>2023-06-07 17:43:39+00:00</td>\n",
       "      <td>\\nApós 2 votos, pedido de vista suspende julga...</td>\n",
       "      <td>Após um pedido de vista (mais tempo para análi...</td>\n",
       "      <td>Pelo marco temporal, índios só podem reivindic...</td>\n",
       "    </tr>\n",
       "  </tbody>\n",
       "</table>\n",
       "</div>"
      ],
      "text/plain": [
       "                                   page  \\\n",
       "0  13db0ab1-eea2-4603-84c4-f40a876c7400   \n",
       "1  92907b73-5cd3-4184-8d8c-e206aed2bf1c   \n",
       "2  61e07f64-cddf-46f2-b50c-ea0a39c22050   \n",
       "3  30e2e6c5-554a-48ed-a35f-6c6691c8ac9b   \n",
       "4  9dff71eb-b681-40c7-ac8d-68017ac36675   \n",
       "\n",
       "                                                 url  \\\n",
       "0  http://g1.globo.com/am/amazonas/noticia/2022/0...   \n",
       "1  http://g1.globo.com/pa/santarem-regiao/noticia...   \n",
       "2  http://g1.globo.com/mundo/noticia/2022/07/08/e...   \n",
       "3  http://g1.globo.com/politica/noticia/2021/09/0...   \n",
       "4  http://g1.globo.com/politica/noticia/2021/09/1...   \n",
       "\n",
       "                     issued                   modified  \\\n",
       "0 2022-06-18 20:37:45+00:00  2023-04-15 00:02:08+00:00   \n",
       "1 2019-06-20 17:19:52+00:00  2023-06-16 20:19:15+00:00   \n",
       "2 2022-07-08 08:55:52+00:00  2023-04-15 04:25:39+00:00   \n",
       "3 2021-09-09 19:06:46+00:00  2023-06-07 17:44:54+00:00   \n",
       "4 2021-09-15 19:16:13+00:00  2023-06-07 17:43:39+00:00   \n",
       "\n",
       "                                               title  \\\n",
       "0  Caso Bruno e Dom: 3º suspeito tem prisão tempo...   \n",
       "1  Linguajar dos santarenos é diferenciado e chei...   \n",
       "2  Ex-premiê Shinzo Abe morre após ser baleado no...   \n",
       "3  Relator no STF, Fachin vota contra marco tempo...   \n",
       "4  \\nApós 2 votos, pedido de vista suspende julga...   \n",
       "\n",
       "                                                body  \\\n",
       "0  Após audiência de custódia, a Justiça do Amazo...   \n",
       "1  Vista aérea de Santarém\\nÁdrio Denner/ AD Prod...   \n",
       "2  Novo vídeo mostra que assassino de Shinzo Abe ...   \n",
       "3  Relator no STF, Fachin vota contra marco tempo...   \n",
       "4  Após um pedido de vista (mais tempo para análi...   \n",
       "\n",
       "                                             caption  \n",
       "0  Jeferson da Silva Lima foi escoltado por agent...  \n",
       "1  As expressões santarenas não significam apenas...  \n",
       "2  Ex-primeiro-ministro foi atingido por tiros de...  \n",
       "3  Ministro defendeu que posse indígena é diferen...  \n",
       "4  Pelo marco temporal, índios só podem reivindic...  "
      ]
     },
     "execution_count": 10,
     "metadata": {},
     "output_type": "execute_result"
    }
   ],
   "source": [
    "df.head()"
   ]
  },
  {
   "cell_type": "code",
   "execution_count": 11,
   "metadata": {},
   "outputs": [
    {
     "name": "stdout",
     "output_type": "stream",
     "text": [
      "Texto transformado para minúsculas:\n",
      "                                   page  \\\n",
      "0  13db0ab1-eea2-4603-84c4-f40a876c7400   \n",
      "1  92907b73-5cd3-4184-8d8c-e206aed2bf1c   \n",
      "2  61e07f64-cddf-46f2-b50c-ea0a39c22050   \n",
      "3  30e2e6c5-554a-48ed-a35f-6c6691c8ac9b   \n",
      "4  9dff71eb-b681-40c7-ac8d-68017ac36675   \n",
      "\n",
      "                                                 url  \\\n",
      "0  http://g1.globo.com/am/amazonas/noticia/2022/0...   \n",
      "1  http://g1.globo.com/pa/santarem-regiao/noticia...   \n",
      "2  http://g1.globo.com/mundo/noticia/2022/07/08/e...   \n",
      "3  http://g1.globo.com/politica/noticia/2021/09/0...   \n",
      "4  http://g1.globo.com/politica/noticia/2021/09/1...   \n",
      "\n",
      "                     issued                   modified  \\\n",
      "0 2022-06-18 20:37:45+00:00  2023-04-15 00:02:08+00:00   \n",
      "1 2019-06-20 17:19:52+00:00  2023-06-16 20:19:15+00:00   \n",
      "2 2022-07-08 08:55:52+00:00  2023-04-15 04:25:39+00:00   \n",
      "3 2021-09-09 19:06:46+00:00  2023-06-07 17:44:54+00:00   \n",
      "4 2021-09-15 19:16:13+00:00  2023-06-07 17:43:39+00:00   \n",
      "\n",
      "                                               title  \\\n",
      "0  caso bruno e dom: 3º suspeito tem prisão tempo...   \n",
      "1  linguajar dos santarenos é diferenciado e chei...   \n",
      "2  ex-premiê shinzo abe morre após ser baleado no...   \n",
      "3  relator no stf, fachin vota contra marco tempo...   \n",
      "4  \\napós 2 votos, pedido de vista suspende julga...   \n",
      "\n",
      "                                                body  \\\n",
      "0  após audiência de custódia, a justiça do amazo...   \n",
      "1  vista aérea de santarém\\nádrio denner/ ad prod...   \n",
      "2  novo vídeo mostra que assassino de shinzo abe ...   \n",
      "3  relator no stf, fachin vota contra marco tempo...   \n",
      "4  após um pedido de vista (mais tempo para análi...   \n",
      "\n",
      "                                             caption  \n",
      "0  jeferson da silva lima foi escoltado por agent...  \n",
      "1  as expressões santarenas não significam apenas...  \n",
      "2  ex-primeiro-ministro foi atingido por tiros de...  \n",
      "3  ministro defendeu que posse indígena é diferen...  \n",
      "4  pelo marco temporal, índios só podem reivindic...  \n"
     ]
    }
   ],
   "source": [
    "# Transformando os textos em minúsculas\n",
    "for column in columns_to_clean:\n",
    "    if column in df.columns:\n",
    "        df[column] = df[column].str.lower()\n",
    "\n",
    "# Exibindo as primeiras linhas após a transformação\n",
    "print(\"Texto transformado para minúsculas:\")\n",
    "print(df.head())\n"
   ]
  },
  {
   "cell_type": "markdown",
   "metadata": {},
   "source": [
    "Normalizando unicode"
   ]
  },
  {
   "cell_type": "code",
   "execution_count": 12,
   "metadata": {},
   "outputs": [
    {
     "name": "stdout",
     "output_type": "stream",
     "text": [
      "                                   page  \\\n",
      "0  13db0ab1-eea2-4603-84c4-f40a876c7400   \n",
      "1  92907b73-5cd3-4184-8d8c-e206aed2bf1c   \n",
      "2  61e07f64-cddf-46f2-b50c-ea0a39c22050   \n",
      "3  30e2e6c5-554a-48ed-a35f-6c6691c8ac9b   \n",
      "4  9dff71eb-b681-40c7-ac8d-68017ac36675   \n",
      "\n",
      "                                                 url  \\\n",
      "0  http://g1.globo.com/am/amazonas/noticia/2022/0...   \n",
      "1  http://g1.globo.com/pa/santarem-regiao/noticia...   \n",
      "2  http://g1.globo.com/mundo/noticia/2022/07/08/e...   \n",
      "3  http://g1.globo.com/politica/noticia/2021/09/0...   \n",
      "4  http://g1.globo.com/politica/noticia/2021/09/1...   \n",
      "\n",
      "                     issued                   modified  \\\n",
      "0 2022-06-18 20:37:45+00:00  2023-04-15 00:02:08+00:00   \n",
      "1 2019-06-20 17:19:52+00:00  2023-06-16 20:19:15+00:00   \n",
      "2 2022-07-08 08:55:52+00:00  2023-04-15 04:25:39+00:00   \n",
      "3 2021-09-09 19:06:46+00:00  2023-06-07 17:44:54+00:00   \n",
      "4 2021-09-15 19:16:13+00:00  2023-06-07 17:43:39+00:00   \n",
      "\n",
      "                                               title  \\\n",
      "0  caso bruno e dom: 3o suspeito tem prisão tempo...   \n",
      "1  linguajar dos santarenos é diferenciado e chei...   \n",
      "2  ex-premiê shinzo abe morre após ser baleado no...   \n",
      "3  relator no stf, fachin vota contra marco tempo...   \n",
      "4  após 2 votos, pedido de vista suspende julgame...   \n",
      "\n",
      "                                                body  \\\n",
      "0  após audiência de custódia, a justiça do amazo...   \n",
      "1  vista aérea de santarém\\nádrio denner/ ad prod...   \n",
      "2  novo vídeo mostra que assassino de shinzo abe ...   \n",
      "3  relator no stf, fachin vota contra marco tempo...   \n",
      "4  após um pedido de vista (mais tempo para análi...   \n",
      "\n",
      "                                             caption  \n",
      "0  jeferson da silva lima foi escoltado por agent...  \n",
      "1  as expressões santarenas não significam apenas...  \n",
      "2  ex-primeiro-ministro foi atingido por tiros de...  \n",
      "3  ministro defendeu que posse indígena é diferen...  \n",
      "4  pelo marco temporal, índios só podem reivindic...  \n"
     ]
    }
   ],
   "source": [
    "\n",
    "# Função para normalizar texto Unicode\n",
    "def normalize_text(text):\n",
    "    if isinstance(text, str):\n",
    "        text = text.strip()  # Remover espaços extras no início e fim\n",
    "        text = unicodedata.normalize(\"NFKC\", text)  # Normalização Unicode\n",
    "    return text\n",
    "\n",
    "# Aplicar a normalização nas colunas desejadas\n",
    "columns_to_clean = [\"title\", \"body\", \"caption\"]\n",
    "\n",
    "for col in columns_to_clean:\n",
    "    if col in df.columns:\n",
    "        df[col] = df[col].apply(normalize_text)\n",
    "\n",
    "# Exibir as primeiras linhas após a normalização\n",
    "print(df.head())\n"
   ]
  },
  {
   "cell_type": "code",
   "execution_count": 13,
   "metadata": {},
   "outputs": [
    {
     "name": "stdout",
     "output_type": "stream",
     "text": [
      "                                   page  \\\n",
      "0  13db0ab1-eea2-4603-84c4-f40a876c7400   \n",
      "1  92907b73-5cd3-4184-8d8c-e206aed2bf1c   \n",
      "2  61e07f64-cddf-46f2-b50c-ea0a39c22050   \n",
      "3  30e2e6c5-554a-48ed-a35f-6c6691c8ac9b   \n",
      "4  9dff71eb-b681-40c7-ac8d-68017ac36675   \n",
      "\n",
      "                                                 url  \\\n",
      "0  http://g1.globo.com/am/amazonas/noticia/2022/0...   \n",
      "1  http://g1.globo.com/pa/santarem-regiao/noticia...   \n",
      "2  http://g1.globo.com/mundo/noticia/2022/07/08/e...   \n",
      "3  http://g1.globo.com/politica/noticia/2021/09/0...   \n",
      "4  http://g1.globo.com/politica/noticia/2021/09/1...   \n",
      "\n",
      "                     issued                   modified  \\\n",
      "0 2022-06-18 20:37:45+00:00  2023-04-15 00:02:08+00:00   \n",
      "1 2019-06-20 17:19:52+00:00  2023-06-16 20:19:15+00:00   \n",
      "2 2022-07-08 08:55:52+00:00  2023-04-15 04:25:39+00:00   \n",
      "3 2021-09-09 19:06:46+00:00  2023-06-07 17:44:54+00:00   \n",
      "4 2021-09-15 19:16:13+00:00  2023-06-07 17:43:39+00:00   \n",
      "\n",
      "                                               title  \\\n",
      "0  caso bruno e dom o suspeito tem prisão temporá...   \n",
      "1  linguajar dos santarenos é diferenciado e chei...   \n",
      "2  ex premiê shinzo abe morre após ser baleado no...   \n",
      "3  relator no stf fachin vota contra marco tempor...   \n",
      "4  após votos pedido de vista suspende julgamento...   \n",
      "\n",
      "                                                body  \\\n",
      "0  após audiência de custódia a justiça do amazon...   \n",
      "1  vista aérea de santarém ádrio denner ad produç...   \n",
      "2  novo vídeo mostra que assassino de shinzo abe ...   \n",
      "3  relator no stf fachin vota contra marco tempor...   \n",
      "4  após um pedido de vista mais tempo para anális...   \n",
      "\n",
      "                                             caption  \n",
      "0  jeferson da silva lima foi escoltado por agent...  \n",
      "1  as expressões santarenas não significam apenas...  \n",
      "2  ex primeiro ministro foi atingido por tiros de...  \n",
      "3  ministro defendeu que posse indígena é diferen...  \n",
      "4  pelo marco temporal índios só podem reivindica...  \n"
     ]
    }
   ],
   "source": [
    "# Função para remover caracteres de escape como \"\\r\" e \"\\n\"\n",
    "def remove_escape_chars(text):\n",
    "    return text.replace(\"\\r\", \" \").replace(\"\\n\", \" \") if isinstance(text, str) else text\n",
    "\n",
    "# Função para remover expressões regulares específicas (como URLs, menções e hashtags)\n",
    "def remove_regex_patterns(text, patterns):\n",
    "    if isinstance(text, str):\n",
    "        for pattern in patterns:\n",
    "            text = re.sub(pattern, '', text)\n",
    "    return text\n",
    "\n",
    "# Função para remover números\n",
    "def remove_numbers(text):\n",
    "    return re.sub(r'\\d+', '', text) if isinstance(text, str) else text\n",
    "\n",
    "# Função para remover pontuação (mantendo acentuação)\n",
    "def remove_punctuation(text):\n",
    "    return re.sub(r'[^\\w\\sáàãâäéèêëíìîïóòôõöúùûüç]', '', text) if isinstance(text, str) else text\n",
    "\n",
    "# Função para remover espaços extras\n",
    "def remove_extra_spaces(text):\n",
    "    return ' '.join(text.split()) if isinstance(text, str) else text\n",
    "\n",
    "# Função para substituir hífens por espaços\n",
    "def replace_hyphens(text):\n",
    "    return re.sub(r'(?<=\\w)-(?=\\w)', ' ', text) if isinstance(text, str) else text\n",
    "\n",
    "# Função para remover colchetes e seu conteúdo\n",
    "def remove_brackets(text):\n",
    "    return re.sub(r'\\[.*?\\]', '', text) if isinstance(text, str) else text\n",
    "\n",
    "#  Função para remover underscores\n",
    "def remove_underscores(text):\n",
    "    return text.replace(\"_\", \"\") if isinstance(text, str) else text\n",
    "\n",
    "# Função para remover emojis usando regex\n",
    "def remove_emojis(text):\n",
    "    if isinstance(text, str):\n",
    "        emoji_pattern = re.compile(\n",
    "            \"[\\U0001F600-\\U0001F64F\"  # Emoticons\n",
    "            \"\\U0001F300-\\U0001F5FF\"  # Símbolos e pictogramas\n",
    "            \"\\U0001F680-\\U0001F6FF\"  # Transportes e símbolos adicionais\n",
    "            \"\\U0001F1E0-\\U0001F1FF\"  # Bandeiras (sub-regiões)\n",
    "            \"\\U00002500-\\U00002BEF\"  # Outros símbolos\n",
    "            \"\\U00002700-\\U000027BF\"  # Dingbats\n",
    "            \"\\U0001F900-\\U0001F9FF\"  # Suplementos de emojis\n",
    "            \"\\U0001FA70-\\U0001FAFF\"  # Suplementos adicionais\n",
    "            \"\\U00002600-\\U000026FF\"  # Diversos símbolos (como ♪)\n",
    "            \"\\U0001F000-\\U0001F02F\"  # Cartas de jogo\n",
    "            \"]+\",\n",
    "            flags=re.UNICODE,\n",
    "        )\n",
    "        return emoji_pattern.sub(r\"\", text)  # Remove emojis\n",
    "    return text  # Retorna o valor original se não for uma string\n",
    "\n",
    "# Padrões regex a serem removidos\n",
    "regex_patterns = [\n",
    "    r\"http\\S+\",   # URLs\n",
    "    r\"@\\w+\",      # Menções (@user)\n",
    "    r\"#\\w+\",      # Hashtags (#palavra)\n",
    "    r\"º\",         # Caractere º\n",
    "]\n",
    "\n",
    "# Aplicando as funções de pré-processamento nas colunas\n",
    "columns_to_clean = [\"title\", \"body\", \"caption\"]\n",
    "\n",
    "for column in columns_to_clean:\n",
    "    if column in df.columns:\n",
    "        df[column] = df[column].astype(str)                   # Converter para string (evita erros)\n",
    "        df[column] = df[column].apply(remove_escape_chars)    # Remover caracteres como \\r e \\n\n",
    "        df[column] = df[column].apply(replace_hyphens)        # Substituir hífens por espaços\n",
    "        df[column] = df[column].apply(lambda x: remove_regex_patterns(x, regex_patterns))  # Remover padrões regex\n",
    "        df[column] = df[column].apply(remove_numbers)         # Remover números\n",
    "        df[column] = df[column].apply(remove_punctuation)     # Remover pontuação\n",
    "        df[column] = df[column].apply(remove_brackets)        # Remover colchetes e conteúdo dentro deles\n",
    "        df[column] = df[column].apply(remove_underscores)     # Remover underscores\n",
    "        df[column] = df[column].apply(remove_emojis)          # Remover emojis\n",
    "        df[column] = df[column].apply(remove_extra_spaces)    # Remover espaços extras\n",
    "\n",
    "# Exibir as primeiras linhas após o pré-processamento\n",
    "print(df.head())\n"
   ]
  },
  {
   "cell_type": "markdown",
   "metadata": {},
   "source": [
    "tokenização e remoção de stopwords"
   ]
  },
  {
   "cell_type": "code",
   "execution_count": 14,
   "metadata": {},
   "outputs": [
    {
     "name": "stdout",
     "output_type": "stream",
     "text": [
      "                                   page  \\\n",
      "0  13db0ab1-eea2-4603-84c4-f40a876c7400   \n",
      "1  92907b73-5cd3-4184-8d8c-e206aed2bf1c   \n",
      "2  61e07f64-cddf-46f2-b50c-ea0a39c22050   \n",
      "3  30e2e6c5-554a-48ed-a35f-6c6691c8ac9b   \n",
      "4  9dff71eb-b681-40c7-ac8d-68017ac36675   \n",
      "\n",
      "                                                 url  \\\n",
      "0  http://g1.globo.com/am/amazonas/noticia/2022/0...   \n",
      "1  http://g1.globo.com/pa/santarem-regiao/noticia...   \n",
      "2  http://g1.globo.com/mundo/noticia/2022/07/08/e...   \n",
      "3  http://g1.globo.com/politica/noticia/2021/09/0...   \n",
      "4  http://g1.globo.com/politica/noticia/2021/09/1...   \n",
      "\n",
      "                     issued                   modified  \\\n",
      "0 2022-06-18 20:37:45+00:00  2023-04-15 00:02:08+00:00   \n",
      "1 2019-06-20 17:19:52+00:00  2023-06-16 20:19:15+00:00   \n",
      "2 2022-07-08 08:55:52+00:00  2023-04-15 04:25:39+00:00   \n",
      "3 2021-09-09 19:06:46+00:00  2023-06-07 17:44:54+00:00   \n",
      "4 2021-09-15 19:16:13+00:00  2023-06-07 17:43:39+00:00   \n",
      "\n",
      "                                               title  \\\n",
      "0  caso bruno dom suspeito prisão temporária decr...   \n",
      "1  linguajar santarenos diferenciado cheio identi...   \n",
      "2      ex premiê shinzo abe morre após baleado japão   \n",
      "3  relator stf fachin vota contra marco temporal ...   \n",
      "4  após votos pedido vista suspende julgamento st...   \n",
      "\n",
      "                                                body  \\\n",
      "0  após audiência custódia justiça amazonas decre...   \n",
      "1  vista aérea santarém ádrio denner ad produções...   \n",
      "2  novo vídeo mostra assassino shinzo abe atirou ...   \n",
      "3  relator stf fachin vota contra marco temporal ...   \n",
      "4  após pedido vista tempo análise processo minis...   \n",
      "\n",
      "                                             caption  \n",
      "0  jeferson silva lima escoltado agentes polícia ...  \n",
      "1  expressões santarenas significam apenas sim in...  \n",
      "2  ex primeiro ministro atingido tiros espingarda...  \n",
      "3  ministro defendeu posse indígena diferente pos...  \n",
      "4  marco temporal índios podem reivindicar demarc...  \n"
     ]
    }
   ],
   "source": [
    "# Função para tokenizar o texto\n",
    "def tokenize_text(text):\n",
    "    return word_tokenize(text) if isinstance(text, str) else []\n",
    "\n",
    "#  Função para remover stopwords de uma lista de tokens\n",
    "def remove_stopwords(tokens, language='portuguese'):\n",
    "    stop_words = set(stopwords.words(language))  # Definir as stopwords para o idioma desejado\n",
    "    return [word for word in tokens if word.lower() not in stop_words]  # Remove stopwords e converte para minúsculas\n",
    "\n",
    "# Aplicando tokenização e remoção de stopwords no DataFrame\n",
    "for column in columns_to_clean:\n",
    "    if column in df.columns:\n",
    "        df[column] = df[column].apply(lambda x: ' '.join(remove_stopwords(tokenize_text(str(x)))))\n",
    "\n",
    "# Exibir as primeiras linhas do DataFrame após a limpeza\n",
    "print(df.head())"
   ]
  },
  {
   "cell_type": "markdown",
   "metadata": {},
   "source": []
  },
  {
   "cell_type": "code",
   "execution_count": 15,
   "metadata": {},
   "outputs": [
    {
     "name": "stdout",
     "output_type": "stream",
     "text": [
      "                                   page  \\\n",
      "0  13db0ab1-eea2-4603-84c4-f40a876c7400   \n",
      "1  92907b73-5cd3-4184-8d8c-e206aed2bf1c   \n",
      "2  61e07f64-cddf-46f2-b50c-ea0a39c22050   \n",
      "3  30e2e6c5-554a-48ed-a35f-6c6691c8ac9b   \n",
      "4  9dff71eb-b681-40c7-ac8d-68017ac36675   \n",
      "\n",
      "                                                 url  \\\n",
      "0  http://g1.globo.com/am/amazonas/noticia/2022/0...   \n",
      "1  http://g1.globo.com/pa/santarem-regiao/noticia...   \n",
      "2  http://g1.globo.com/mundo/noticia/2022/07/08/e...   \n",
      "3  http://g1.globo.com/politica/noticia/2021/09/0...   \n",
      "4  http://g1.globo.com/politica/noticia/2021/09/1...   \n",
      "\n",
      "                     issued                   modified  \\\n",
      "0 2022-06-18 20:37:45+00:00  2023-04-15 00:02:08+00:00   \n",
      "1 2019-06-20 17:19:52+00:00  2023-06-16 20:19:15+00:00   \n",
      "2 2022-07-08 08:55:52+00:00  2023-04-15 04:25:39+00:00   \n",
      "3 2021-09-09 19:06:46+00:00  2023-06-07 17:44:54+00:00   \n",
      "4 2021-09-15 19:16:13+00:00  2023-06-07 17:43:39+00:00   \n",
      "\n",
      "                                               title  \\\n",
      "0  caso bruno dom suspeito prisão temporário decr...   \n",
      "1  linguajar santareno diferenciar cheio identida...   \n",
      "2           ex premiê shinzo abe morrer balear Japão   \n",
      "3  relator stf fachin vota marco temporal demarca...   \n",
      "4  voto pedir vista suspender julgamento stf dema...   \n",
      "\n",
      "                                                body  \\\n",
      "0  audiência custódio Justiça amazona decretar sá...   \n",
      "1  vista aéreo santarém ádrio Denner ad produção ...   \n",
      "2  vídeo mostrar assassino shinzo abe atirar cost...   \n",
      "3  relator stf fachin vota marco temporal demarca...   \n",
      "4  pedir vista análiser processo ministro Alexand...   \n",
      "\n",
      "                                             caption  \n",
      "0  Jeferson Silva lima escoltar agente polícia fe...  \n",
      "1  expressão santareno significar significar cois...  \n",
      "2  ex ministro atingir tiro espingardo caseira di...  \n",
      "3  ministro defender posse indígena diferente pos...  \n",
      "4  marco temporal índio reivindicar demarcação te...  \n"
     ]
    }
   ],
   "source": [
    "# Função para lematizar texto com POS usando Spacy\n",
    "def lemmatize_text(text):\n",
    "    if isinstance(text, str):  # Garantir que a entrada seja uma string\n",
    "        doc = nlp(text)  # Processar o texto com Spacy\n",
    "        lemmatized_tokens = [token.lemma_ for token in doc if not token.is_stop]  # Lematizar e remover stopwords\n",
    "        return ' '.join(lemmatized_tokens)  # Retornar texto limpo\n",
    "    return text  # Retornar valor original caso não seja string\n",
    "\n",
    "# Aplicando a função de lematização no DataFrame\n",
    "for column in columns_to_clean:\n",
    "    if column in df.columns:\n",
    "        df[column] = df[column].apply(lemmatize_text)\n",
    "\n",
    "# Exibir as primeiras linhas do DataFrame após o pré-processamento\n",
    "print(df.head())"
   ]
  },
  {
   "cell_type": "code",
   "execution_count": 18,
   "metadata": {},
   "outputs": [
    {
     "name": "stdout",
     "output_type": "stream",
     "text": [
      "Arquivo CSV salvo com sucesso!\n"
     ]
    }
   ],
   "source": [
    "# Salvar o DataFrame processado em um arquivo CSV\n",
    "df.to_csv('../data/preprocessed/itens/dados_preprocessados.csv', index=False)\n",
    "\n",
    "print(\"Arquivo CSV salvo com sucesso!\")\n"
   ]
  }
 ],
 "metadata": {
  "kernelspec": {
   "display_name": "Python 3",
   "language": "python",
   "name": "python3"
  },
  "language_info": {
   "codemirror_mode": {
    "name": "ipython",
    "version": 3
   },
   "file_extension": ".py",
   "mimetype": "text/x-python",
   "name": "python",
   "nbconvert_exporter": "python",
   "pygments_lexer": "ipython3",
   "version": "3.11.9"
  }
 },
 "nbformat": 4,
 "nbformat_minor": 2
}
