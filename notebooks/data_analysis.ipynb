{
 "cells": [
  {
   "cell_type": "markdown",
   "metadata": {},
   "source": [
    "# Análise dos dados"
   ]
  },
  {
   "cell_type": "markdown",
   "metadata": {},
   "source": [
    "## Sobre a análise"
   ]
  },
  {
   "cell_type": "markdown",
   "metadata": {},
   "source": [
    "Temos três tipos de dados neste projeto:\n",
    "\n",
    "1. Dados de treino\n",
    "2. Dados de validação\n",
    "3. Itens complementares\n",
    "\n",
    "Os dados de treino e de validação representam informações sobre os usuários do G1, falando sobre o tipo de usuário e o histórico de acesso de notícias dele.\\\n",
    "Já os itens complementares são dados sobre as páginas de notícias do G1: data de publicação e o conteúdo da notícia (título, subtítulo e corpo)."
   ]
  },
  {
   "cell_type": "markdown",
   "metadata": {},
   "source": [
    "O objetivo neste notebook é responder algumas perguntas sobre os dados, a fim de descobrir quais tratamentos precisaremos realizar e quais features novas poderemos criar.\n",
    "\n",
    "Ao final, iremos mostrar as conclusões que chegamos através da análise de cada um dos tipos de dados."
   ]
  },
  {
   "cell_type": "markdown",
   "metadata": {},
   "source": [
    "## Configuração"
   ]
  },
  {
   "cell_type": "code",
   "execution_count": 1,
   "metadata": {},
   "outputs": [],
   "source": [
    "from pathlib import Path\n",
    "\n",
    "import pandas as pd"
   ]
  },
  {
   "cell_type": "markdown",
   "metadata": {},
   "source": [
    "Temos vários tipos de dados que são considerados strings e queremos utilizar o tipo correto para processá-los, por isso vamos utilizar o `infer_string` do Pandas. Isso irá fazer com que as strings recebam o tipo `\"string[pyarrow]\"`, que processa as strings de uma forma mais eficiente do que o NumPy."
   ]
  },
  {
   "cell_type": "code",
   "execution_count": 2,
   "metadata": {},
   "outputs": [],
   "source": [
    "pd.options.future.infer_string = True  # type: ignore[attr-defined]"
   ]
  },
  {
   "cell_type": "code",
   "execution_count": 3,
   "metadata": {},
   "outputs": [],
   "source": [
    "import pyarrow.csv as pv\n",
    "\n",
    "\n",
    "def read_csv_pyarrow(path: Path) -> pd.DataFrame:\n",
    "    \"\"\"Read a CSV file with PyArrow as backend.\n",
    "\n",
    "    Args:\n",
    "        path (Path): the CSV file path\n",
    "\n",
    "    Returns:\n",
    "        pd.DataFrame: a Pandas DataFrame\n",
    "\n",
    "    \"\"\"\n",
    "    try:\n",
    "        return pd.read_csv(\n",
    "            path,\n",
    "            engine=\"pyarrow\",\n",
    "            dtype_backend=\"pyarrow\",\n",
    "        )\n",
    "    except pd.errors.ParserError:\n",
    "        return pv.read_csv(\n",
    "            path,\n",
    "            parse_options=pv.ParseOptions(newlines_in_values=True),\n",
    "        ).to_pandas(types_mapper=pd.ArrowDtype)"
   ]
  },
  {
   "cell_type": "markdown",
   "metadata": {},
   "source": [
    "## Análise dos dados de treino"
   ]
  },
  {
   "cell_type": "code",
   "execution_count": 4,
   "metadata": {},
   "outputs": [
    {
     "data": {
      "text/html": [
       "<div>\n",
       "<style scoped>\n",
       "    .dataframe tbody tr th:only-of-type {\n",
       "        vertical-align: middle;\n",
       "    }\n",
       "\n",
       "    .dataframe tbody tr th {\n",
       "        vertical-align: top;\n",
       "    }\n",
       "\n",
       "    .dataframe thead th {\n",
       "        text-align: right;\n",
       "    }\n",
       "</style>\n",
       "<table border=\"1\" class=\"dataframe\">\n",
       "  <thead>\n",
       "    <tr style=\"text-align: right;\">\n",
       "      <th></th>\n",
       "      <th>userId</th>\n",
       "      <th>userType</th>\n",
       "      <th>historySize</th>\n",
       "      <th>history</th>\n",
       "      <th>timestampHistory</th>\n",
       "      <th>numberOfClicksHistory</th>\n",
       "      <th>timeOnPageHistory</th>\n",
       "      <th>scrollPercentageHistory</th>\n",
       "      <th>pageVisitsCountHistory</th>\n",
       "      <th>timestampHistory_new</th>\n",
       "    </tr>\n",
       "  </thead>\n",
       "  <tbody>\n",
       "    <tr>\n",
       "      <th>0</th>\n",
       "      <td>acf7fbca426d323f580adddb4fa0f73598294df91cdaee...</td>\n",
       "      <td>Non-Logged</td>\n",
       "      <td>1</td>\n",
       "      <td>d6644c32-5828-4f88-ba44-a8d74c01d7bf</td>\n",
       "      <td>1657303857108</td>\n",
       "      <td>24</td>\n",
       "      <td>48232</td>\n",
       "      <td>47.5</td>\n",
       "      <td>1</td>\n",
       "      <td>1657303857108</td>\n",
       "    </tr>\n",
       "    <tr>\n",
       "      <th>1</th>\n",
       "      <td>0972299721e32759020a313bd97dcee19227fc3dd23164...</td>\n",
       "      <td>Non-Logged</td>\n",
       "      <td>1</td>\n",
       "      <td>68510c52-5530-4c89-9a8a-0ee36ab61546</td>\n",
       "      <td>1660338410977</td>\n",
       "      <td>0</td>\n",
       "      <td>10000</td>\n",
       "      <td>9.24</td>\n",
       "      <td>1</td>\n",
       "      <td>1660338410977</td>\n",
       "    </tr>\n",
       "  </tbody>\n",
       "</table>\n",
       "</div>"
      ],
      "text/plain": [
       "                                              userId    userType  historySize  \\\n",
       "0  acf7fbca426d323f580adddb4fa0f73598294df91cdaee...  Non-Logged            1   \n",
       "1  0972299721e32759020a313bd97dcee19227fc3dd23164...  Non-Logged            1   \n",
       "\n",
       "                                history timestampHistory  \\\n",
       "0  d6644c32-5828-4f88-ba44-a8d74c01d7bf    1657303857108   \n",
       "1  68510c52-5530-4c89-9a8a-0ee36ab61546    1660338410977   \n",
       "\n",
       "  numberOfClicksHistory timeOnPageHistory scrollPercentageHistory  \\\n",
       "0                    24             48232                    47.5   \n",
       "1                     0             10000                    9.24   \n",
       "\n",
       "  pageVisitsCountHistory timestampHistory_new  \n",
       "0                      1        1657303857108  \n",
       "1                      1        1660338410977  "
      ]
     },
     "execution_count": 4,
     "metadata": {},
     "output_type": "execute_result"
    }
   ],
   "source": [
    "train_path = \"../data/raw/files/treino/*.csv\"\n",
    "train_files = Path.cwd().glob(train_path)\n",
    "\n",
    "train = pd.concat(\n",
    "    (read_csv_pyarrow(file) for file in train_files),\n",
    "    ignore_index=True,\n",
    ")\n",
    "\n",
    "train.head(2)"
   ]
  },
  {
   "cell_type": "code",
   "execution_count": 5,
   "metadata": {},
   "outputs": [
    {
     "name": "stdout",
     "output_type": "stream",
     "text": [
      "<class 'pandas.core.frame.DataFrame'>\n",
      "RangeIndex: 577942 entries, 0 to 577941\n",
      "Data columns (total 10 columns):\n",
      " #   Column                   Non-Null Count   Dtype          \n",
      "---  ------                   --------------   -----          \n",
      " 0   userId                   577942 non-null  string[pyarrow]\n",
      " 1   userType                 577942 non-null  string[pyarrow]\n",
      " 2   historySize              577942 non-null  int64[pyarrow] \n",
      " 3   history                  577942 non-null  string[pyarrow]\n",
      " 4   timestampHistory         577942 non-null  string[pyarrow]\n",
      " 5   numberOfClicksHistory    577942 non-null  string[pyarrow]\n",
      " 6   timeOnPageHistory        577942 non-null  string[pyarrow]\n",
      " 7   scrollPercentageHistory  577942 non-null  string[pyarrow]\n",
      " 8   pageVisitsCountHistory   577942 non-null  string[pyarrow]\n",
      " 9   timestampHistory_new     577942 non-null  string[pyarrow]\n",
      "dtypes: int64[pyarrow](1), string[pyarrow](9)\n",
      "memory usage: 743.7 MB\n"
     ]
    }
   ],
   "source": [
    "train.info()"
   ]
  },
  {
   "cell_type": "markdown",
   "metadata": {},
   "source": [
    "Temos 10 colunas diferentes, sendo elas, segundo a própria documentação da FIAP:\n",
    "\n",
    "- `userId`: id do usuário.\n",
    "- `userType`: usuário logado ou anônimo.\n",
    "- `historySize`: quantidade de notícias lidas pelo usuário.\n",
    "- `history`: lista de notícias visitadas pelo usuário.\n",
    "- `timestampHistory`: momento em que o usuário visitou a página.\n",
    "- `timeOnPageHistory`: quantidade de ms em que o usuário ficou na página.\n",
    "- `numberOfClicksHistory`: quantidade de clicks na matéria.\n",
    "- `scrollPercentageHistory`: quanto o usuário visualizou da matéria.\n",
    "- `pageVisitsCountHistory`: quantidade de vezes que o usuário visitou a matéria."
   ]
  },
  {
   "cell_type": "markdown",
   "metadata": {},
   "source": [
    "Por mais que não esteja no enunciado do projeto, também existe a coluna `timestampHistory_new` no dataset, mas parece ser um erro de coluna duplicada, já que seu valor é idêntico ao da coluna `timestampHistory`."
   ]
  },
  {
   "cell_type": "code",
   "execution_count": 6,
   "metadata": {},
   "outputs": [
    {
     "data": {
      "text/plain": [
       "'Há algum valor diferente quando comparamos as `timestampHistory`?'"
      ]
     },
     "metadata": {},
     "output_type": "display_data"
    },
    {
     "data": {
      "text/plain": [
       "False"
      ]
     },
     "metadata": {},
     "output_type": "display_data"
    }
   ],
   "source": [
    "display(\n",
    "    \"Há algum valor diferente quando comparamos as `timestampHistory`?\",\n",
    "    (train[\"timestampHistory\"] != train[\"timestampHistory_new\"]).any(),\n",
    ")"
   ]
  },
  {
   "cell_type": "markdown",
   "metadata": {},
   "source": [
    "Sendo assim, iremos remover a coluna:"
   ]
  },
  {
   "cell_type": "code",
   "execution_count": 7,
   "metadata": {},
   "outputs": [
    {
     "data": {
      "text/html": [
       "<div>\n",
       "<style scoped>\n",
       "    .dataframe tbody tr th:only-of-type {\n",
       "        vertical-align: middle;\n",
       "    }\n",
       "\n",
       "    .dataframe tbody tr th {\n",
       "        vertical-align: top;\n",
       "    }\n",
       "\n",
       "    .dataframe thead th {\n",
       "        text-align: right;\n",
       "    }\n",
       "</style>\n",
       "<table border=\"1\" class=\"dataframe\">\n",
       "  <thead>\n",
       "    <tr style=\"text-align: right;\">\n",
       "      <th></th>\n",
       "      <th>userId</th>\n",
       "      <th>userType</th>\n",
       "      <th>historySize</th>\n",
       "      <th>history</th>\n",
       "      <th>timestampHistory</th>\n",
       "      <th>numberOfClicksHistory</th>\n",
       "      <th>timeOnPageHistory</th>\n",
       "      <th>scrollPercentageHistory</th>\n",
       "      <th>pageVisitsCountHistory</th>\n",
       "    </tr>\n",
       "  </thead>\n",
       "  <tbody>\n",
       "    <tr>\n",
       "      <th>0</th>\n",
       "      <td>acf7fbca426d323f580adddb4fa0f73598294df91cdaee...</td>\n",
       "      <td>Non-Logged</td>\n",
       "      <td>1</td>\n",
       "      <td>d6644c32-5828-4f88-ba44-a8d74c01d7bf</td>\n",
       "      <td>1657303857108</td>\n",
       "      <td>24</td>\n",
       "      <td>48232</td>\n",
       "      <td>47.5</td>\n",
       "      <td>1</td>\n",
       "    </tr>\n",
       "  </tbody>\n",
       "</table>\n",
       "</div>"
      ],
      "text/plain": [
       "                                              userId    userType  historySize  \\\n",
       "0  acf7fbca426d323f580adddb4fa0f73598294df91cdaee...  Non-Logged            1   \n",
       "\n",
       "                                history timestampHistory  \\\n",
       "0  d6644c32-5828-4f88-ba44-a8d74c01d7bf    1657303857108   \n",
       "\n",
       "  numberOfClicksHistory timeOnPageHistory scrollPercentageHistory  \\\n",
       "0                    24             48232                    47.5   \n",
       "\n",
       "  pageVisitsCountHistory  \n",
       "0                      1  "
      ]
     },
     "execution_count": 7,
     "metadata": {},
     "output_type": "execute_result"
    }
   ],
   "source": [
    "train = train.drop(columns=[\"timestampHistory_new\"])\n",
    "train.head(1)"
   ]
  },
  {
   "cell_type": "markdown",
   "metadata": {},
   "source": [
    "**Temos usuários iguais/duplicados no dataset?**\\\n",
    "Dependendo da forma que o G1 lida com os dados, talvez existam usuários com `userId` iguais, mas cada um com um `userType` diferente."
   ]
  },
  {
   "cell_type": "code",
   "execution_count": 8,
   "metadata": {},
   "outputs": [
    {
     "data": {
      "text/plain": [
       "np.int64(0)"
      ]
     },
     "metadata": {},
     "output_type": "display_data"
    },
    {
     "data": {
      "text/plain": [
       "np.int64(0)"
      ]
     },
     "metadata": {},
     "output_type": "display_data"
    }
   ],
   "source": [
    "display(train.duplicated().sum())\n",
    "display(train.duplicated(subset=[\"userId\"]).sum())"
   ]
  },
  {
   "cell_type": "markdown",
   "metadata": {},
   "source": [
    "O CSV apenas separa por vírgulas as colunas que são listas. Isso faz com que elas sejam interpretadas pelo tipo \"string\" quando são lidar pela engine do Pandas com PyArrow. Sendo assim, é bom convertê-las para conseguirmos utilizar métodos de listas nelas nas análises."
   ]
  },
  {
   "cell_type": "code",
   "execution_count": 9,
   "metadata": {},
   "outputs": [],
   "source": [
    "list_columns = [\n",
    "    \"history\",\n",
    "    \"timestampHistory\",\n",
    "    \"numberOfClicksHistory\",\n",
    "    \"timeOnPageHistory\",\n",
    "    \"scrollPercentageHistory\",\n",
    "    \"pageVisitsCountHistory\",\n",
    "]\n",
    "\n",
    "train[list_columns] = train[list_columns].apply(lambda x: x.str.split(\", \"))"
   ]
  },
  {
   "cell_type": "code",
   "execution_count": 10,
   "metadata": {},
   "outputs": [
    {
     "name": "stdout",
     "output_type": "stream",
     "text": [
      "<class 'pandas.core.frame.DataFrame'>\n",
      "RangeIndex: 577942 entries, 0 to 577941\n",
      "Data columns (total 9 columns):\n",
      " #   Column                   Non-Null Count   Dtype                      \n",
      "---  ------                   --------------   -----                      \n",
      " 0   userId                   577942 non-null  string[pyarrow]            \n",
      " 1   userType                 577942 non-null  string[pyarrow]            \n",
      " 2   historySize              577942 non-null  int64[pyarrow]             \n",
      " 3   history                  577942 non-null  list<item: string>[pyarrow]\n",
      " 4   timestampHistory         577942 non-null  list<item: string>[pyarrow]\n",
      " 5   numberOfClicksHistory    577942 non-null  list<item: string>[pyarrow]\n",
      " 6   timeOnPageHistory        577942 non-null  list<item: string>[pyarrow]\n",
      " 7   scrollPercentageHistory  577942 non-null  list<item: string>[pyarrow]\n",
      " 8   pageVisitsCountHistory   577942 non-null  list<item: string>[pyarrow]\n",
      "dtypes: int64[pyarrow](1), list<item: string>[pyarrow](6), string[pyarrow](2)\n",
      "memory usage: 726.4 MB\n"
     ]
    }
   ],
   "source": [
    "train.info()"
   ]
  },
  {
   "cell_type": "markdown",
   "metadata": {},
   "source": [
    "O usuário só pode estar logado ou deslogado (usuário anônimo/sem uma conta). Com essa informação, futuramente este campo pode ser tratado para virar um inteiro, sendo 1 (logados) e 0 (deslogados).\n",
    "\n",
    "O dataset está longe de estar balanceado pelo tipo do usuário. Tem-se quase 80% da base com usuários `Non-Loged`, isso já nos mostra que muitas pessoas acessam as notícias sem login ou criação de uma conta."
   ]
  },
  {
   "cell_type": "code",
   "execution_count": 11,
   "metadata": {},
   "outputs": [
    {
     "data": {
      "text/plain": [
       "userType\n",
       "Non-Logged    79.394818\n",
       "Logged        20.605182\n",
       "Name: proportion, dtype: double[pyarrow]"
      ]
     },
     "execution_count": 11,
     "metadata": {},
     "output_type": "execute_result"
    }
   ],
   "source": [
    "train[\"userType\"].value_counts(normalize=True) * 100"
   ]
  },
  {
   "cell_type": "markdown",
   "metadata": {},
   "source": [
    "**Todas as listas possuem o mesmo tamanho?**\\\n",
    "Como elas falam sobre o histórico do usuário, o correto é que cada lista em cada linha tenha o mesmo tamanho que aparece na coluna `historySize`.\n",
    "\n",
    "- Sim! Fizemos uma função que compara o tamanho em `historySize` com o tamanho das listas que temos no dataframe. Ela retornou `True`, indicando que todas as listas possuem o tamanho correto.\n"
   ]
  },
  {
   "cell_type": "code",
   "execution_count": 12,
   "metadata": {},
   "outputs": [
    {
     "data": {
      "text/plain": [
       "True"
      ]
     },
     "execution_count": 12,
     "metadata": {},
     "output_type": "execute_result"
    }
   ],
   "source": [
    "def check_size(row: pd.Series, size: int, list_columns: list[str]) -> bool:\n",
    "    \"\"\"Check if the len of `historySize` is equal to the len of other columns.\n",
    "\n",
    "    Args:\n",
    "        row (pd.Series): the row containing the columns in `list_columns`\n",
    "        size (int): the size to be checked\n",
    "        list_columns (list[str]): list with column names of the dataframe\n",
    "\n",
    "    Returns:\n",
    "        bool: result of the comparison, returns True if equal.\n",
    "\n",
    "    \"\"\"\n",
    "    return all(len(row[col_list]) == size for col_list in list_columns)\n",
    "\n",
    "\n",
    "all(train.apply(lambda x: check_size(x, x[\"historySize\"], list_columns), axis=1))"
   ]
  },
  {
   "cell_type": "markdown",
   "metadata": {},
   "source": [
    "**Todos os usuários possuem ao menos um valor em seu histórico de acesso?**\\\n",
    "Isso é relevante para entender quando o G1 começa a monitorar o usuário: é assim que ele entra em qualquer página ou somente quando acessa sua primeira notícia?\n",
    "\n",
    "Vendo que todos os usuários possuem algum valor em seu `history`, isso já fica claro que é a partir da primeira notícia que o monitoramento começa. Todos os usuários possuem algum histórico, mesmo que seja de apenas uma notícia."
   ]
  },
  {
   "cell_type": "code",
   "execution_count": 13,
   "metadata": {},
   "outputs": [
    {
     "data": {
      "text/plain": [
       "True"
      ]
     },
     "execution_count": 13,
     "metadata": {},
     "output_type": "execute_result"
    }
   ],
   "source": [
    "all(train[\"history\"].apply(len) > 0)"
   ]
  },
  {
   "cell_type": "code",
   "execution_count": 14,
   "metadata": {},
   "outputs": [
    {
     "data": {
      "text/plain": [
       "count     577942.0\n",
       "mean     14.056689\n",
       "std      46.037793\n",
       "min            1.0\n",
       "25%            1.0\n",
       "50%            2.0\n",
       "75%            6.0\n",
       "max         7004.0\n",
       "Name: historySize, dtype: double[pyarrow]"
      ]
     },
     "execution_count": 14,
     "metadata": {},
     "output_type": "execute_result"
    }
   ],
   "source": [
    "train[\"historySize\"].describe()"
   ]
  },
  {
   "cell_type": "code",
   "execution_count": 15,
   "metadata": {},
   "outputs": [
    {
     "data": {
      "text/plain": [
       "2.0"
      ]
     },
     "execution_count": 15,
     "metadata": {},
     "output_type": "execute_result"
    }
   ],
   "source": [
    "train[\"historySize\"].median()"
   ]
  },
  {
   "cell_type": "markdown",
   "metadata": {},
   "source": [
    "O tamanho do histórico possui 14 de média e 2 de mediana, indicando que alguns usuários possuem um valor de histórico bem alto na base. Os percentis baixos junto com o tamanho máximo alto também indica isso.\n",
    "\n",
    "Infelizmente, como não há uma coluna indicando a data de início que o usuário começou a ter seu histórico monitorado, não temos como saber se o tamanho do histórico dele é proporcional ao tempo que ele acessa o G1."
   ]
  },
  {
   "cell_type": "code",
   "execution_count": 16,
   "metadata": {},
   "outputs": [
    {
     "data": {
      "text/plain": [
       "'Há 135 usuários com um histórico maior ou igual que 800. Temos 577942 usuários na base.'"
      ]
     },
     "metadata": {},
     "output_type": "display_data"
    },
    {
     "data": {
      "text/html": [
       "<div>\n",
       "<style scoped>\n",
       "    .dataframe tbody tr th:only-of-type {\n",
       "        vertical-align: middle;\n",
       "    }\n",
       "\n",
       "    .dataframe tbody tr th {\n",
       "        vertical-align: top;\n",
       "    }\n",
       "\n",
       "    .dataframe thead th {\n",
       "        text-align: right;\n",
       "    }\n",
       "</style>\n",
       "<table border=\"1\" class=\"dataframe\">\n",
       "  <thead>\n",
       "    <tr style=\"text-align: right;\">\n",
       "      <th></th>\n",
       "      <th>userId</th>\n",
       "      <th>userType</th>\n",
       "      <th>historySize</th>\n",
       "      <th>history</th>\n",
       "      <th>timestampHistory</th>\n",
       "      <th>numberOfClicksHistory</th>\n",
       "      <th>timeOnPageHistory</th>\n",
       "      <th>scrollPercentageHistory</th>\n",
       "      <th>pageVisitsCountHistory</th>\n",
       "    </tr>\n",
       "  </thead>\n",
       "  <tbody>\n",
       "    <tr>\n",
       "      <th>433750</th>\n",
       "      <td>1b9bf55cf5c0d7ba34e8925dbbc98da17c5ab360d907c5...</td>\n",
       "      <td>Non-Logged</td>\n",
       "      <td>7004</td>\n",
       "      <td>['26b69894-5e12-4e11-b36a-94e6ec3172a0'\n",
       " '9277...</td>\n",
       "      <td>['1658713338344' '1658713440930' '165871481029...</td>\n",
       "      <td>['0' '20' '1' ... '0' '0' '0']</td>\n",
       "      <td>['136395' '290000' '160971' ... '10000' '10000...</td>\n",
       "      <td>['15.77' '12.72' '4.26' ... '6.19' '6.38' '7.95']</td>\n",
       "      <td>['5' '5' '9' ... '1' '1' '1']</td>\n",
       "    </tr>\n",
       "    <tr>\n",
       "      <th>347719</th>\n",
       "      <td>1f7a8e71d6d871e6a77f193c0cece8a6ebcd304dcfddcc...</td>\n",
       "      <td>Logged</td>\n",
       "      <td>5907</td>\n",
       "      <td>['f609464e-5777-4bc9-828a-47f982cc3fed'\n",
       " '007f...</td>\n",
       "      <td>['1656644949511' '1656645019617' '165664533024...</td>\n",
       "      <td>['0' '0' '0' ... '0' '0' '0']</td>\n",
       "      <td>['40000' '28550' '98640' ... '50000' '25196' '...</td>\n",
       "      <td>['43.16' '38.38' '16.89' ... '43.98' '35.02' '...</td>\n",
       "      <td>['1' '1' '5' ... '1' '1' '1']</td>\n",
       "    </tr>\n",
       "    <tr>\n",
       "      <th>251786</th>\n",
       "      <td>83a2ba48f07e49f33ef4aa3ceb90933f9adff1ddb6ed16...</td>\n",
       "      <td>Non-Logged</td>\n",
       "      <td>4914</td>\n",
       "      <td>['4745a8d7-9f4f-4beb-8b8d-5adb92000082'\n",
       " '1615...</td>\n",
       "      <td>['1656672728140' '1656672826027' '165667447595...</td>\n",
       "      <td>['0' '0' '0' ... '2' '2' '0']</td>\n",
       "      <td>['10000' '10000' '27069' ... '90000' '40000' '...</td>\n",
       "      <td>['6.88' '6.28' '25.96' ... '44.79' '11.4' '14....</td>\n",
       "      <td>['1' '1' '1' ... '1' '1' '1']</td>\n",
       "    </tr>\n",
       "    <tr>\n",
       "      <th>386620</th>\n",
       "      <td>d3b82a1305105bcaaa646d2da1e97b6935deddbcfbd12b...</td>\n",
       "      <td>Logged</td>\n",
       "      <td>3580</td>\n",
       "      <td>['eaea3d49-6fc3-475d-ba30-fa02a91daa98'\n",
       " '4e1d...</td>\n",
       "      <td>['1656645129077' '1656645137042' '165664523380...</td>\n",
       "      <td>['0' '1' '8' ... '17' '1' '0']</td>\n",
       "      <td>['10000' '23204' '100000' ... '110000' '33506'...</td>\n",
       "      <td>['13.3' '27.72' '27.03' ... '40.09' '18.55' '2...</td>\n",
       "      <td>['1' '1' '2' ... '1' '1' '1']</td>\n",
       "    </tr>\n",
       "    <tr>\n",
       "      <th>136184</th>\n",
       "      <td>9d176e2202250e7925b17eae0978eee726f8ff9372e45c...</td>\n",
       "      <td>Non-Logged</td>\n",
       "      <td>3318</td>\n",
       "      <td>['07ee94b0-9c39-448e-b96c-3d67f9c1670f'\n",
       " 'fad4...</td>\n",
       "      <td>['1656691004852' '1656691099012' '165669126445...</td>\n",
       "      <td>['24' '55' '8' ... '16' '63' '72']</td>\n",
       "      <td>['89910' '156859' '20274' ... '39313' '114801'...</td>\n",
       "      <td>['72.44' '79.86' '35.65' ... '58.53' '98.72' '...</td>\n",
       "      <td>['1' '1' '1' ... '1' '1' '1']</td>\n",
       "    </tr>\n",
       "  </tbody>\n",
       "</table>\n",
       "</div>"
      ],
      "text/plain": [
       "                                                   userId    userType  \\\n",
       "433750  1b9bf55cf5c0d7ba34e8925dbbc98da17c5ab360d907c5...  Non-Logged   \n",
       "347719  1f7a8e71d6d871e6a77f193c0cece8a6ebcd304dcfddcc...      Logged   \n",
       "251786  83a2ba48f07e49f33ef4aa3ceb90933f9adff1ddb6ed16...  Non-Logged   \n",
       "386620  d3b82a1305105bcaaa646d2da1e97b6935deddbcfbd12b...      Logged   \n",
       "136184  9d176e2202250e7925b17eae0978eee726f8ff9372e45c...  Non-Logged   \n",
       "\n",
       "        historySize                                            history  \\\n",
       "433750         7004  ['26b69894-5e12-4e11-b36a-94e6ec3172a0'\n",
       " '9277...   \n",
       "347719         5907  ['f609464e-5777-4bc9-828a-47f982cc3fed'\n",
       " '007f...   \n",
       "251786         4914  ['4745a8d7-9f4f-4beb-8b8d-5adb92000082'\n",
       " '1615...   \n",
       "386620         3580  ['eaea3d49-6fc3-475d-ba30-fa02a91daa98'\n",
       " '4e1d...   \n",
       "136184         3318  ['07ee94b0-9c39-448e-b96c-3d67f9c1670f'\n",
       " 'fad4...   \n",
       "\n",
       "                                         timestampHistory  \\\n",
       "433750  ['1658713338344' '1658713440930' '165871481029...   \n",
       "347719  ['1656644949511' '1656645019617' '165664533024...   \n",
       "251786  ['1656672728140' '1656672826027' '165667447595...   \n",
       "386620  ['1656645129077' '1656645137042' '165664523380...   \n",
       "136184  ['1656691004852' '1656691099012' '165669126445...   \n",
       "\n",
       "                     numberOfClicksHistory  \\\n",
       "433750      ['0' '20' '1' ... '0' '0' '0']   \n",
       "347719       ['0' '0' '0' ... '0' '0' '0']   \n",
       "251786       ['0' '0' '0' ... '2' '2' '0']   \n",
       "386620      ['0' '1' '8' ... '17' '1' '0']   \n",
       "136184  ['24' '55' '8' ... '16' '63' '72']   \n",
       "\n",
       "                                        timeOnPageHistory  \\\n",
       "433750  ['136395' '290000' '160971' ... '10000' '10000...   \n",
       "347719  ['40000' '28550' '98640' ... '50000' '25196' '...   \n",
       "251786  ['10000' '10000' '27069' ... '90000' '40000' '...   \n",
       "386620  ['10000' '23204' '100000' ... '110000' '33506'...   \n",
       "136184  ['89910' '156859' '20274' ... '39313' '114801'...   \n",
       "\n",
       "                                  scrollPercentageHistory  \\\n",
       "433750  ['15.77' '12.72' '4.26' ... '6.19' '6.38' '7.95']   \n",
       "347719  ['43.16' '38.38' '16.89' ... '43.98' '35.02' '...   \n",
       "251786  ['6.88' '6.28' '25.96' ... '44.79' '11.4' '14....   \n",
       "386620  ['13.3' '27.72' '27.03' ... '40.09' '18.55' '2...   \n",
       "136184  ['72.44' '79.86' '35.65' ... '58.53' '98.72' '...   \n",
       "\n",
       "               pageVisitsCountHistory  \n",
       "433750  ['5' '5' '9' ... '1' '1' '1']  \n",
       "347719  ['1' '1' '5' ... '1' '1' '1']  \n",
       "251786  ['1' '1' '1' ... '1' '1' '1']  \n",
       "386620  ['1' '1' '2' ... '1' '1' '1']  \n",
       "136184  ['1' '1' '1' ... '1' '1' '1']  "
      ]
     },
     "execution_count": 16,
     "metadata": {},
     "output_type": "execute_result"
    }
   ],
   "source": [
    "BIG_HIST_SIZE = 800\n",
    "display(\n",
    "    f\"Há {(train['historySize'] >= BIG_HIST_SIZE).sum()} usuários com um histórico \\\n",
    "maior ou igual que {BIG_HIST_SIZE}. Temos {train['userId'].count()} usuários na base.\"\n",
    ")\n",
    "\n",
    "train.sort_values(by=\"historySize\", ascending=False).head(5)"
   ]
  },
  {
   "cell_type": "markdown",
   "metadata": {},
   "source": [
    "**Uma mesma notícia pode aparecer mais de uma vez no histórico do usuário?**\\\n",
    "Como o G1 lida com um usuário que acessa uma mesma notícia mais de uma vez?"
   ]
  },
  {
   "cell_type": "markdown",
   "metadata": {},
   "source": [
    "O usuário abaixo tem um histórico com quatro notícias. Dentre elas, pela coluna `pageVisitsCountHistory` ele acessou a primeira página 12 vezes, a segunda 2 vezes, a terceira 1 vez e a quarta 4 vezes.\n",
    "\n",
    "Analisando as outras colunas de histórico, chegamos a algumas conclusões:\n",
    "- O `history` e nem as outras colunas aumentam de tamanho, mesmo ele tendo visto as páginas mais vezes\n",
    "- O `timestampHistory` segue a ordem do primeiro acesso do usuário, ou seja, o 1° valor da lista é o menor que o segundo, o 2° é menor do que o terceiro, e assim vai até o último\n",
    "- Tudo indica que o `numberOfClicksHistory` é um somatório dos clicks em cada um dos acessos na página. Um forte indicativo disso é que a 3° página diz que recebeu apenas seis clicks e foi acessada uma vez, mas as outras receberam vários outros clicks.\n",
    "- Assim como o `numberOfClicksHistory`, o `timeOnPageHistory` parece funcionar da mesma forma, somando o tempo que o usuário passou em cada acesso.\n",
    "- Diferente dos itens acima, o `scrollPercentageHistory` parece não agir da mesma forma, pois é extremamente improvável que o usuário tenha apenas \"20.83%\" de acesso na primeira página, sendo que a visitou 12 vezes, passou o maior tempo nesta página do que as outras e deu 127 clicks durante suas visitas.\n",
    "\n",
    "Também algumas conclusões sobre os tipos:\n",
    "- `timestampHistory` pode ser convertido para a data real - talvez isso poderia indicar uma certa sazonalidade em algumas notícias. Notícias sobre o Natal, por exemplo, provavelmente são mais acessadas durante os meses de novembro, dezembro e janeiro.\n",
    "- `timeOnPageHistory` representa, provavelmente, o tempo na página em milissegundos (ms), já que se medirmos esses tempos em segundos ou microsegundos, as medidas ficariam improváveis para um caso real"
   ]
  },
  {
   "cell_type": "code",
   "execution_count": 17,
   "metadata": {},
   "outputs": [
    {
     "data": {
      "text/html": [
       "<div>\n",
       "<style scoped>\n",
       "    .dataframe tbody tr th:only-of-type {\n",
       "        vertical-align: middle;\n",
       "    }\n",
       "\n",
       "    .dataframe tbody tr th {\n",
       "        vertical-align: top;\n",
       "    }\n",
       "\n",
       "    .dataframe thead th {\n",
       "        text-align: right;\n",
       "    }\n",
       "</style>\n",
       "<table border=\"1\" class=\"dataframe\">\n",
       "  <thead>\n",
       "    <tr style=\"text-align: right;\">\n",
       "      <th></th>\n",
       "      <th>userId</th>\n",
       "      <th>userType</th>\n",
       "      <th>historySize</th>\n",
       "      <th>history</th>\n",
       "      <th>timestampHistory</th>\n",
       "      <th>numberOfClicksHistory</th>\n",
       "      <th>timeOnPageHistory</th>\n",
       "      <th>scrollPercentageHistory</th>\n",
       "      <th>pageVisitsCountHistory</th>\n",
       "    </tr>\n",
       "  </thead>\n",
       "  <tbody>\n",
       "    <tr>\n",
       "      <th>377947</th>\n",
       "      <td>6aa5109374f6534b0400ccbbdb9c7b7d64c40a663fe51c95102754e28948f92e</td>\n",
       "      <td>Non-Logged</td>\n",
       "      <td>4</td>\n",
       "      <td>['7fe849c0-4a55-429d-b480-11ee216909dd'\n",
       " '2de36771-38b8-4e2c-a2b7-d00590dd9009'\n",
       " 'befa491a-1c4a-43b8-ad4e-8bfabe03320e'\n",
       " 'c7c70809-d617-40a3-99a0-a95c87679acd']</td>\n",
       "      <td>['1658259718982' '1658424852871' '1658859110243' '1660064956101']</td>\n",
       "      <td>['127' '155' '6' '78']</td>\n",
       "      <td>['350199' '320000' '39671' '151452']</td>\n",
       "      <td>['20.83' '80.94' '45.18' '22.32']</td>\n",
       "      <td>['12' '2' '1' '4']</td>\n",
       "    </tr>\n",
       "  </tbody>\n",
       "</table>\n",
       "</div>"
      ],
      "text/plain": [
       "                                                                  userId  \\\n",
       "377947  6aa5109374f6534b0400ccbbdb9c7b7d64c40a663fe51c95102754e28948f92e   \n",
       "\n",
       "          userType  historySize  \\\n",
       "377947  Non-Logged  4             \n",
       "\n",
       "                                                                                                                                                                 history  \\\n",
       "377947  ['7fe849c0-4a55-429d-b480-11ee216909dd'\n",
       " '2de36771-38b8-4e2c-a2b7-d00590dd9009'\n",
       " 'befa491a-1c4a-43b8-ad4e-8bfabe03320e'\n",
       " 'c7c70809-d617-40a3-99a0-a95c87679acd']   \n",
       "\n",
       "                                                         timestampHistory  \\\n",
       "377947  ['1658259718982' '1658424852871' '1658859110243' '1660064956101']   \n",
       "\n",
       "         numberOfClicksHistory                     timeOnPageHistory  \\\n",
       "377947  ['127' '155' '6' '78']  ['350199' '320000' '39671' '151452']   \n",
       "\n",
       "                  scrollPercentageHistory pageVisitsCountHistory  \n",
       "377947  ['20.83' '80.94' '45.18' '22.32']  ['12' '2' '1' '4']     "
      ]
     },
     "metadata": {},
     "output_type": "display_data"
    }
   ],
   "source": [
    "with pd.option_context(\"display.max_colwidth\", 1):\n",
    "    display(\n",
    "        train.query(\n",
    "            \"userId=='6aa5109374f6534b0400ccbbdb9c7b7d64c40a663fe51c95102754e28948f92e'\"\n",
    "        )\n",
    "    )"
   ]
  },
  {
   "cell_type": "code",
   "execution_count": 18,
   "metadata": {},
   "outputs": [
    {
     "data": {
      "text/plain": [
       "True"
      ]
     },
     "execution_count": 18,
     "metadata": {},
     "output_type": "execute_result"
    }
   ],
   "source": [
    "# Comparison of timestampHistory\n",
    "(1658259718982 < 1658424852871) and (1658424852871 < 1658859110243) and (  # noqa: PLR0133\n",
    "    1658859110243 < 1660064956101  # noqa: PLR0133\n",
    ")"
   ]
  },
  {
   "cell_type": "markdown",
   "metadata": {},
   "source": [
    "As unidades devem estar em milissegundos (ms), pois é a unidade que mais faz sentido:"
   ]
  },
  {
   "cell_type": "code",
   "execution_count": 19,
   "metadata": {},
   "outputs": [
    {
     "data": {
      "text/plain": [
       "DatetimeIndex(['2022-07-19 19:41:58.982000', '2022-07-21 17:34:12.871000',\n",
       "               '2022-07-26 18:11:50.243000', '2022-08-09 17:09:16.101000'],\n",
       "              dtype='datetime64[ns]', freq=None)"
      ]
     },
     "execution_count": 19,
     "metadata": {},
     "output_type": "execute_result"
    }
   ],
   "source": [
    "pd.to_datetime([1658259718982, 1658424852871, 1658859110243, 1660064956101], unit=\"ms\")"
   ]
  },
  {
   "cell_type": "markdown",
   "metadata": {},
   "source": [
    "## Análise dos dados de validação"
   ]
  },
  {
   "cell_type": "code",
   "execution_count": 21,
   "metadata": {},
   "outputs": [
    {
     "data": {
      "text/html": [
       "<div>\n",
       "<style scoped>\n",
       "    .dataframe tbody tr th:only-of-type {\n",
       "        vertical-align: middle;\n",
       "    }\n",
       "\n",
       "    .dataframe tbody tr th {\n",
       "        vertical-align: top;\n",
       "    }\n",
       "\n",
       "    .dataframe thead th {\n",
       "        text-align: right;\n",
       "    }\n",
       "</style>\n",
       "<table border=\"1\" class=\"dataframe\">\n",
       "  <thead>\n",
       "    <tr style=\"text-align: right;\">\n",
       "      <th></th>\n",
       "      <th>userId</th>\n",
       "      <th>userType</th>\n",
       "      <th>history</th>\n",
       "      <th>timestampHistory</th>\n",
       "    </tr>\n",
       "  </thead>\n",
       "  <tbody>\n",
       "    <tr>\n",
       "      <th>0</th>\n",
       "      <td>e25fbee3a42d45a2914f9b061df3386b2ded2d8cc1f3d4...</td>\n",
       "      <td>Logged</td>\n",
       "      <td>['be89a7da-d9fa-49d4-9fdc-388c27a15bc8'\n",
       " '01c5...</td>\n",
       "      <td>[1660533136590 1660672113513]</td>\n",
       "    </tr>\n",
       "    <tr>\n",
       "      <th>1</th>\n",
       "      <td>d0afad7ea843d86597d822f0df1d39d31a3fea7c39fdee...</td>\n",
       "      <td>Logged</td>\n",
       "      <td>['77901133-aee7-4f7b-afc0-652231d76fe9']</td>\n",
       "      <td>[1660556860253]</td>\n",
       "    </tr>\n",
       "  </tbody>\n",
       "</table>\n",
       "</div>"
      ],
      "text/plain": [
       "                                              userId userType  \\\n",
       "0  e25fbee3a42d45a2914f9b061df3386b2ded2d8cc1f3d4...   Logged   \n",
       "1  d0afad7ea843d86597d822f0df1d39d31a3fea7c39fdee...   Logged   \n",
       "\n",
       "                                             history  \\\n",
       "0  ['be89a7da-d9fa-49d4-9fdc-388c27a15bc8'\n",
       " '01c5...   \n",
       "1           ['77901133-aee7-4f7b-afc0-652231d76fe9']   \n",
       "\n",
       "                timestampHistory  \n",
       "0  [1660533136590 1660672113513]  \n",
       "1                [1660556860253]  "
      ]
     },
     "execution_count": 21,
     "metadata": {},
     "output_type": "execute_result"
    }
   ],
   "source": [
    "validation_path = Path(\"../data/raw/validacao.csv\")\n",
    "validation = read_csv_pyarrow(validation_path)\n",
    "validation.head(2)"
   ]
  },
  {
   "cell_type": "markdown",
   "metadata": {},
   "source": [
    "A primeira coisa que notamos no dataset é a **falta de colunas em relação aos dados de treino**. Tem-se apenas quatro colunas, que significam a mesma coisa do dataset de treino:\n",
    "\n",
    "- `userId`: id do usuário.\n",
    "- `userType`: usuário logado ou anônimo.\n",
    "- `history`: lista de notícias visitadas pelo usuário.\n",
    "- `timestampHistory`: momento em que o usuário visitou a página."
   ]
  },
  {
   "cell_type": "code",
   "execution_count": 22,
   "metadata": {},
   "outputs": [
    {
     "name": "stdout",
     "output_type": "stream",
     "text": [
      "<class 'pandas.core.frame.DataFrame'>\n",
      "RangeIndex: 112184 entries, 0 to 112183\n",
      "Data columns (total 4 columns):\n",
      " #   Column            Non-Null Count   Dtype          \n",
      "---  ------            --------------   -----          \n",
      " 0   userId            112184 non-null  string[pyarrow]\n",
      " 1   userType          112184 non-null  string[pyarrow]\n",
      " 2   history           112184 non-null  string[pyarrow]\n",
      " 3   timestampHistory  112184 non-null  string[pyarrow]\n",
      "dtypes: string[pyarrow](4)\n",
      "memory usage: 19.3 MB\n"
     ]
    }
   ],
   "source": [
    "validation.info()"
   ]
  },
  {
   "cell_type": "markdown",
   "metadata": {},
   "source": [
    "Também não temos dados duplicados"
   ]
  },
  {
   "cell_type": "code",
   "execution_count": 23,
   "metadata": {},
   "outputs": [
    {
     "data": {
      "text/plain": [
       "np.int64(0)"
      ]
     },
     "metadata": {},
     "output_type": "display_data"
    },
    {
     "data": {
      "text/plain": [
       "np.int64(0)"
      ]
     },
     "metadata": {},
     "output_type": "display_data"
    }
   ],
   "source": [
    "display(validation.duplicated().sum())\n",
    "display(validation.duplicated(subset=[\"userId\"]).sum())"
   ]
  },
  {
   "cell_type": "markdown",
   "metadata": {},
   "source": [
    "Diferente do dataset de treino, no de validação temos um dataset mais balanceado pelo tipo de usuário.\n",
    "\n",
    "Novamente, isso não importa tanto assim, já que o objetivo do projeto visa atender todos os tipos de usuários igualmente: recomendando as notícias mais apropriadas."
   ]
  },
  {
   "cell_type": "code",
   "execution_count": 24,
   "metadata": {},
   "outputs": [
    {
     "data": {
      "text/plain": [
       "userType\n",
       "Non-Logged    58.176745\n",
       "Logged        41.823255\n",
       "Name: proportion, dtype: double[pyarrow]"
      ]
     },
     "execution_count": 24,
     "metadata": {},
     "output_type": "execute_result"
    }
   ],
   "source": [
    "validation[\"userType\"].value_counts(normalize=True) * 100"
   ]
  },
  {
   "cell_type": "markdown",
   "metadata": {},
   "source": [
    "Novamente, por conta da forma que os dados são lidos, precisamos transformar as colunas para uma lista de strings.\n",
    "\n",
    "Obs.: foi necessário tratar melhor os dados, pois eles possuem uma formatação um pouco diferente do que tinham no arquivo de treino"
   ]
  },
  {
   "cell_type": "code",
   "execution_count": 25,
   "metadata": {},
   "outputs": [
    {
     "name": "stdout",
     "output_type": "stream",
     "text": [
      "<class 'pandas.core.frame.DataFrame'>\n",
      "RangeIndex: 112184 entries, 0 to 112183\n",
      "Data columns (total 4 columns):\n",
      " #   Column            Non-Null Count   Dtype                      \n",
      "---  ------            --------------   -----                      \n",
      " 0   userId            112184 non-null  string[pyarrow]            \n",
      " 1   userType          112184 non-null  string[pyarrow]            \n",
      " 2   history           112184 non-null  list<item: string>[pyarrow]\n",
      " 3   timestampHistory  112184 non-null  list<item: string>[pyarrow]\n",
      "dtypes: list<item: string>[pyarrow](2), string[pyarrow](2)\n",
      "memory usage: 19.8 MB\n"
     ]
    }
   ],
   "source": [
    "list_columns = [\"history\", \"timestampHistory\"]\n",
    "\n",
    "validation[\"history\"] = (\n",
    "    validation[\"history\"]\n",
    "    .str.replace(r\"[\\[\\]']\", \"\", regex=True)\n",
    "    .str.replace(r\"\\n\", \"\", regex=True)\n",
    "    .str.split()\n",
    ")\n",
    "validation[\"timestampHistory\"] = (\n",
    "    validation[\"timestampHistory\"].str.replace(r\"[\\[\\]]\", \"\", regex=True).str.split()\n",
    ")\n",
    "validation.info()"
   ]
  },
  {
   "cell_type": "markdown",
   "metadata": {},
   "source": [
    "E, igual com o dataset de treino, as colunas de histórico possuem o mesmo tamanho - o que é o correto.\n",
    "\n",
    "> Como não temos a coluna `historySize`, aqui apenas comparamos os tamanhos das duas colunas"
   ]
  },
  {
   "cell_type": "code",
   "execution_count": 26,
   "metadata": {},
   "outputs": [
    {
     "data": {
      "text/html": [
       "<div>\n",
       "<style scoped>\n",
       "    .dataframe tbody tr th:only-of-type {\n",
       "        vertical-align: middle;\n",
       "    }\n",
       "\n",
       "    .dataframe tbody tr th {\n",
       "        vertical-align: top;\n",
       "    }\n",
       "\n",
       "    .dataframe thead th {\n",
       "        text-align: right;\n",
       "    }\n",
       "</style>\n",
       "<table border=\"1\" class=\"dataframe\">\n",
       "  <thead>\n",
       "    <tr style=\"text-align: right;\">\n",
       "      <th></th>\n",
       "      <th>userId</th>\n",
       "      <th>userType</th>\n",
       "      <th>history</th>\n",
       "      <th>timestampHistory</th>\n",
       "    </tr>\n",
       "  </thead>\n",
       "  <tbody>\n",
       "    <tr>\n",
       "      <th>0</th>\n",
       "      <td>e25fbee3a42d45a2914f9b061df3386b2ded2d8cc1f3d4...</td>\n",
       "      <td>Logged</td>\n",
       "      <td>['be89a7da-d9fa-49d4-9fdc-388c27a15bc8'\n",
       " '01c5...</td>\n",
       "      <td>['1660533136590' '1660672113513']</td>\n",
       "    </tr>\n",
       "    <tr>\n",
       "      <th>1</th>\n",
       "      <td>d0afad7ea843d86597d822f0df1d39d31a3fea7c39fdee...</td>\n",
       "      <td>Logged</td>\n",
       "      <td>['77901133-aee7-4f7b-afc0-652231d76fe9']</td>\n",
       "      <td>['1660556860253']</td>\n",
       "    </tr>\n",
       "  </tbody>\n",
       "</table>\n",
       "</div>"
      ],
      "text/plain": [
       "                                              userId userType  \\\n",
       "0  e25fbee3a42d45a2914f9b061df3386b2ded2d8cc1f3d4...   Logged   \n",
       "1  d0afad7ea843d86597d822f0df1d39d31a3fea7c39fdee...   Logged   \n",
       "\n",
       "                                             history  \\\n",
       "0  ['be89a7da-d9fa-49d4-9fdc-388c27a15bc8'\n",
       " '01c5...   \n",
       "1           ['77901133-aee7-4f7b-afc0-652231d76fe9']   \n",
       "\n",
       "                    timestampHistory  \n",
       "0  ['1660533136590' '1660672113513']  \n",
       "1                  ['1660556860253']  "
      ]
     },
     "metadata": {},
     "output_type": "display_data"
    },
    {
     "data": {
      "text/plain": [
       "'Tamanho de history:'"
      ]
     },
     "metadata": {},
     "output_type": "display_data"
    },
    {
     "data": {
      "text/plain": [
       "0    2\n",
       "1    1\n",
       "Name: history, dtype: int64"
      ]
     },
     "metadata": {},
     "output_type": "display_data"
    }
   ],
   "source": [
    "display(validation.head(2))\n",
    "display(\"Tamanho de history:\", validation[\"history\"].head(2).apply(len))"
   ]
  },
  {
   "cell_type": "code",
   "execution_count": 27,
   "metadata": {},
   "outputs": [
    {
     "data": {
      "text/plain": [
       "True"
      ]
     },
     "execution_count": 27,
     "metadata": {},
     "output_type": "execute_result"
    }
   ],
   "source": [
    "all(validation[\"history\"].apply(len) == validation[\"timestampHistory\"].apply(len))"
   ]
  },
  {
   "cell_type": "markdown",
   "metadata": {},
   "source": [
    "Quando verificamos os IDs da tabela de validação dentro da tabela de treino, vemos que eles existem nas duas tabelas, porém, na de treino, a informação é mais completa do que na de validação."
   ]
  },
  {
   "cell_type": "code",
   "execution_count": 28,
   "metadata": {},
   "outputs": [
    {
     "data": {
      "text/plain": [
       "True"
      ]
     },
     "execution_count": 28,
     "metadata": {},
     "output_type": "execute_result"
    }
   ],
   "source": [
    "all(validation[\"userId\"].isin(train[\"userId\"]))"
   ]
  },
  {
   "cell_type": "code",
   "execution_count": 29,
   "metadata": {},
   "outputs": [
    {
     "data": {
      "text/plain": [
       "'Primeiro userId na validation: fe25fbee3a42d45a2914f9b061df3386b2ded2d8cc1f3d4b901419051126488b9'"
      ]
     },
     "metadata": {},
     "output_type": "display_data"
    },
    {
     "data": {
      "text/plain": [
       "'Validação:'"
      ]
     },
     "metadata": {},
     "output_type": "display_data"
    },
    {
     "data": {
      "text/html": [
       "<div>\n",
       "<style scoped>\n",
       "    .dataframe tbody tr th:only-of-type {\n",
       "        vertical-align: middle;\n",
       "    }\n",
       "\n",
       "    .dataframe tbody tr th {\n",
       "        vertical-align: top;\n",
       "    }\n",
       "\n",
       "    .dataframe thead th {\n",
       "        text-align: right;\n",
       "    }\n",
       "</style>\n",
       "<table border=\"1\" class=\"dataframe\">\n",
       "  <thead>\n",
       "    <tr style=\"text-align: right;\">\n",
       "      <th></th>\n",
       "      <th>userId</th>\n",
       "      <th>userType</th>\n",
       "      <th>history</th>\n",
       "      <th>timestampHistory</th>\n",
       "    </tr>\n",
       "  </thead>\n",
       "  <tbody>\n",
       "    <tr>\n",
       "      <th>0</th>\n",
       "      <td>e25fbee3a42d45a2914f9b061df3386b2ded2d8cc1f3d4b901419051126488b9</td>\n",
       "      <td>Logged</td>\n",
       "      <td>['be89a7da-d9fa-49d4-9fdc-388c27a15bc8'\n",
       " '01c59ff6-fb82-4258-918f-2910cb2d4c52']</td>\n",
       "      <td>['1660533136590' '1660672113513']</td>\n",
       "    </tr>\n",
       "  </tbody>\n",
       "</table>\n",
       "</div>"
      ],
      "text/plain": [
       "                                                             userId userType  \\\n",
       "0  e25fbee3a42d45a2914f9b061df3386b2ded2d8cc1f3d4b901419051126488b9  Logged    \n",
       "\n",
       "                                                                            history  \\\n",
       "0  ['be89a7da-d9fa-49d4-9fdc-388c27a15bc8'\n",
       " '01c59ff6-fb82-4258-918f-2910cb2d4c52']   \n",
       "\n",
       "                    timestampHistory  \n",
       "0  ['1660533136590' '1660672113513']  "
      ]
     },
     "metadata": {},
     "output_type": "display_data"
    },
    {
     "data": {
      "text/plain": [
       "'Treino:'"
      ]
     },
     "metadata": {},
     "output_type": "display_data"
    },
    {
     "data": {
      "text/html": [
       "<div>\n",
       "<style scoped>\n",
       "    .dataframe tbody tr th:only-of-type {\n",
       "        vertical-align: middle;\n",
       "    }\n",
       "\n",
       "    .dataframe tbody tr th {\n",
       "        vertical-align: top;\n",
       "    }\n",
       "\n",
       "    .dataframe thead th {\n",
       "        text-align: right;\n",
       "    }\n",
       "</style>\n",
       "<table border=\"1\" class=\"dataframe\">\n",
       "  <thead>\n",
       "    <tr style=\"text-align: right;\">\n",
       "      <th></th>\n",
       "      <th>userId</th>\n",
       "      <th>userType</th>\n",
       "      <th>historySize</th>\n",
       "      <th>history</th>\n",
       "      <th>timestampHistory</th>\n",
       "      <th>numberOfClicksHistory</th>\n",
       "      <th>timeOnPageHistory</th>\n",
       "      <th>scrollPercentageHistory</th>\n",
       "      <th>pageVisitsCountHistory</th>\n",
       "    </tr>\n",
       "  </thead>\n",
       "  <tbody>\n",
       "    <tr>\n",
       "      <th>482774</th>\n",
       "      <td>e25fbee3a42d45a2914f9b061df3386b2ded2d8cc1f3d4b901419051126488b9</td>\n",
       "      <td>Logged</td>\n",
       "      <td>6</td>\n",
       "      <td>['c7b6f56c-3304-4fe5-994a-50c8937d6431'\n",
       " 'c6af277b-d658-493c-9d7e-342e5d6759c4'\n",
       " '064b539b-a4cd-4781-b97f-9e9859ce15f7'\n",
       " 'bf257382-74fb-4392-ad6a-143240e39f81'\n",
       " 'f774e860-8103-49bf-b04e-63b316735e4b'\n",
       " 'c4a64d0d-09b8-4f82-8e32-4d2ec6067226']</td>\n",
       "      <td>['1657003078783' '1659484116867' '1659700766244' '1659929500885'\n",
       " '1660062239512' '1660182601797']</td>\n",
       "      <td>['5' '1' '10' '16' '4' '2']</td>\n",
       "      <td>['20848' '10000' '37197' '90813' '23755' '100000']</td>\n",
       "      <td>['36.51' '19.78' '46.59' '36.45' '32.46' '13.89']</td>\n",
       "      <td>['1' '1' '1' '1' '1' '1']</td>\n",
       "    </tr>\n",
       "  </tbody>\n",
       "</table>\n",
       "</div>"
      ],
      "text/plain": [
       "                                                                  userId  \\\n",
       "482774  e25fbee3a42d45a2914f9b061df3386b2ded2d8cc1f3d4b901419051126488b9   \n",
       "\n",
       "       userType  historySize  \\\n",
       "482774  Logged   6             \n",
       "\n",
       "                                                                                                                                                                                                                                                 history  \\\n",
       "482774  ['c7b6f56c-3304-4fe5-994a-50c8937d6431'\n",
       " 'c6af277b-d658-493c-9d7e-342e5d6759c4'\n",
       " '064b539b-a4cd-4781-b97f-9e9859ce15f7'\n",
       " 'bf257382-74fb-4392-ad6a-143240e39f81'\n",
       " 'f774e860-8103-49bf-b04e-63b316735e4b'\n",
       " 'c4a64d0d-09b8-4f82-8e32-4d2ec6067226']   \n",
       "\n",
       "                                                                                          timestampHistory  \\\n",
       "482774  ['1657003078783' '1659484116867' '1659700766244' '1659929500885'\n",
       " '1660062239512' '1660182601797']   \n",
       "\n",
       "              numberOfClicksHistory  \\\n",
       "482774  ['5' '1' '10' '16' '4' '2']   \n",
       "\n",
       "                                         timeOnPageHistory  \\\n",
       "482774  ['20848' '10000' '37197' '90813' '23755' '100000']   \n",
       "\n",
       "                                  scrollPercentageHistory  \\\n",
       "482774  ['36.51' '19.78' '46.59' '36.45' '32.46' '13.89']   \n",
       "\n",
       "           pageVisitsCountHistory  \n",
       "482774  ['1' '1' '1' '1' '1' '1']  "
      ]
     },
     "metadata": {},
     "output_type": "display_data"
    }
   ],
   "source": [
    "display(f\"Primeiro userId na validation: f{validation['userId'][0]}\")\n",
    "\n",
    "with pd.option_context(\"display.max_colwidth\", 1):\n",
    "    display(\"Validação:\", validation.head(1))\n",
    "    display(\"Treino:\", train.query(f\"userId == '{validation['userId'][0]}'\"))"
   ]
  },
  {
   "cell_type": "code",
   "execution_count": 30,
   "metadata": {},
   "outputs": [
    {
     "data": {
      "text/plain": [
       "DatetimeIndex(['2022-08-15 03:12:16.590000', '2022-08-16 17:48:33.513000',\n",
       "               '2022-07-05 06:37:58.783000', '2022-08-02 23:48:36.867000',\n",
       "               '2022-08-05 11:59:26.244000', '2022-08-08 03:31:40.885000',\n",
       "               '2022-08-09 16:23:59.512000', '2022-08-11 01:50:01.797000'],\n",
       "              dtype='datetime64[ns]', freq=None)"
      ]
     },
     "execution_count": 30,
     "metadata": {},
     "output_type": "execute_result"
    }
   ],
   "source": [
    "pd.to_datetime(\n",
    "    [\n",
    "        1660533136590,  # validação\n",
    "        1660672113513,  # validação\n",
    "        1657003078783,  # treino\n",
    "        1659484116867,  # treino\n",
    "        1659700766244,  # treino\n",
    "        1659929500885,  # treino\n",
    "        1660062239512,  # treino\n",
    "        1660182601797,  # treino\n",
    "    ],\n",
    "    unit=\"ms\",\n",
    ")"
   ]
  },
  {
   "cell_type": "code",
   "execution_count": 31,
   "metadata": {},
   "outputs": [
    {
     "data": {
      "text/plain": [
       "'Validação:'"
      ]
     },
     "metadata": {},
     "output_type": "display_data"
    },
    {
     "data": {
      "text/html": [
       "<div>\n",
       "<style scoped>\n",
       "    .dataframe tbody tr th:only-of-type {\n",
       "        vertical-align: middle;\n",
       "    }\n",
       "\n",
       "    .dataframe tbody tr th {\n",
       "        vertical-align: top;\n",
       "    }\n",
       "\n",
       "    .dataframe thead th {\n",
       "        text-align: right;\n",
       "    }\n",
       "</style>\n",
       "<table border=\"1\" class=\"dataframe\">\n",
       "  <thead>\n",
       "    <tr style=\"text-align: right;\">\n",
       "      <th></th>\n",
       "      <th>userId</th>\n",
       "      <th>userType</th>\n",
       "      <th>history</th>\n",
       "      <th>timestampHistory</th>\n",
       "    </tr>\n",
       "  </thead>\n",
       "  <tbody>\n",
       "    <tr>\n",
       "      <th>0</th>\n",
       "      <td>e25fbee3a42d45a2914f9b061df3386b2ded2d8cc1f3d4b901419051126488b9</td>\n",
       "      <td>Logged</td>\n",
       "      <td>['be89a7da-d9fa-49d4-9fdc-388c27a15bc8'\n",
       " '01c59ff6-fb82-4258-918f-2910cb2d4c52']</td>\n",
       "      <td>['1660533136590' '1660672113513']</td>\n",
       "    </tr>\n",
       "    <tr>\n",
       "      <th>1</th>\n",
       "      <td>d0afad7ea843d86597d822f0df1d39d31a3fea7c39fdeee870d49b897e1e99cd</td>\n",
       "      <td>Logged</td>\n",
       "      <td>['77901133-aee7-4f7b-afc0-652231d76fe9']</td>\n",
       "      <td>['1660556860253']</td>\n",
       "    </tr>\n",
       "  </tbody>\n",
       "</table>\n",
       "</div>"
      ],
      "text/plain": [
       "                                                             userId userType  \\\n",
       "0  e25fbee3a42d45a2914f9b061df3386b2ded2d8cc1f3d4b901419051126488b9  Logged    \n",
       "1  d0afad7ea843d86597d822f0df1d39d31a3fea7c39fdeee870d49b897e1e99cd  Logged    \n",
       "\n",
       "                                                                            history  \\\n",
       "0  ['be89a7da-d9fa-49d4-9fdc-388c27a15bc8'\n",
       " '01c59ff6-fb82-4258-918f-2910cb2d4c52']   \n",
       "1  ['77901133-aee7-4f7b-afc0-652231d76fe9']                                           \n",
       "\n",
       "                    timestampHistory  \n",
       "0  ['1660533136590' '1660672113513']  \n",
       "1  ['1660556860253']                  "
      ]
     },
     "metadata": {},
     "output_type": "display_data"
    },
    {
     "data": {
      "text/plain": [
       "'Treino:'"
      ]
     },
     "metadata": {},
     "output_type": "display_data"
    },
    {
     "data": {
      "text/html": [
       "<div>\n",
       "<style scoped>\n",
       "    .dataframe tbody tr th:only-of-type {\n",
       "        vertical-align: middle;\n",
       "    }\n",
       "\n",
       "    .dataframe tbody tr th {\n",
       "        vertical-align: top;\n",
       "    }\n",
       "\n",
       "    .dataframe thead th {\n",
       "        text-align: right;\n",
       "    }\n",
       "</style>\n",
       "<table border=\"1\" class=\"dataframe\">\n",
       "  <thead>\n",
       "    <tr style=\"text-align: right;\">\n",
       "      <th></th>\n",
       "      <th>userId</th>\n",
       "      <th>userType</th>\n",
       "      <th>historySize</th>\n",
       "      <th>history</th>\n",
       "      <th>timestampHistory</th>\n",
       "      <th>numberOfClicksHistory</th>\n",
       "      <th>timeOnPageHistory</th>\n",
       "      <th>scrollPercentageHistory</th>\n",
       "      <th>pageVisitsCountHistory</th>\n",
       "    </tr>\n",
       "  </thead>\n",
       "  <tbody>\n",
       "    <tr>\n",
       "      <th>554897</th>\n",
       "      <td>d0afad7ea843d86597d822f0df1d39d31a3fea7c39fdeee870d49b897e1e99cd</td>\n",
       "      <td>Logged</td>\n",
       "      <td>1</td>\n",
       "      <td>['9a37393c-15fc-413a-b285-860da171d0a2']</td>\n",
       "      <td>['1656668214243']</td>\n",
       "      <td>['15']</td>\n",
       "      <td>['30883']</td>\n",
       "      <td>['35.35']</td>\n",
       "      <td>['1']</td>\n",
       "    </tr>\n",
       "  </tbody>\n",
       "</table>\n",
       "</div>"
      ],
      "text/plain": [
       "                                                                  userId  \\\n",
       "554897  d0afad7ea843d86597d822f0df1d39d31a3fea7c39fdeee870d49b897e1e99cd   \n",
       "\n",
       "       userType  historySize                                   history  \\\n",
       "554897  Logged   1            ['9a37393c-15fc-413a-b285-860da171d0a2']   \n",
       "\n",
       "         timestampHistory numberOfClicksHistory timeOnPageHistory  \\\n",
       "554897  ['1656668214243']  ['15']                ['30883']          \n",
       "\n",
       "       scrollPercentageHistory pageVisitsCountHistory  \n",
       "554897  ['35.35']               ['1']                  "
      ]
     },
     "metadata": {},
     "output_type": "display_data"
    }
   ],
   "source": [
    "with pd.option_context(\"display.max_colwidth\", 1):\n",
    "    display(\"Validação:\", validation.head(2))\n",
    "    display(\"Treino:\", train.query(f\"userId == '{validation['userId'][1]}'\"))"
   ]
  },
  {
   "cell_type": "code",
   "execution_count": 32,
   "metadata": {},
   "outputs": [
    {
     "data": {
      "text/plain": [
       "DatetimeIndex(['2022-08-15 09:47:40.253000', '2022-07-01 09:36:54.243000'], dtype='datetime64[ns]', freq=None)"
      ]
     },
     "execution_count": 32,
     "metadata": {},
     "output_type": "execute_result"
    }
   ],
   "source": [
    "# validação e treino\n",
    "pd.to_datetime([1660556860253, 1656668214243], unit=\"ms\")"
   ]
  },
  {
   "cell_type": "markdown",
   "metadata": {},
   "source": [
    "Pela análise acima, percebe-se algo estranho:\n",
    "- O `history` **não contém** as mesmas notícias nos dois datasets, mas é o mesmo usuário.\n",
    "- O `timestampHistory` segue da mesma forma, não registrou as notícias corretamente."
   ]
  },
  {
   "cell_type": "markdown",
   "metadata": {},
   "source": [
    "Retirando dúvidas com a FIAP e analisando melhor os datasets, percebemos que **é o mesmo usuário**, porém com seu histórico de notícias sendo capturado em um período diferente.\n",
    "\n",
    "Exemplo com o usuário de ID \"d0afad7ea843d86597d822f0df1d39d31a3fea7c39fdeee870d49b897e1e99cd\":\n",
    "- No dataset de treino, ele possui uma notícia em seu histórico. Ela foi acessada na data 2022-07-01\n",
    "- Já no dataset de validação, ele possui uma notícia também, mas ela foi acessada na data 2022-08-15\n",
    "\n",
    "O mesmo ocorre para outros usuários. Isso nos mostra que o dataset de treino captura as notícias **mais antigas**, enquanto o de validação irá capturar as **mais recentes** consumidas pelo usuário.\n",
    "\n",
    "Sendo assim, a forma correta de validar nosso modelo será:\n",
    "1. Buscamos no dataset de treino todas as linhas que contém os IDs que estão no dataset de validação\n",
    "2. Com essas linhas (do dataset de treino), iremos usar nosso modelo para recomendar/prever as N próximas notícias que esses usuários devem consumir\n",
    "   1. O número de previsões (N) pode ser fixo, mas é melhor que seja dinâmico, onde o valor de N irá ser definido pelo tamanho do histórico do usário no dataset de validação. Ou seja, se o usuário tem um `history` de três notícias no dataset de validação, o valor de N deve ser 3.\n",
    "3. Iremos pegar as notícias previstas e comparar com as que estão no dataset de validação\n",
    "4. Com essa comparação, podemos criar algum tipo de score (ainda será definido) para validar se o modelo está prevendo bem ou não."
   ]
  },
  {
   "cell_type": "markdown",
   "metadata": {},
   "source": [
    "## Análise dos itens complementares"
   ]
  },
  {
   "cell_type": "code",
   "execution_count": 33,
   "metadata": {},
   "outputs": [
    {
     "data": {
      "text/html": [
       "<div>\n",
       "<style scoped>\n",
       "    .dataframe tbody tr th:only-of-type {\n",
       "        vertical-align: middle;\n",
       "    }\n",
       "\n",
       "    .dataframe tbody tr th {\n",
       "        vertical-align: top;\n",
       "    }\n",
       "\n",
       "    .dataframe thead th {\n",
       "        text-align: right;\n",
       "    }\n",
       "</style>\n",
       "<table border=\"1\" class=\"dataframe\">\n",
       "  <thead>\n",
       "    <tr style=\"text-align: right;\">\n",
       "      <th></th>\n",
       "      <th>page</th>\n",
       "      <th>url</th>\n",
       "      <th>issued</th>\n",
       "      <th>modified</th>\n",
       "      <th>title</th>\n",
       "      <th>body</th>\n",
       "      <th>caption</th>\n",
       "    </tr>\n",
       "  </thead>\n",
       "  <tbody>\n",
       "    <tr>\n",
       "      <th>0</th>\n",
       "      <td>13db0ab1-eea2-4603-84c4-f40a876c7400</td>\n",
       "      <td>http://g1.globo.com/am/amazonas/noticia/2022/0...</td>\n",
       "      <td>2022-06-18 20:37:45+00:00</td>\n",
       "      <td>2023-04-15 00:02:08+00:00</td>\n",
       "      <td>Caso Bruno e Dom: 3º suspeito tem prisão tempo...</td>\n",
       "      <td>Após audiência de custódia, a Justiça do Amazo...</td>\n",
       "      <td>Jeferson da Silva Lima foi escoltado por agent...</td>\n",
       "    </tr>\n",
       "    <tr>\n",
       "      <th>1</th>\n",
       "      <td>92907b73-5cd3-4184-8d8c-e206aed2bf1c</td>\n",
       "      <td>http://g1.globo.com/pa/santarem-regiao/noticia...</td>\n",
       "      <td>2019-06-20 17:19:52+00:00</td>\n",
       "      <td>2023-06-16 20:19:15+00:00</td>\n",
       "      <td>Linguajar dos santarenos é diferenciado e chei...</td>\n",
       "      <td>Vista aérea de Santarém\n",
       "Ádrio Denner/ AD Produ...</td>\n",
       "      <td>As expressões santarenas não significam apenas...</td>\n",
       "    </tr>\n",
       "  </tbody>\n",
       "</table>\n",
       "</div>"
      ],
      "text/plain": [
       "                                   page  \\\n",
       "0  13db0ab1-eea2-4603-84c4-f40a876c7400   \n",
       "1  92907b73-5cd3-4184-8d8c-e206aed2bf1c   \n",
       "\n",
       "                                                 url  \\\n",
       "0  http://g1.globo.com/am/amazonas/noticia/2022/0...   \n",
       "1  http://g1.globo.com/pa/santarem-regiao/noticia...   \n",
       "\n",
       "                      issued                   modified  \\\n",
       "0  2022-06-18 20:37:45+00:00  2023-04-15 00:02:08+00:00   \n",
       "1  2019-06-20 17:19:52+00:00  2023-06-16 20:19:15+00:00   \n",
       "\n",
       "                                               title  \\\n",
       "0  Caso Bruno e Dom: 3º suspeito tem prisão tempo...   \n",
       "1  Linguajar dos santarenos é diferenciado e chei...   \n",
       "\n",
       "                                                body  \\\n",
       "0  Após audiência de custódia, a Justiça do Amazo...   \n",
       "1  Vista aérea de Santarém\n",
       "Ádrio Denner/ AD Produ...   \n",
       "\n",
       "                                             caption  \n",
       "0  Jeferson da Silva Lima foi escoltado por agent...  \n",
       "1  As expressões santarenas não significam apenas...  "
      ]
     },
     "execution_count": 33,
     "metadata": {},
     "output_type": "execute_result"
    }
   ],
   "source": [
    "itens_path = \"../data/raw/itens/itens/*.csv\"\n",
    "itens_files = Path.cwd().glob(itens_path)\n",
    "\n",
    "itens = pd.concat(\n",
    "    (read_csv_pyarrow(file) for file in itens_files),\n",
    "    ignore_index=True,\n",
    ")\n",
    "\n",
    "itens.head(2)"
   ]
  },
  {
   "cell_type": "code",
   "execution_count": 34,
   "metadata": {},
   "outputs": [
    {
     "data": {
      "text/plain": [
       "'Eleições: título de eleitor cancelado, o que fazer? Saiba como regularizar a tempo de votar'"
      ]
     },
     "execution_count": 34,
     "metadata": {},
     "output_type": "execute_result"
    }
   ],
   "source": [
    "itens[\"title\"][255598]"
   ]
  },
  {
   "cell_type": "markdown",
   "metadata": {},
   "source": [
    "Para os itens, a URL nos dá uma certa informação sobre o tipo da notícia. Ex.:\n",
    "- http://g1.globo.com/am/amazonas/noticia/2022/06/18/(...)\n",
    "  - A URL fornece a data que a notícia foi postada (18/06/2022)\n",
    "  - A URL fornece as \"tags\" da notícia:\n",
    "    - É do Amazonas, por isso contém 'am'\n",
    "    - A notícia é específica de Amazonas, por isso contém \"amazonas\"\n",
    "    - É uma notícia, então fica com \"noticia\" na tag\n",
    "- A URL \"http://g1.globo.com/pa/santarem-regiao/noticia/2019/06/20/(...)\" funciona de forma igual ao exemplo acima\n",
    "- http://g1.globo.com/mundo/noticia/2022/07/08/\n",
    "  - A notícia é internacional, então recebe a tag \"mundo\"\n",
    "  - Diferente das outras, não teve uma tag específica para a região que ocorreu. Isso já indica uma certa probabilidade de que o G1 recomende notícias para as pessoas baseadas na sua localização, infelizmente é um dado que não temos\n",
    "- http://g1.globo.com/politica/noticia/2021/09/09/(...)\n",
    "  - Aqui a tag mudou, por mais que seja algo brasileiro, apenas ficou como \"politica\"\n",
    "- http://g1.globo.com/politica/eleicoes/2022/noticia/2022/04/18/(...)\n",
    "  - Aqui a tag ficou mais específica, ainda está dentro de \"politica\", mas faz parte das eleições\n",
    "  - O \"2022\" aparece duas vezes, mas tem significados diferentes, um deles indica que a notícia é sobre as eleições de 2022, não necessariamente fala sobre a data de publicação da notícia\n",
    "\n",
    "Dito isso, temos o seguinte padrão:\n",
    "1. Aparece a URL base do G1 (http://g1.globo.com/)\n",
    "2. Aparece uma longa URL (tamanho variado) que fornece tags sobre a notícia, como sua região (estado, cidade ou se é internacional) ou seu tema (política, eleições, economia, etc.)\n",
    "3. Aparece a data da postagem da notícia - que é o mesmo valor que aparece na coluna `issued`\n",
    "4. E, por fim, tem-se a página e sua extensão (ghtml, por exemplo). Essa parte pode servir como a coluna `title` já tratada, pois segue o mesmo padrão, mas sem acentos. Ex.:\n",
    "   - Na url: \"eleicoes-titulo-de-eleitor-cancelado-o-que-fazer-saiba-como-regularizar-a-tempo-de-votar.ghtml\"\n",
    "   - No title: \"Eleições: título de eleitor cancelado, o que fazer? Saiba como regularizar a tempo de votar\"\n",
    "   - Com isso, pode-se utilizar a URL para pular a etapa de tratamento do título, pois a URL já aplica:\n",
    "     - Remoção de caracteres especiais (pontos, vírgulas etc.)\n",
    "     - Substituição de acentos pelo caractere de origem: \"ç\" vira \"c\", \"í\" vira \"i\"\n",
    "     - Tudo fica em letras minúsculas"
   ]
  },
  {
   "cell_type": "markdown",
   "metadata": {},
   "source": [
    "Agora, sobre as outras colunas, a mais preocupante parece a `body` - o corpo da notícia.\n",
    "\n",
    "Ela contém um enorme texto e precisará de uma série de tratamentos para ser processada corretamente em algoritmos de machine learning."
   ]
  },
  {
   "cell_type": "code",
   "execution_count": 36,
   "metadata": {},
   "outputs": [
    {
     "data": {
      "text/plain": [
       "'Caso Bruno e Dom: 3º suspeito tem prisão temporária decretada pela Justiça do AM'"
      ]
     },
     "execution_count": 36,
     "metadata": {},
     "output_type": "execute_result"
    }
   ],
   "source": [
    "itens[\"title\"][0]"
   ]
  },
  {
   "cell_type": "code",
   "execution_count": 37,
   "metadata": {},
   "outputs": [
    {
     "data": {
      "text/plain": [
       "'Jeferson da Silva Lima foi escoltado por agentes da Polícia Federal ao Fórum de Justiça do município para a audiência de custódia'"
      ]
     },
     "execution_count": 37,
     "metadata": {},
     "output_type": "execute_result"
    }
   ],
   "source": [
    "itens[\"caption\"][0]"
   ]
  },
  {
   "cell_type": "code",
   "execution_count": 35,
   "metadata": {},
   "outputs": [
    {
     "data": {
      "text/plain": [
       "'Após audiência de custódia, a Justiça do Amazonas decretou, na tarde deste sábado (18), a prisão temporária,  por 30 dias, de Jeferson da Silva Lima, conhecido como \"Pelado da Dinha\". Ele teve participação direta na morte do indigenista Bruno Pereira e do jornalista inglês Dom Phillips, aponta as investigações. \\n\"Pelado da Dinha\" foi considerado foragido na noite de sexta-feira (17) após ter o mandado de prisão expedido e não ser localizado pelas autoridades. Ele se entregou na delegacia de Atalaia do Norte, a 1.136 quilômetros de Manaus, nas primeiras horas da manhã deste sábado, onde foi ouvido pelo delegado Alex Perez Timóteo. \\n\"Pelado da Dinha\" foi considerado foragido na noite de sexta-feira (17) após ter o mandado de prisão expedido \\nRôney Elias/Rede Amazônica \\nDurante a tarde, Jeferson foi escoltado por agentes da Polícia Federal ao Fórum de Justiça do município para a audiência de custódia e teve a prisão temporária decretada. \\nPerícia confirma identificação dos restos mortais de Bruno Pereira\\nO delegado afirmou que, segundo as investigações, Jeferson tem participação direta no caso, desde a emboscada até a ocultação dos corpos.  \"Conforme todas as provas, todos os depoimentos colhidos até o momento, ele estava na cena do crime e participou ativamente do duplo homicídio ocorrido\", disse.\\nAssim como os outros dois presos, o prazo de 30 dias da prisão temporária de Jeferson pode ser prorrogado por mais 30. O processo tramita sob Segredo de Justiça.\\nA audiência de custódia foi realizada de forma híbrida- com a juíza, o investigado e o promotor de Justiça\\nTjam \\nIrmãos presos\\nNo dia 9 de junho, a Justiça decretou a prisão temporária de Amarildo da Costa de Oliveira, conhecido como \"Pelado\", que confessou o crime no dia 15, um dia após o irmão Oseney da Costa de Oliveira, conhecido como \"Dos Santos\", ter sido preso.\\nTambém no dia 15 de junho, a Justiça decretou a prisão temporária de Oseney. Os três suspeitos seguem detidos na carceragem da 50ª Delegacia Interativa de Polícia (DIP) de Atalaia de Norte. \\nBruno e Dom foram mortos a tiros \\nUm laudo de peritos da Polícia Federal confirmou, neste sábado (18), que o indigenista Bruno Araújo Pereira e o jornalista inglês Dom Phillips foram mortos a tiros, com munição de caça. \\nSegundo a análise, Bruno foi atingido por três disparos, dois no tórax e um na cabeça. Já Dom foi baleado uma vez, no tórax.\\nLEIA TAMBÉM: \\nPF confirma que restos mortais encontrados na Amazônia são do indigenista Bruno Pereira\\nPerícia da PF confirma que restos mortais encontrados na Amazônia são do jornalista Dom Phillips\\nBuscas pela embarcação\\nNeste sábado (18) continuam as buscas pela embarcação que transportava Bruno Pereira e Dom Phillips. Na sexta-feira (17), as ações das forças de segurança encerraram no final da tarde.\\nA região onde as buscas se concentram foi apontada por Amarildo da Costa Oliveira. Ele também indicou à polícia o local onde a embarcação foi afundada e a área onde os corpos das vítimas foram ocultados.\\nMotivação\\nA motivação do crime ainda é incerta, mas a polícia apura se há relação com a atividade de pesca ilegal e tráfico de drogas na região. Segunda maior terra indígena do país, o Vale do Javari é palco de conflitos típicos da Amazônia: desmatamento e avanço do garimpo.\\nAras e procuradores vão ao AM\\nO procurador-geral da República, Augusto Aras, e membros do Ministério Público Federal viajam a Tabatinga, no Amazonas, neste domingo (19).\\n O grupo deve participar de reuniões sobre a insegurança na Amazônia e, também, acompanhar os desdobramentos do assassinato do indigenista Bruno Pereira e do jornalista britânico Dom Phillips.\\n(CORREÇÃO: o Jornal Nacional errou no dia 18 de junho de 2022 ao exibir a imagem de um outro homem, de nome parecido, como se fosse Jeferson da Silva Lima, suspeito de participar do assassinato de Bruno Pereira e Dom Phillips no Vale do Javari, no Amazonas. O suspeito Jeferson da Silva Lima é este homem que você na foto abaixo. O Jornal Nacional pede desculpas a você e, em especial, ao homem cuja foto tinha sido exibida erroneamente.)\\nJeferson da Silva Lima, suspeito de participar do assassinato de Bruno Pereira e Dom Phillips no Vale do Javari, no Amazonas\\nJornal Nacional\\nOs vídeos mais assistidos do Amazonas:'"
      ]
     },
     "execution_count": 35,
     "metadata": {},
     "output_type": "execute_result"
    }
   ],
   "source": [
    "itens[\"body\"][0]"
   ]
  }
 ],
 "metadata": {
  "kernelspec": {
   "display_name": ".venv",
   "language": "python",
   "name": "python3"
  },
  "language_info": {
   "codemirror_mode": {
    "name": "ipython",
    "version": 3
   },
   "file_extension": ".py",
   "mimetype": "text/x-python",
   "name": "python",
   "nbconvert_exporter": "python",
   "pygments_lexer": "ipython3",
   "version": "3.12.8"
  }
 },
 "nbformat": 4,
 "nbformat_minor": 2
}
