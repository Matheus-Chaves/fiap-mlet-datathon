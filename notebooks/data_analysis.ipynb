{
 "cells": [
  {
   "cell_type": "markdown",
   "metadata": {},
   "source": [
    "# Análise dos dados"
   ]
  },
  {
   "cell_type": "markdown",
   "metadata": {},
   "source": [
    "## Sobre a análise"
   ]
  },
  {
   "cell_type": "markdown",
   "metadata": {},
   "source": [
    "Temos três tipos de dados neste projeto:\n",
    "\n",
    "1. Dados de treino\n",
    "2. Dados de validação\n",
    "3. Itens complementares\n",
    "\n",
    "Os dados de treino e de validação representam informações sobre os usuários do G1, falando sobre o tipo de usuário e o histórico de acesso de notícias dele.\\\n",
    "Já os itens complementares são dados sobre as páginas de notícias do G1: data de publicação e o conteúdo da notícia (título, subtítulo e corpo)."
   ]
  },
  {
   "cell_type": "markdown",
   "metadata": {},
   "source": [
    "O objetivo neste notebook é responder algumas perguntas sobre os dados, a fim de descobrir quais tratamentos precisaremos realizar e quais features novas poderemos criar.\n",
    "\n",
    "Ao final, iremos mostrar as conclusões que chegamos através da análise de cada um dos tipos de dados."
   ]
  },
  {
   "cell_type": "markdown",
   "metadata": {},
   "source": [
    "## Configuração"
   ]
  },
  {
   "cell_type": "code",
   "execution_count": 62,
   "metadata": {},
   "outputs": [],
   "source": [
    "from pathlib import Path\n",
    "\n",
    "import pandas as pd"
   ]
  },
  {
   "cell_type": "markdown",
   "metadata": {},
   "source": [
    "Temos vários tipos de dados que são considerados strings e queremos utilizar o tipo correto para processá-los, por isso vamos utilizar o `infer_string` do Pandas. Isso irá fazer com que as strings recebam o tipo `\"string[pyarrow]\"`, que processa as strings de uma forma mais eficiente do que o NumPy."
   ]
  },
  {
   "cell_type": "code",
   "execution_count": 63,
   "metadata": {},
   "outputs": [],
   "source": [
    "pd.options.future.infer_string = True  # type: ignore[attr-defined]"
   ]
  },
  {
   "cell_type": "code",
   "execution_count": 64,
   "metadata": {},
   "outputs": [],
   "source": [
    "import pyarrow.csv as pv\n",
    "\n",
    "\n",
    "def read_csv_pyarrow(path: Path) -> pd.DataFrame:\n",
    "    \"\"\"Read a CSV file with PyArrow as backend.\n",
    "\n",
    "    Args:\n",
    "        path (Path): the CSV file path\n",
    "\n",
    "    Returns:\n",
    "        pd.DataFrame: a Pandas DataFrame\n",
    "\n",
    "    \"\"\"\n",
    "    try:\n",
    "        return pd.read_csv(\n",
    "            path,\n",
    "            engine=\"pyarrow\",\n",
    "            dtype_backend=\"pyarrow\",\n",
    "        )\n",
    "    except pd.errors.ParserError:\n",
    "        return pv.read_csv(\n",
    "            path,\n",
    "            parse_options=pv.ParseOptions(newlines_in_values=True),\n",
    "        ).to_pandas(types_mapper=pd.ArrowDtype)"
   ]
  },
  {
   "cell_type": "markdown",
   "metadata": {},
   "source": [
    "## Análise dos dados de treino"
   ]
  },
  {
   "cell_type": "code",
   "execution_count": 4,
   "metadata": {},
   "outputs": [
    {
     "data": {
      "text/html": [
       "<div>\n",
       "<style scoped>\n",
       "    .dataframe tbody tr th:only-of-type {\n",
       "        vertical-align: middle;\n",
       "    }\n",
       "\n",
       "    .dataframe tbody tr th {\n",
       "        vertical-align: top;\n",
       "    }\n",
       "\n",
       "    .dataframe thead th {\n",
       "        text-align: right;\n",
       "    }\n",
       "</style>\n",
       "<table border=\"1\" class=\"dataframe\">\n",
       "  <thead>\n",
       "    <tr style=\"text-align: right;\">\n",
       "      <th></th>\n",
       "      <th>userId</th>\n",
       "      <th>userType</th>\n",
       "      <th>historySize</th>\n",
       "      <th>history</th>\n",
       "      <th>timestampHistory</th>\n",
       "      <th>numberOfClicksHistory</th>\n",
       "      <th>timeOnPageHistory</th>\n",
       "      <th>scrollPercentageHistory</th>\n",
       "      <th>pageVisitsCountHistory</th>\n",
       "      <th>timestampHistory_new</th>\n",
       "    </tr>\n",
       "  </thead>\n",
       "  <tbody>\n",
       "    <tr>\n",
       "      <th>0</th>\n",
       "      <td>acf7fbca426d323f580adddb4fa0f73598294df91cdaee...</td>\n",
       "      <td>Non-Logged</td>\n",
       "      <td>1</td>\n",
       "      <td>d6644c32-5828-4f88-ba44-a8d74c01d7bf</td>\n",
       "      <td>1657303857108</td>\n",
       "      <td>24</td>\n",
       "      <td>48232</td>\n",
       "      <td>47.5</td>\n",
       "      <td>1</td>\n",
       "      <td>1657303857108</td>\n",
       "    </tr>\n",
       "    <tr>\n",
       "      <th>1</th>\n",
       "      <td>0972299721e32759020a313bd97dcee19227fc3dd23164...</td>\n",
       "      <td>Non-Logged</td>\n",
       "      <td>1</td>\n",
       "      <td>68510c52-5530-4c89-9a8a-0ee36ab61546</td>\n",
       "      <td>1660338410977</td>\n",
       "      <td>0</td>\n",
       "      <td>10000</td>\n",
       "      <td>9.24</td>\n",
       "      <td>1</td>\n",
       "      <td>1660338410977</td>\n",
       "    </tr>\n",
       "  </tbody>\n",
       "</table>\n",
       "</div>"
      ],
      "text/plain": [
       "                                              userId    userType  historySize  \\\n",
       "0  acf7fbca426d323f580adddb4fa0f73598294df91cdaee...  Non-Logged            1   \n",
       "1  0972299721e32759020a313bd97dcee19227fc3dd23164...  Non-Logged            1   \n",
       "\n",
       "                                history timestampHistory  \\\n",
       "0  d6644c32-5828-4f88-ba44-a8d74c01d7bf    1657303857108   \n",
       "1  68510c52-5530-4c89-9a8a-0ee36ab61546    1660338410977   \n",
       "\n",
       "  numberOfClicksHistory timeOnPageHistory scrollPercentageHistory  \\\n",
       "0                    24             48232                    47.5   \n",
       "1                     0             10000                    9.24   \n",
       "\n",
       "  pageVisitsCountHistory timestampHistory_new  \n",
       "0                      1        1657303857108  \n",
       "1                      1        1660338410977  "
      ]
     },
     "execution_count": 4,
     "metadata": {},
     "output_type": "execute_result"
    }
   ],
   "source": [
    "train_path = \"../data/raw/files/treino/*.csv\"\n",
    "train_files = Path.cwd().glob(train_path)\n",
    "\n",
    "train = pd.concat(\n",
    "    (read_csv_pyarrow(file) for file in train_files),\n",
    "    ignore_index=True,\n",
    ")\n",
    "\n",
    "train.head(2)"
   ]
  },
  {
   "cell_type": "code",
   "execution_count": 5,
   "metadata": {},
   "outputs": [
    {
     "data": {
      "text/html": [
       "<div>\n",
       "<style scoped>\n",
       "    .dataframe tbody tr th:only-of-type {\n",
       "        vertical-align: middle;\n",
       "    }\n",
       "\n",
       "    .dataframe tbody tr th {\n",
       "        vertical-align: top;\n",
       "    }\n",
       "\n",
       "    .dataframe thead th {\n",
       "        text-align: right;\n",
       "    }\n",
       "</style>\n",
       "<table border=\"1\" class=\"dataframe\">\n",
       "  <thead>\n",
       "    <tr style=\"text-align: right;\">\n",
       "      <th></th>\n",
       "      <th>userId</th>\n",
       "      <th>userType</th>\n",
       "      <th>historySize</th>\n",
       "      <th>history</th>\n",
       "      <th>timestampHistory</th>\n",
       "      <th>numberOfClicksHistory</th>\n",
       "      <th>timeOnPageHistory</th>\n",
       "      <th>scrollPercentageHistory</th>\n",
       "      <th>pageVisitsCountHistory</th>\n",
       "      <th>timestampHistory_new</th>\n",
       "    </tr>\n",
       "  </thead>\n",
       "  <tbody>\n",
       "    <tr>\n",
       "      <th>count</th>\n",
       "      <td>577942</td>\n",
       "      <td>577942</td>\n",
       "      <td>577942.0</td>\n",
       "      <td>577942</td>\n",
       "      <td>577942</td>\n",
       "      <td>577942</td>\n",
       "      <td>577942</td>\n",
       "      <td>577942</td>\n",
       "      <td>577942</td>\n",
       "      <td>577942</td>\n",
       "    </tr>\n",
       "    <tr>\n",
       "      <th>unique</th>\n",
       "      <td>577942</td>\n",
       "      <td>2</td>\n",
       "      <td>&lt;NA&gt;</td>\n",
       "      <td>340320</td>\n",
       "      <td>577934</td>\n",
       "      <td>182881</td>\n",
       "      <td>384167</td>\n",
       "      <td>325080</td>\n",
       "      <td>72321</td>\n",
       "      <td>577934</td>\n",
       "    </tr>\n",
       "    <tr>\n",
       "      <th>top</th>\n",
       "      <td>acf7fbca426d323f580adddb4fa0f73598294df91cdaee...</td>\n",
       "      <td>Non-Logged</td>\n",
       "      <td>&lt;NA&gt;</td>\n",
       "      <td>45a23540-7c1b-4d3f-89bc-74d897e2a489</td>\n",
       "      <td>1660335071796</td>\n",
       "      <td>0</td>\n",
       "      <td>10000</td>\n",
       "      <td>12.5</td>\n",
       "      <td>1</td>\n",
       "      <td>1660335071796</td>\n",
       "    </tr>\n",
       "    <tr>\n",
       "      <th>freq</th>\n",
       "      <td>1</td>\n",
       "      <td>458856</td>\n",
       "      <td>&lt;NA&gt;</td>\n",
       "      <td>1407</td>\n",
       "      <td>2</td>\n",
       "      <td>96760</td>\n",
       "      <td>31860</td>\n",
       "      <td>3043</td>\n",
       "      <td>240117</td>\n",
       "      <td>2</td>\n",
       "    </tr>\n",
       "    <tr>\n",
       "      <th>mean</th>\n",
       "      <td>NaN</td>\n",
       "      <td>NaN</td>\n",
       "      <td>14.056689</td>\n",
       "      <td>NaN</td>\n",
       "      <td>NaN</td>\n",
       "      <td>NaN</td>\n",
       "      <td>NaN</td>\n",
       "      <td>NaN</td>\n",
       "      <td>NaN</td>\n",
       "      <td>NaN</td>\n",
       "    </tr>\n",
       "    <tr>\n",
       "      <th>std</th>\n",
       "      <td>NaN</td>\n",
       "      <td>NaN</td>\n",
       "      <td>46.037793</td>\n",
       "      <td>NaN</td>\n",
       "      <td>NaN</td>\n",
       "      <td>NaN</td>\n",
       "      <td>NaN</td>\n",
       "      <td>NaN</td>\n",
       "      <td>NaN</td>\n",
       "      <td>NaN</td>\n",
       "    </tr>\n",
       "    <tr>\n",
       "      <th>min</th>\n",
       "      <td>NaN</td>\n",
       "      <td>NaN</td>\n",
       "      <td>1.0</td>\n",
       "      <td>NaN</td>\n",
       "      <td>NaN</td>\n",
       "      <td>NaN</td>\n",
       "      <td>NaN</td>\n",
       "      <td>NaN</td>\n",
       "      <td>NaN</td>\n",
       "      <td>NaN</td>\n",
       "    </tr>\n",
       "    <tr>\n",
       "      <th>25%</th>\n",
       "      <td>NaN</td>\n",
       "      <td>NaN</td>\n",
       "      <td>1.0</td>\n",
       "      <td>NaN</td>\n",
       "      <td>NaN</td>\n",
       "      <td>NaN</td>\n",
       "      <td>NaN</td>\n",
       "      <td>NaN</td>\n",
       "      <td>NaN</td>\n",
       "      <td>NaN</td>\n",
       "    </tr>\n",
       "    <tr>\n",
       "      <th>50%</th>\n",
       "      <td>NaN</td>\n",
       "      <td>NaN</td>\n",
       "      <td>2.0</td>\n",
       "      <td>NaN</td>\n",
       "      <td>NaN</td>\n",
       "      <td>NaN</td>\n",
       "      <td>NaN</td>\n",
       "      <td>NaN</td>\n",
       "      <td>NaN</td>\n",
       "      <td>NaN</td>\n",
       "    </tr>\n",
       "    <tr>\n",
       "      <th>75%</th>\n",
       "      <td>NaN</td>\n",
       "      <td>NaN</td>\n",
       "      <td>6.0</td>\n",
       "      <td>NaN</td>\n",
       "      <td>NaN</td>\n",
       "      <td>NaN</td>\n",
       "      <td>NaN</td>\n",
       "      <td>NaN</td>\n",
       "      <td>NaN</td>\n",
       "      <td>NaN</td>\n",
       "    </tr>\n",
       "    <tr>\n",
       "      <th>max</th>\n",
       "      <td>NaN</td>\n",
       "      <td>NaN</td>\n",
       "      <td>7004.0</td>\n",
       "      <td>NaN</td>\n",
       "      <td>NaN</td>\n",
       "      <td>NaN</td>\n",
       "      <td>NaN</td>\n",
       "      <td>NaN</td>\n",
       "      <td>NaN</td>\n",
       "      <td>NaN</td>\n",
       "    </tr>\n",
       "  </tbody>\n",
       "</table>\n",
       "</div>"
      ],
      "text/plain": [
       "                                                   userId    userType  \\\n",
       "count                                              577942      577942   \n",
       "unique                                             577942           2   \n",
       "top     acf7fbca426d323f580adddb4fa0f73598294df91cdaee...  Non-Logged   \n",
       "freq                                                    1      458856   \n",
       "mean                                                  NaN         NaN   \n",
       "std                                                   NaN         NaN   \n",
       "min                                                   NaN         NaN   \n",
       "25%                                                   NaN         NaN   \n",
       "50%                                                   NaN         NaN   \n",
       "75%                                                   NaN         NaN   \n",
       "max                                                   NaN         NaN   \n",
       "\n",
       "        historySize                               history timestampHistory  \\\n",
       "count      577942.0                                577942           577942   \n",
       "unique         <NA>                                340320           577934   \n",
       "top            <NA>  45a23540-7c1b-4d3f-89bc-74d897e2a489    1660335071796   \n",
       "freq           <NA>                                  1407                2   \n",
       "mean      14.056689                                   NaN              NaN   \n",
       "std       46.037793                                   NaN              NaN   \n",
       "min             1.0                                   NaN              NaN   \n",
       "25%             1.0                                   NaN              NaN   \n",
       "50%             2.0                                   NaN              NaN   \n",
       "75%             6.0                                   NaN              NaN   \n",
       "max          7004.0                                   NaN              NaN   \n",
       "\n",
       "       numberOfClicksHistory timeOnPageHistory scrollPercentageHistory  \\\n",
       "count                 577942            577942                  577942   \n",
       "unique                182881            384167                  325080   \n",
       "top                        0             10000                    12.5   \n",
       "freq                   96760             31860                    3043   \n",
       "mean                     NaN               NaN                     NaN   \n",
       "std                      NaN               NaN                     NaN   \n",
       "min                      NaN               NaN                     NaN   \n",
       "25%                      NaN               NaN                     NaN   \n",
       "50%                      NaN               NaN                     NaN   \n",
       "75%                      NaN               NaN                     NaN   \n",
       "max                      NaN               NaN                     NaN   \n",
       "\n",
       "       pageVisitsCountHistory timestampHistory_new  \n",
       "count                  577942               577942  \n",
       "unique                  72321               577934  \n",
       "top                         1        1660335071796  \n",
       "freq                   240117                    2  \n",
       "mean                      NaN                  NaN  \n",
       "std                       NaN                  NaN  \n",
       "min                       NaN                  NaN  \n",
       "25%                       NaN                  NaN  \n",
       "50%                       NaN                  NaN  \n",
       "75%                       NaN                  NaN  \n",
       "max                       NaN                  NaN  "
      ]
     },
     "execution_count": 5,
     "metadata": {},
     "output_type": "execute_result"
    }
   ],
   "source": [
    "train.describe(include=\"all\")"
   ]
  },
  {
   "cell_type": "code",
   "execution_count": 6,
   "metadata": {},
   "outputs": [
    {
     "name": "stdout",
     "output_type": "stream",
     "text": [
      "<class 'pandas.core.frame.DataFrame'>\n",
      "RangeIndex: 577942 entries, 0 to 577941\n",
      "Data columns (total 10 columns):\n",
      " #   Column                   Non-Null Count   Dtype          \n",
      "---  ------                   --------------   -----          \n",
      " 0   userId                   577942 non-null  string[pyarrow]\n",
      " 1   userType                 577942 non-null  string[pyarrow]\n",
      " 2   historySize              577942 non-null  int64[pyarrow] \n",
      " 3   history                  577942 non-null  string[pyarrow]\n",
      " 4   timestampHistory         577942 non-null  string[pyarrow]\n",
      " 5   numberOfClicksHistory    577942 non-null  string[pyarrow]\n",
      " 6   timeOnPageHistory        577942 non-null  string[pyarrow]\n",
      " 7   scrollPercentageHistory  577942 non-null  string[pyarrow]\n",
      " 8   pageVisitsCountHistory   577942 non-null  string[pyarrow]\n",
      " 9   timestampHistory_new     577942 non-null  string[pyarrow]\n",
      "dtypes: int64[pyarrow](1), string[pyarrow](9)\n",
      "memory usage: 743.7 MB\n"
     ]
    }
   ],
   "source": [
    "train.info()"
   ]
  },
  {
   "cell_type": "markdown",
   "metadata": {},
   "source": [
    "Temos 10 colunas diferentes, sendo elas, segundo a própria documentação da FIAP:\n",
    "\n",
    "- `userId`: id do usuário.\n",
    "- `userType`: usuário logado ou anônimo.\n",
    "- `historySize`: quantidade de notícias lidas pelo usuário.\n",
    "- `history`: lista de notícias visitadas pelo usuário.\n",
    "- `timestampHistory`: momento em que o usuário visitou a página.\n",
    "- `timeOnPageHistory`: quantidade de ms em que o usuário ficou na página.\n",
    "- `numberOfClicksHistory`: quantidade de clicks na matéria.\n",
    "- `scrollPercentageHistory`: quanto o usuário visualizou da matéria.\n",
    "- `pageVisitsCountHistory`: quantidade de vezes que o usuário visitou a matéria."
   ]
  },
  {
   "cell_type": "markdown",
   "metadata": {},
   "source": [
    "Por mais que não esteja no enunciado do projeto, também existe a coluna `timestampHistory_new` no dataset, mas parece ser um erro de coluna duplicada, já que seu valor é idêntico ao da coluna `timestampHistory`."
   ]
  },
  {
   "cell_type": "code",
   "execution_count": 7,
   "metadata": {},
   "outputs": [
    {
     "data": {
      "text/plain": [
       "'Há algum valor diferente quando comparamos as `timestampHistory`?'"
      ]
     },
     "metadata": {},
     "output_type": "display_data"
    },
    {
     "data": {
      "text/plain": [
       "False"
      ]
     },
     "metadata": {},
     "output_type": "display_data"
    }
   ],
   "source": [
    "display(\n",
    "    \"Há algum valor diferente quando comparamos as `timestampHistory`?\",\n",
    "    (train[\"timestampHistory\"] != train[\"timestampHistory_new\"]).any(),\n",
    ")"
   ]
  },
  {
   "cell_type": "markdown",
   "metadata": {},
   "source": [
    "Sendo assim, iremos remover a coluna:"
   ]
  },
  {
   "cell_type": "code",
   "execution_count": 8,
   "metadata": {},
   "outputs": [
    {
     "data": {
      "text/html": [
       "<div>\n",
       "<style scoped>\n",
       "    .dataframe tbody tr th:only-of-type {\n",
       "        vertical-align: middle;\n",
       "    }\n",
       "\n",
       "    .dataframe tbody tr th {\n",
       "        vertical-align: top;\n",
       "    }\n",
       "\n",
       "    .dataframe thead th {\n",
       "        text-align: right;\n",
       "    }\n",
       "</style>\n",
       "<table border=\"1\" class=\"dataframe\">\n",
       "  <thead>\n",
       "    <tr style=\"text-align: right;\">\n",
       "      <th></th>\n",
       "      <th>userId</th>\n",
       "      <th>userType</th>\n",
       "      <th>historySize</th>\n",
       "      <th>history</th>\n",
       "      <th>timestampHistory</th>\n",
       "      <th>numberOfClicksHistory</th>\n",
       "      <th>timeOnPageHistory</th>\n",
       "      <th>scrollPercentageHistory</th>\n",
       "      <th>pageVisitsCountHistory</th>\n",
       "    </tr>\n",
       "  </thead>\n",
       "  <tbody>\n",
       "    <tr>\n",
       "      <th>0</th>\n",
       "      <td>acf7fbca426d323f580adddb4fa0f73598294df91cdaee...</td>\n",
       "      <td>Non-Logged</td>\n",
       "      <td>1</td>\n",
       "      <td>d6644c32-5828-4f88-ba44-a8d74c01d7bf</td>\n",
       "      <td>1657303857108</td>\n",
       "      <td>24</td>\n",
       "      <td>48232</td>\n",
       "      <td>47.5</td>\n",
       "      <td>1</td>\n",
       "    </tr>\n",
       "  </tbody>\n",
       "</table>\n",
       "</div>"
      ],
      "text/plain": [
       "                                              userId    userType  historySize                               history timestampHistory numberOfClicksHistory timeOnPageHistory scrollPercentageHistory pageVisitsCountHistory\n",
       "0  acf7fbca426d323f580adddb4fa0f73598294df91cdaee...  Non-Logged            1  d6644c32-5828-4f88-ba44-a8d74c01d7bf    1657303857108                    24             48232                    47.5                      1"
      ]
     },
     "execution_count": 8,
     "metadata": {},
     "output_type": "execute_result"
    }
   ],
   "source": [
    "train = train.drop(columns=[\"timestampHistory_new\"])\n",
    "train.head(1)"
   ]
  },
  {
   "cell_type": "markdown",
   "metadata": {},
   "source": [
    "**Temos usuários iguais/duplicados no dataset?**\\\n",
    "Dependendo da forma que o G1 lida com os dados, talvez existam usuários com `userId` iguais, mas cada um com um `userType` diferente."
   ]
  },
  {
   "cell_type": "code",
   "execution_count": 9,
   "metadata": {},
   "outputs": [
    {
     "data": {
      "text/plain": [
       "np.int64(0)"
      ]
     },
     "metadata": {},
     "output_type": "display_data"
    },
    {
     "data": {
      "text/plain": [
       "np.int64(0)"
      ]
     },
     "metadata": {},
     "output_type": "display_data"
    }
   ],
   "source": [
    "display(train.duplicated().sum())\n",
    "display(train.duplicated(subset=[\"userId\"]).sum())"
   ]
  },
  {
   "cell_type": "markdown",
   "metadata": {},
   "source": [
    "O CSV apenas separa por vírgulas as colunas que são listas. Isso faz com que elas sejam interpretadas pelo tipo \"string\" quando são lidar pela engine do Pandas com PyArrow. Sendo assim, é bom convertê-las para conseguirmos utilizar métodos de listas nelas nas análises."
   ]
  },
  {
   "cell_type": "code",
   "execution_count": 10,
   "metadata": {},
   "outputs": [],
   "source": [
    "list_columns = [\n",
    "    \"history\",\n",
    "    \"timestampHistory\",\n",
    "    \"numberOfClicksHistory\",\n",
    "    \"timeOnPageHistory\",\n",
    "    \"scrollPercentageHistory\",\n",
    "    \"pageVisitsCountHistory\",\n",
    "]\n",
    "\n",
    "train[list_columns] = train[list_columns].apply(lambda x: x.str.split(\", \"))"
   ]
  },
  {
   "cell_type": "code",
   "execution_count": 11,
   "metadata": {},
   "outputs": [
    {
     "name": "stdout",
     "output_type": "stream",
     "text": [
      "<class 'pandas.core.frame.DataFrame'>\n",
      "RangeIndex: 577942 entries, 0 to 577941\n",
      "Data columns (total 9 columns):\n",
      " #   Column                   Non-Null Count   Dtype                      \n",
      "---  ------                   --------------   -----                      \n",
      " 0   userId                   577942 non-null  string[pyarrow]            \n",
      " 1   userType                 577942 non-null  string[pyarrow]            \n",
      " 2   historySize              577942 non-null  int64[pyarrow]             \n",
      " 3   history                  577942 non-null  list<item: string>[pyarrow]\n",
      " 4   timestampHistory         577942 non-null  list<item: string>[pyarrow]\n",
      " 5   numberOfClicksHistory    577942 non-null  list<item: string>[pyarrow]\n",
      " 6   timeOnPageHistory        577942 non-null  list<item: string>[pyarrow]\n",
      " 7   scrollPercentageHistory  577942 non-null  list<item: string>[pyarrow]\n",
      " 8   pageVisitsCountHistory   577942 non-null  list<item: string>[pyarrow]\n",
      "dtypes: int64[pyarrow](1), list<item: string>[pyarrow](6), string[pyarrow](2)\n",
      "memory usage: 726.4 MB\n"
     ]
    }
   ],
   "source": [
    "train.info()"
   ]
  },
  {
   "cell_type": "markdown",
   "metadata": {},
   "source": [
    "O usuário só pode estar logado ou deslogado (usuário anônimo/sem uma conta). Com essa informação, futuramente este campo pode ser tratado para virar um inteiro, sendo 1 (logados) e 0 (deslogados).\n",
    "\n",
    "O dataset está longe de estar balanceado pelo tipo do usuário. Tem-se quase 80% da base com usuários `Non-Loged`, isso já nos mostra que muitas pessoas acessam as notícias sem login ou criação de uma conta."
   ]
  },
  {
   "cell_type": "code",
   "execution_count": 12,
   "metadata": {},
   "outputs": [
    {
     "data": {
      "text/plain": [
       "userType\n",
       "Non-Logged    79.394818\n",
       "Logged        20.605182\n",
       "Name: proportion, dtype: double[pyarrow]"
      ]
     },
     "execution_count": 12,
     "metadata": {},
     "output_type": "execute_result"
    }
   ],
   "source": [
    "train[\"userType\"].value_counts(normalize=True) * 100"
   ]
  },
  {
   "cell_type": "markdown",
   "metadata": {},
   "source": [
    "**Como é o comportamento dos valores?**\\\n",
    "Como os valores estão em formato de listas, utilizar o comando \"describe\" não é o bastante para gerar as métricas básicas de cada coluna."
   ]
  },
  {
   "cell_type": "markdown",
   "metadata": {},
   "source": [
    "Conforme podemos ver abaixo, o todas as colunas possuem valores bem mais altos que o normal, provavelmente representando algum tipo de erro ou um acesso fora do comum (outlier) no dataset.\n",
    "\n",
    "- O resto das colunas acaba somando suas quantidades de acordo com `pageVisitsCountHistory` do usuário. Por exemplo: o valor máximo da coluna `numberOfClicksHistory` é 14562, e ao investigar este valor, a página em questão é um **dashboard interativo** e o usuário acessou a página **29 vezes**, explicando valores altos de clicks, de `timeOnPageHistory` (1198939).\n",
    "- A coluna `scrollPercentageHistory` deveria, por lógica, ir de 0 até 100, já que é o percentual do quanto o usuário visualizou a página (0 = não visualizou nada; 100 = visualizou tudo), porém é possível ver valores enormes nessa coluna. Sendo assim, um tratamento aqui seria normalizar o valor, transformando valores acima de 100 no número 100.\n",
    "  - Outra coisa que foi possível perceber é que não necessariamente métricas altas (como um longo tempo de acesso na página, muitos clicks, etc.) indicam que o usuário tem um percentual de scroll alto. Isso já indica que não podemos levar essa coluna tão a sério assim, pois parece não monitorar tão bem o usuário."
   ]
  },
  {
   "cell_type": "code",
   "execution_count": 58,
   "metadata": {},
   "outputs": [
    {
     "data": {
      "text/plain": [
       "count   8123951.00\n",
       "mean         12.05\n",
       "std          37.39\n",
       "min           0.00\n",
       "25%           0.00\n",
       "50%           1.00\n",
       "75%          14.00\n",
       "max       14562.00\n",
       "Name: numberOfClicksHistory, dtype: double[pyarrow]"
      ]
     },
     "metadata": {},
     "output_type": "display_data"
    }
   ],
   "source": [
    "with pd.option_context(\"display.float_format\", \"{:.2f}\".format):\n",
    "    display(pd.to_numeric(train[\"numberOfClicksHistory\"].explode()).describe())"
   ]
  },
  {
   "cell_type": "code",
   "execution_count": 57,
   "metadata": {},
   "outputs": [
    {
     "data": {
      "text/plain": [
       "count   8123951.00\n",
       "mean          1.14\n",
       "std           1.08\n",
       "min           1.00\n",
       "25%           1.00\n",
       "50%           1.00\n",
       "75%           1.00\n",
       "max         654.00\n",
       "Name: pageVisitsCountHistory, dtype: double[pyarrow]"
      ]
     },
     "metadata": {},
     "output_type": "display_data"
    }
   ],
   "source": [
    "with pd.option_context(\"display.float_format\", \"{:.2f}\".format):\n",
    "    display(pd.to_numeric(train[\"pageVisitsCountHistory\"].explode()).describe())"
   ]
  },
  {
   "cell_type": "code",
   "execution_count": 55,
   "metadata": {},
   "outputs": [
    {
     "data": {
      "text/plain": [
       "count    8123951.00\n",
       "mean       88768.69\n",
       "std       113932.18\n",
       "min         5000.00\n",
       "25%        29870.00\n",
       "50%        60000.00\n",
       "75%       114582.00\n",
       "max     46033049.00\n",
       "Name: timeOnPageHistory, dtype: double[pyarrow]"
      ]
     },
     "metadata": {},
     "output_type": "display_data"
    }
   ],
   "source": [
    "with pd.option_context(\"display.float_format\", \"{:.2f}\".format):\n",
    "    display(pd.to_numeric(train[\"timeOnPageHistory\"].explode()).describe())"
   ]
  },
  {
   "cell_type": "code",
   "execution_count": 56,
   "metadata": {},
   "outputs": [
    {
     "data": {
      "text/plain": [
       "count   8123951.00\n",
       "mean         54.01\n",
       "std        1832.26\n",
       "min           0.02\n",
       "25%          27.08\n",
       "50%          43.23\n",
       "75%          59.93\n",
       "max      526275.56\n",
       "Name: scrollPercentageHistory, dtype: double[pyarrow]"
      ]
     },
     "metadata": {},
     "output_type": "display_data"
    }
   ],
   "source": [
    "with pd.option_context(\"display.float_format\", \"{:.2f}\".format):\n",
    "    display(pd.to_numeric(train[\"scrollPercentageHistory\"].explode()).describe())"
   ]
  },
  {
   "cell_type": "markdown",
   "metadata": {},
   "source": [
    "**Todas as listas possuem o mesmo tamanho?**\\\n",
    "Como elas falam sobre o histórico do usuário, o correto é que cada lista em cada linha tenha o mesmo tamanho que aparece na coluna `historySize`.\n",
    "\n",
    "- Sim! Fizemos uma função que compara o tamanho em `historySize` com o tamanho das listas que temos no dataframe. Ela retornou `True`, indicando que todas as listas possuem o tamanho correto.\n"
   ]
  },
  {
   "cell_type": "code",
   "execution_count": 12,
   "metadata": {},
   "outputs": [
    {
     "data": {
      "text/plain": [
       "True"
      ]
     },
     "execution_count": 12,
     "metadata": {},
     "output_type": "execute_result"
    }
   ],
   "source": [
    "def check_size(row: pd.Series, size: int, list_columns: list[str]) -> bool:\n",
    "    \"\"\"Check if the len of `historySize` is equal to the len of other columns.\n",
    "\n",
    "    Args:\n",
    "        row (pd.Series): the row containing the columns in `list_columns`\n",
    "        size (int): the size to be checked\n",
    "        list_columns (list[str]): list with column names of the dataframe\n",
    "\n",
    "    Returns:\n",
    "        bool: result of the comparison, returns True if equal.\n",
    "\n",
    "    \"\"\"\n",
    "    return all(len(row[col_list]) == size for col_list in list_columns)\n",
    "\n",
    "\n",
    "all(train.apply(lambda x: check_size(x, x[\"historySize\"], list_columns), axis=1))"
   ]
  },
  {
   "cell_type": "markdown",
   "metadata": {},
   "source": [
    "**Todos os usuários possuem ao menos um valor em seu histórico de acesso?**\\\n",
    "Isso é relevante para entender quando o G1 começa a monitorar o usuário: é assim que ele entra em qualquer página ou somente quando acessa sua primeira notícia?\n",
    "\n",
    "Vendo que todos os usuários possuem algum valor em seu `history`, isso já fica claro que é a partir da primeira notícia que o monitoramento começa. Todos os usuários possuem algum histórico, mesmo que seja de apenas uma notícia."
   ]
  },
  {
   "cell_type": "code",
   "execution_count": 13,
   "metadata": {},
   "outputs": [
    {
     "data": {
      "text/plain": [
       "True"
      ]
     },
     "execution_count": 13,
     "metadata": {},
     "output_type": "execute_result"
    }
   ],
   "source": [
    "all(train[\"history\"].apply(len) > 0)"
   ]
  },
  {
   "cell_type": "code",
   "execution_count": 14,
   "metadata": {},
   "outputs": [
    {
     "data": {
      "text/plain": [
       "count     577942.0\n",
       "mean     14.056689\n",
       "std      46.037793\n",
       "min            1.0\n",
       "25%            1.0\n",
       "50%            2.0\n",
       "75%            6.0\n",
       "max         7004.0\n",
       "Name: historySize, dtype: double[pyarrow]"
      ]
     },
     "execution_count": 14,
     "metadata": {},
     "output_type": "execute_result"
    }
   ],
   "source": [
    "train[\"historySize\"].describe()"
   ]
  },
  {
   "cell_type": "code",
   "execution_count": 15,
   "metadata": {},
   "outputs": [
    {
     "data": {
      "text/plain": [
       "2.0"
      ]
     },
     "execution_count": 15,
     "metadata": {},
     "output_type": "execute_result"
    }
   ],
   "source": [
    "train[\"historySize\"].median()"
   ]
  },
  {
   "cell_type": "markdown",
   "metadata": {},
   "source": [
    "O tamanho do histórico possui 14 de média e 2 de mediana, indicando que alguns usuários possuem um valor de histórico bem alto na base. Os percentis baixos junto com o tamanho máximo alto também indica isso.\n",
    "\n",
    "Infelizmente, como não há uma coluna indicando a data de início que o usuário começou a ter seu histórico monitorado, não temos como saber se o tamanho do histórico dele é proporcional ao tempo que ele acessa o G1."
   ]
  },
  {
   "cell_type": "code",
   "execution_count": 16,
   "metadata": {},
   "outputs": [
    {
     "data": {
      "text/plain": [
       "'Há 135 usuários com um histórico maior ou igual que 800. Temos 577942 usuários na base.'"
      ]
     },
     "metadata": {},
     "output_type": "display_data"
    },
    {
     "data": {
      "text/html": [
       "<div>\n",
       "<style scoped>\n",
       "    .dataframe tbody tr th:only-of-type {\n",
       "        vertical-align: middle;\n",
       "    }\n",
       "\n",
       "    .dataframe tbody tr th {\n",
       "        vertical-align: top;\n",
       "    }\n",
       "\n",
       "    .dataframe thead th {\n",
       "        text-align: right;\n",
       "    }\n",
       "</style>\n",
       "<table border=\"1\" class=\"dataframe\">\n",
       "  <thead>\n",
       "    <tr style=\"text-align: right;\">\n",
       "      <th></th>\n",
       "      <th>userId</th>\n",
       "      <th>userType</th>\n",
       "      <th>historySize</th>\n",
       "      <th>history</th>\n",
       "      <th>timestampHistory</th>\n",
       "      <th>numberOfClicksHistory</th>\n",
       "      <th>timeOnPageHistory</th>\n",
       "      <th>scrollPercentageHistory</th>\n",
       "      <th>pageVisitsCountHistory</th>\n",
       "    </tr>\n",
       "  </thead>\n",
       "  <tbody>\n",
       "    <tr>\n",
       "      <th>433750</th>\n",
       "      <td>1b9bf55cf5c0d7ba34e8925dbbc98da17c5ab360d907c5...</td>\n",
       "      <td>Non-Logged</td>\n",
       "      <td>7004</td>\n",
       "      <td>['26b69894-5e12-4e11-b36a-94e6ec3172a0'\n",
       " '9277...</td>\n",
       "      <td>['1658713338344' '1658713440930' '165871481029...</td>\n",
       "      <td>['0' '20' '1' ... '0' '0' '0']</td>\n",
       "      <td>['136395' '290000' '160971' ... '10000' '10000...</td>\n",
       "      <td>['15.77' '12.72' '4.26' ... '6.19' '6.38' '7.95']</td>\n",
       "      <td>['5' '5' '9' ... '1' '1' '1']</td>\n",
       "    </tr>\n",
       "    <tr>\n",
       "      <th>347719</th>\n",
       "      <td>1f7a8e71d6d871e6a77f193c0cece8a6ebcd304dcfddcc...</td>\n",
       "      <td>Logged</td>\n",
       "      <td>5907</td>\n",
       "      <td>['f609464e-5777-4bc9-828a-47f982cc3fed'\n",
       " '007f...</td>\n",
       "      <td>['1656644949511' '1656645019617' '165664533024...</td>\n",
       "      <td>['0' '0' '0' ... '0' '0' '0']</td>\n",
       "      <td>['40000' '28550' '98640' ... '50000' '25196' '...</td>\n",
       "      <td>['43.16' '38.38' '16.89' ... '43.98' '35.02' '...</td>\n",
       "      <td>['1' '1' '5' ... '1' '1' '1']</td>\n",
       "    </tr>\n",
       "    <tr>\n",
       "      <th>251786</th>\n",
       "      <td>83a2ba48f07e49f33ef4aa3ceb90933f9adff1ddb6ed16...</td>\n",
       "      <td>Non-Logged</td>\n",
       "      <td>4914</td>\n",
       "      <td>['4745a8d7-9f4f-4beb-8b8d-5adb92000082'\n",
       " '1615...</td>\n",
       "      <td>['1656672728140' '1656672826027' '165667447595...</td>\n",
       "      <td>['0' '0' '0' ... '2' '2' '0']</td>\n",
       "      <td>['10000' '10000' '27069' ... '90000' '40000' '...</td>\n",
       "      <td>['6.88' '6.28' '25.96' ... '44.79' '11.4' '14....</td>\n",
       "      <td>['1' '1' '1' ... '1' '1' '1']</td>\n",
       "    </tr>\n",
       "    <tr>\n",
       "      <th>386620</th>\n",
       "      <td>d3b82a1305105bcaaa646d2da1e97b6935deddbcfbd12b...</td>\n",
       "      <td>Logged</td>\n",
       "      <td>3580</td>\n",
       "      <td>['eaea3d49-6fc3-475d-ba30-fa02a91daa98'\n",
       " '4e1d...</td>\n",
       "      <td>['1656645129077' '1656645137042' '165664523380...</td>\n",
       "      <td>['0' '1' '8' ... '17' '1' '0']</td>\n",
       "      <td>['10000' '23204' '100000' ... '110000' '33506'...</td>\n",
       "      <td>['13.3' '27.72' '27.03' ... '40.09' '18.55' '2...</td>\n",
       "      <td>['1' '1' '2' ... '1' '1' '1']</td>\n",
       "    </tr>\n",
       "    <tr>\n",
       "      <th>136184</th>\n",
       "      <td>9d176e2202250e7925b17eae0978eee726f8ff9372e45c...</td>\n",
       "      <td>Non-Logged</td>\n",
       "      <td>3318</td>\n",
       "      <td>['07ee94b0-9c39-448e-b96c-3d67f9c1670f'\n",
       " 'fad4...</td>\n",
       "      <td>['1656691004852' '1656691099012' '165669126445...</td>\n",
       "      <td>['24' '55' '8' ... '16' '63' '72']</td>\n",
       "      <td>['89910' '156859' '20274' ... '39313' '114801'...</td>\n",
       "      <td>['72.44' '79.86' '35.65' ... '58.53' '98.72' '...</td>\n",
       "      <td>['1' '1' '1' ... '1' '1' '1']</td>\n",
       "    </tr>\n",
       "  </tbody>\n",
       "</table>\n",
       "</div>"
      ],
      "text/plain": [
       "                                                   userId    userType  historySize                                            history                                   timestampHistory               numberOfClicksHistory                                  timeOnPageHistory                            scrollPercentageHistory         pageVisitsCountHistory\n",
       "433750  1b9bf55cf5c0d7ba34e8925dbbc98da17c5ab360d907c5...  Non-Logged         7004  ['26b69894-5e12-4e11-b36a-94e6ec3172a0'\n",
       " '9277...  ['1658713338344' '1658713440930' '165871481029...      ['0' '20' '1' ... '0' '0' '0']  ['136395' '290000' '160971' ... '10000' '10000...  ['15.77' '12.72' '4.26' ... '6.19' '6.38' '7.95']  ['5' '5' '9' ... '1' '1' '1']\n",
       "347719  1f7a8e71d6d871e6a77f193c0cece8a6ebcd304dcfddcc...      Logged         5907  ['f609464e-5777-4bc9-828a-47f982cc3fed'\n",
       " '007f...  ['1656644949511' '1656645019617' '165664533024...       ['0' '0' '0' ... '0' '0' '0']  ['40000' '28550' '98640' ... '50000' '25196' '...  ['43.16' '38.38' '16.89' ... '43.98' '35.02' '...  ['1' '1' '5' ... '1' '1' '1']\n",
       "251786  83a2ba48f07e49f33ef4aa3ceb90933f9adff1ddb6ed16...  Non-Logged         4914  ['4745a8d7-9f4f-4beb-8b8d-5adb92000082'\n",
       " '1615...  ['1656672728140' '1656672826027' '165667447595...       ['0' '0' '0' ... '2' '2' '0']  ['10000' '10000' '27069' ... '90000' '40000' '...  ['6.88' '6.28' '25.96' ... '44.79' '11.4' '14....  ['1' '1' '1' ... '1' '1' '1']\n",
       "386620  d3b82a1305105bcaaa646d2da1e97b6935deddbcfbd12b...      Logged         3580  ['eaea3d49-6fc3-475d-ba30-fa02a91daa98'\n",
       " '4e1d...  ['1656645129077' '1656645137042' '165664523380...      ['0' '1' '8' ... '17' '1' '0']  ['10000' '23204' '100000' ... '110000' '33506'...  ['13.3' '27.72' '27.03' ... '40.09' '18.55' '2...  ['1' '1' '2' ... '1' '1' '1']\n",
       "136184  9d176e2202250e7925b17eae0978eee726f8ff9372e45c...  Non-Logged         3318  ['07ee94b0-9c39-448e-b96c-3d67f9c1670f'\n",
       " 'fad4...  ['1656691004852' '1656691099012' '165669126445...  ['24' '55' '8' ... '16' '63' '72']  ['89910' '156859' '20274' ... '39313' '114801'...  ['72.44' '79.86' '35.65' ... '58.53' '98.72' '...  ['1' '1' '1' ... '1' '1' '1']"
      ]
     },
     "execution_count": 16,
     "metadata": {},
     "output_type": "execute_result"
    }
   ],
   "source": [
    "BIG_HIST_SIZE = 800\n",
    "display(\n",
    "    f\"Há {(train['historySize'] >= BIG_HIST_SIZE).sum()} usuários com um histórico \\\n",
    "maior ou igual que {BIG_HIST_SIZE}. Temos {train['userId'].count()} usuários na base.\"\n",
    ")\n",
    "\n",
    "train.sort_values(by=\"historySize\", ascending=False).head(5)"
   ]
  },
  {
   "cell_type": "markdown",
   "metadata": {},
   "source": [
    "**Uma mesma notícia pode aparecer mais de uma vez no histórico do usuário?**\\\n",
    "Como o G1 lida com um usuário que acessa uma mesma notícia mais de uma vez?"
   ]
  },
  {
   "cell_type": "markdown",
   "metadata": {},
   "source": [
    "O usuário abaixo tem um histórico com quatro notícias. Dentre elas, pela coluna `pageVisitsCountHistory` ele acessou a primeira página 12 vezes, a segunda 2 vezes, a terceira 1 vez e a quarta 4 vezes.\n",
    "\n",
    "Analisando as outras colunas de histórico, chegamos a algumas conclusões:\n",
    "- O `history` e nem as outras colunas aumentam de tamanho, mesmo ele tendo visto as páginas mais vezes\n",
    "- O `timestampHistory` segue a ordem do primeiro acesso do usuário, ou seja, o 1° valor da lista é o menor que o segundo, o 2° é menor do que o terceiro, e assim vai até o último\n",
    "- Tudo indica que o `numberOfClicksHistory` é um somatório dos clicks em cada um dos acessos na página. Um forte indicativo disso é que a 3° página diz que recebeu apenas seis clicks e foi acessada uma vez, mas as outras receberam vários outros clicks.\n",
    "- Assim como o `numberOfClicksHistory`, o `timeOnPageHistory` parece funcionar da mesma forma, somando o tempo que o usuário passou em cada acesso.\n",
    "- Diferente dos itens acima, o `scrollPercentageHistory` parece não agir da mesma forma, pois é extremamente improvável que o usuário tenha apenas \"20.83%\" de acesso na primeira página, sendo que a visitou 12 vezes, passou o maior tempo nesta página do que as outras e deu 127 clicks durante suas visitas.\n",
    "\n",
    "Também algumas conclusões sobre os tipos:\n",
    "- `timestampHistory` pode ser convertido para a data real - talvez isso poderia indicar uma certa sazonalidade em algumas notícias. Notícias sobre o Natal, por exemplo, provavelmente são mais acessadas durante os meses de novembro, dezembro e janeiro.\n",
    "- `timeOnPageHistory` representa, provavelmente, o tempo na página em milissegundos (ms), já que se medirmos esses tempos em segundos ou microsegundos, as medidas ficariam improváveis para um caso real"
   ]
  },
  {
   "cell_type": "code",
   "execution_count": 17,
   "metadata": {},
   "outputs": [
    {
     "data": {
      "text/html": [
       "<div>\n",
       "<style scoped>\n",
       "    .dataframe tbody tr th:only-of-type {\n",
       "        vertical-align: middle;\n",
       "    }\n",
       "\n",
       "    .dataframe tbody tr th {\n",
       "        vertical-align: top;\n",
       "    }\n",
       "\n",
       "    .dataframe thead th {\n",
       "        text-align: right;\n",
       "    }\n",
       "</style>\n",
       "<table border=\"1\" class=\"dataframe\">\n",
       "  <thead>\n",
       "    <tr style=\"text-align: right;\">\n",
       "      <th></th>\n",
       "      <th>userId</th>\n",
       "      <th>userType</th>\n",
       "      <th>historySize</th>\n",
       "      <th>history</th>\n",
       "      <th>timestampHistory</th>\n",
       "      <th>numberOfClicksHistory</th>\n",
       "      <th>timeOnPageHistory</th>\n",
       "      <th>scrollPercentageHistory</th>\n",
       "      <th>pageVisitsCountHistory</th>\n",
       "    </tr>\n",
       "  </thead>\n",
       "  <tbody>\n",
       "    <tr>\n",
       "      <th>377947</th>\n",
       "      <td>6aa5109374f6534b0400ccbbdb9c7b7d64c40a663fe51c...</td>\n",
       "      <td>Non-Logged</td>\n",
       "      <td>4</td>\n",
       "      <td>['7fe849c0-4a55-429d-b480-11ee216909dd'\n",
       " '2de3...</td>\n",
       "      <td>['1658259718982' '1658424852871' '165885911024...</td>\n",
       "      <td>['127' '155' '6' '78']</td>\n",
       "      <td>['350199' '320000' '39671' '151452']</td>\n",
       "      <td>['20.83' '80.94' '45.18' '22.32']</td>\n",
       "      <td>['12' '2' '1' '4']</td>\n",
       "    </tr>\n",
       "  </tbody>\n",
       "</table>\n",
       "</div>"
      ],
      "text/plain": [
       "                                                   userId    userType  historySize                                            history                                   timestampHistory   numberOfClicksHistory                     timeOnPageHistory            scrollPercentageHistory pageVisitsCountHistory\n",
       "377947  6aa5109374f6534b0400ccbbdb9c7b7d64c40a663fe51c...  Non-Logged            4  ['7fe849c0-4a55-429d-b480-11ee216909dd'\n",
       " '2de3...  ['1658259718982' '1658424852871' '165885911024...  ['127' '155' '6' '78']  ['350199' '320000' '39671' '151452']  ['20.83' '80.94' '45.18' '22.32']     ['12' '2' '1' '4']"
      ]
     },
     "metadata": {},
     "output_type": "display_data"
    }
   ],
   "source": [
    "with pd.option_context(\"display.max_colwidth\", 1):\n",
    "    display(\n",
    "        train.query(\n",
    "            \"userId=='6aa5109374f6534b0400ccbbdb9c7b7d64c40a663fe51c95102754e28948f92e'\"\n",
    "        )\n",
    "    )"
   ]
  },
  {
   "cell_type": "code",
   "execution_count": 18,
   "metadata": {},
   "outputs": [
    {
     "data": {
      "text/plain": [
       "True"
      ]
     },
     "execution_count": 18,
     "metadata": {},
     "output_type": "execute_result"
    }
   ],
   "source": [
    "# Comparison of timestampHistory\n",
    "(1658259718982 < 1658424852871) and (1658424852871 < 1658859110243) and (  # noqa: PLR0133\n",
    "    1658859110243 < 1660064956101  # noqa: PLR0133\n",
    ")"
   ]
  },
  {
   "cell_type": "markdown",
   "metadata": {},
   "source": [
    "As unidades devem estar em milissegundos (ms), pois é a unidade que mais faz sentido:"
   ]
  },
  {
   "cell_type": "code",
   "execution_count": 19,
   "metadata": {},
   "outputs": [
    {
     "data": {
      "text/plain": [
       "DatetimeIndex(['2022-07-19 19:41:58.982000', '2022-07-21 17:34:12.871000', '2022-07-26 18:11:50.243000', '2022-08-09 17:09:16.101000'], dtype='datetime64[ns]', freq=None)"
      ]
     },
     "execution_count": 19,
     "metadata": {},
     "output_type": "execute_result"
    }
   ],
   "source": [
    "pd.to_datetime([1658259718982, 1658424852871, 1658859110243, 1660064956101], unit=\"ms\")"
   ]
  },
  {
   "cell_type": "markdown",
   "metadata": {},
   "source": [
    "## Análise dos dados de validação"
   ]
  },
  {
   "cell_type": "code",
   "execution_count": 20,
   "metadata": {},
   "outputs": [
    {
     "data": {
      "text/html": [
       "<div>\n",
       "<style scoped>\n",
       "    .dataframe tbody tr th:only-of-type {\n",
       "        vertical-align: middle;\n",
       "    }\n",
       "\n",
       "    .dataframe tbody tr th {\n",
       "        vertical-align: top;\n",
       "    }\n",
       "\n",
       "    .dataframe thead th {\n",
       "        text-align: right;\n",
       "    }\n",
       "</style>\n",
       "<table border=\"1\" class=\"dataframe\">\n",
       "  <thead>\n",
       "    <tr style=\"text-align: right;\">\n",
       "      <th></th>\n",
       "      <th>userId</th>\n",
       "      <th>userType</th>\n",
       "      <th>history</th>\n",
       "      <th>timestampHistory</th>\n",
       "    </tr>\n",
       "  </thead>\n",
       "  <tbody>\n",
       "    <tr>\n",
       "      <th>0</th>\n",
       "      <td>e25fbee3a42d45a2914f9b061df3386b2ded2d8cc1f3d4...</td>\n",
       "      <td>Logged</td>\n",
       "      <td>['be89a7da-d9fa-49d4-9fdc-388c27a15bc8'\n",
       " '01c5...</td>\n",
       "      <td>[1660533136590 1660672113513]</td>\n",
       "    </tr>\n",
       "    <tr>\n",
       "      <th>1</th>\n",
       "      <td>d0afad7ea843d86597d822f0df1d39d31a3fea7c39fdee...</td>\n",
       "      <td>Logged</td>\n",
       "      <td>['77901133-aee7-4f7b-afc0-652231d76fe9']</td>\n",
       "      <td>[1660556860253]</td>\n",
       "    </tr>\n",
       "  </tbody>\n",
       "</table>\n",
       "</div>"
      ],
      "text/plain": [
       "                                              userId userType                                            history               timestampHistory\n",
       "0  e25fbee3a42d45a2914f9b061df3386b2ded2d8cc1f3d4...   Logged  ['be89a7da-d9fa-49d4-9fdc-388c27a15bc8'\n",
       " '01c5...  [1660533136590 1660672113513]\n",
       "1  d0afad7ea843d86597d822f0df1d39d31a3fea7c39fdee...   Logged           ['77901133-aee7-4f7b-afc0-652231d76fe9']                [1660556860253]"
      ]
     },
     "execution_count": 20,
     "metadata": {},
     "output_type": "execute_result"
    }
   ],
   "source": [
    "validation_path = Path(\"../data/raw/validacao.csv\")\n",
    "validation = read_csv_pyarrow(validation_path)\n",
    "validation.head(2)"
   ]
  },
  {
   "cell_type": "markdown",
   "metadata": {},
   "source": [
    "A primeira coisa que notamos no dataset é a **falta de colunas em relação aos dados de treino**. Tem-se apenas quatro colunas, que significam a mesma coisa do dataset de treino:\n",
    "\n",
    "- `userId`: id do usuário.\n",
    "- `userType`: usuário logado ou anônimo.\n",
    "- `history`: lista de notícias visitadas pelo usuário.\n",
    "- `timestampHistory`: momento em que o usuário visitou a página."
   ]
  },
  {
   "cell_type": "code",
   "execution_count": 21,
   "metadata": {},
   "outputs": [
    {
     "name": "stdout",
     "output_type": "stream",
     "text": [
      "<class 'pandas.core.frame.DataFrame'>\n",
      "RangeIndex: 112184 entries, 0 to 112183\n",
      "Data columns (total 4 columns):\n",
      " #   Column            Non-Null Count   Dtype          \n",
      "---  ------            --------------   -----          \n",
      " 0   userId            112184 non-null  string[pyarrow]\n",
      " 1   userType          112184 non-null  string[pyarrow]\n",
      " 2   history           112184 non-null  string[pyarrow]\n",
      " 3   timestampHistory  112184 non-null  string[pyarrow]\n",
      "dtypes: string[pyarrow](4)\n",
      "memory usage: 19.3 MB\n"
     ]
    }
   ],
   "source": [
    "validation.info()"
   ]
  },
  {
   "cell_type": "markdown",
   "metadata": {},
   "source": [
    "Também não temos dados duplicados"
   ]
  },
  {
   "cell_type": "code",
   "execution_count": 22,
   "metadata": {},
   "outputs": [
    {
     "data": {
      "text/plain": [
       "np.int64(0)"
      ]
     },
     "metadata": {},
     "output_type": "display_data"
    },
    {
     "data": {
      "text/plain": [
       "np.int64(0)"
      ]
     },
     "metadata": {},
     "output_type": "display_data"
    }
   ],
   "source": [
    "display(validation.duplicated().sum())\n",
    "display(validation.duplicated(subset=[\"userId\"]).sum())"
   ]
  },
  {
   "cell_type": "markdown",
   "metadata": {},
   "source": [
    "Diferente do dataset de treino, no de validação temos um dataset mais balanceado pelo tipo de usuário.\n",
    "\n",
    "Novamente, isso não importa tanto assim, já que o objetivo do projeto visa atender todos os tipos de usuários igualmente: recomendando as notícias mais apropriadas."
   ]
  },
  {
   "cell_type": "code",
   "execution_count": 23,
   "metadata": {},
   "outputs": [
    {
     "data": {
      "text/plain": [
       "userType\n",
       "Non-Logged    58.176745\n",
       "Logged        41.823255\n",
       "Name: proportion, dtype: double[pyarrow]"
      ]
     },
     "execution_count": 23,
     "metadata": {},
     "output_type": "execute_result"
    }
   ],
   "source": [
    "validation[\"userType\"].value_counts(normalize=True) * 100"
   ]
  },
  {
   "cell_type": "markdown",
   "metadata": {},
   "source": [
    "Novamente, por conta da forma que os dados são lidos, precisamos transformar as colunas para uma lista de strings.\n",
    "\n",
    "Obs.: foi necessário tratar melhor os dados, pois eles possuem uma formatação um pouco diferente do que tinham no arquivo de treino"
   ]
  },
  {
   "cell_type": "code",
   "execution_count": 24,
   "metadata": {},
   "outputs": [
    {
     "name": "stdout",
     "output_type": "stream",
     "text": [
      "<class 'pandas.core.frame.DataFrame'>\n",
      "RangeIndex: 112184 entries, 0 to 112183\n",
      "Data columns (total 4 columns):\n",
      " #   Column            Non-Null Count   Dtype                      \n",
      "---  ------            --------------   -----                      \n",
      " 0   userId            112184 non-null  string[pyarrow]            \n",
      " 1   userType          112184 non-null  string[pyarrow]            \n",
      " 2   history           112184 non-null  list<item: string>[pyarrow]\n",
      " 3   timestampHistory  112184 non-null  list<item: string>[pyarrow]\n",
      "dtypes: list<item: string>[pyarrow](2), string[pyarrow](2)\n",
      "memory usage: 19.8 MB\n"
     ]
    }
   ],
   "source": [
    "list_columns = [\"history\", \"timestampHistory\"]\n",
    "\n",
    "validation[\"history\"] = (\n",
    "    validation[\"history\"]\n",
    "    .str.replace(r\"[\\[\\]']\", \"\", regex=True)\n",
    "    .str.replace(r\"\\n\", \"\", regex=True)\n",
    "    .str.split()\n",
    ")\n",
    "validation[\"timestampHistory\"] = (\n",
    "    validation[\"timestampHistory\"].str.replace(r\"[\\[\\]]\", \"\", regex=True).str.split()\n",
    ")\n",
    "validation.info()"
   ]
  },
  {
   "cell_type": "markdown",
   "metadata": {},
   "source": [
    "E, igual com o dataset de treino, as colunas de histórico possuem o mesmo tamanho - o que é o correto.\n",
    "\n",
    "> Como não temos a coluna `historySize`, aqui apenas comparamos os tamanhos das duas colunas"
   ]
  },
  {
   "cell_type": "code",
   "execution_count": 25,
   "metadata": {},
   "outputs": [
    {
     "data": {
      "text/html": [
       "<div>\n",
       "<style scoped>\n",
       "    .dataframe tbody tr th:only-of-type {\n",
       "        vertical-align: middle;\n",
       "    }\n",
       "\n",
       "    .dataframe tbody tr th {\n",
       "        vertical-align: top;\n",
       "    }\n",
       "\n",
       "    .dataframe thead th {\n",
       "        text-align: right;\n",
       "    }\n",
       "</style>\n",
       "<table border=\"1\" class=\"dataframe\">\n",
       "  <thead>\n",
       "    <tr style=\"text-align: right;\">\n",
       "      <th></th>\n",
       "      <th>userId</th>\n",
       "      <th>userType</th>\n",
       "      <th>history</th>\n",
       "      <th>timestampHistory</th>\n",
       "    </tr>\n",
       "  </thead>\n",
       "  <tbody>\n",
       "    <tr>\n",
       "      <th>0</th>\n",
       "      <td>e25fbee3a42d45a2914f9b061df3386b2ded2d8cc1f3d4...</td>\n",
       "      <td>Logged</td>\n",
       "      <td>['be89a7da-d9fa-49d4-9fdc-388c27a15bc8'\n",
       " '01c5...</td>\n",
       "      <td>['1660533136590' '1660672113513']</td>\n",
       "    </tr>\n",
       "    <tr>\n",
       "      <th>1</th>\n",
       "      <td>d0afad7ea843d86597d822f0df1d39d31a3fea7c39fdee...</td>\n",
       "      <td>Logged</td>\n",
       "      <td>['77901133-aee7-4f7b-afc0-652231d76fe9']</td>\n",
       "      <td>['1660556860253']</td>\n",
       "    </tr>\n",
       "  </tbody>\n",
       "</table>\n",
       "</div>"
      ],
      "text/plain": [
       "                                              userId userType                                            history                   timestampHistory\n",
       "0  e25fbee3a42d45a2914f9b061df3386b2ded2d8cc1f3d4...   Logged  ['be89a7da-d9fa-49d4-9fdc-388c27a15bc8'\n",
       " '01c5...  ['1660533136590' '1660672113513']\n",
       "1  d0afad7ea843d86597d822f0df1d39d31a3fea7c39fdee...   Logged           ['77901133-aee7-4f7b-afc0-652231d76fe9']                  ['1660556860253']"
      ]
     },
     "metadata": {},
     "output_type": "display_data"
    },
    {
     "data": {
      "text/plain": [
       "'Tamanho de history:'"
      ]
     },
     "metadata": {},
     "output_type": "display_data"
    },
    {
     "data": {
      "text/plain": [
       "0    2\n",
       "1    1\n",
       "Name: history, dtype: int64"
      ]
     },
     "metadata": {},
     "output_type": "display_data"
    }
   ],
   "source": [
    "display(validation.head(2))\n",
    "display(\"Tamanho de history:\", validation[\"history\"].head(2).apply(len))"
   ]
  },
  {
   "cell_type": "code",
   "execution_count": 26,
   "metadata": {},
   "outputs": [
    {
     "data": {
      "text/plain": [
       "True"
      ]
     },
     "execution_count": 26,
     "metadata": {},
     "output_type": "execute_result"
    }
   ],
   "source": [
    "all(validation[\"history\"].apply(len) == validation[\"timestampHistory\"].apply(len))"
   ]
  },
  {
   "cell_type": "markdown",
   "metadata": {},
   "source": [
    "Quando verificamos os IDs da tabela de validação dentro da tabela de treino, vemos que eles existem nas duas tabelas, porém, na de treino, a informação é mais completa do que na de validação."
   ]
  },
  {
   "cell_type": "code",
   "execution_count": 27,
   "metadata": {},
   "outputs": [
    {
     "data": {
      "text/plain": [
       "True"
      ]
     },
     "execution_count": 27,
     "metadata": {},
     "output_type": "execute_result"
    }
   ],
   "source": [
    "all(validation[\"userId\"].isin(train[\"userId\"]))"
   ]
  },
  {
   "cell_type": "code",
   "execution_count": 28,
   "metadata": {},
   "outputs": [
    {
     "data": {
      "text/plain": [
       "'Primeiro userId na validation: fe25fbee3a42d45a2914f9b061df3386b2ded2d8cc1f3d4b901419051126488b9'"
      ]
     },
     "metadata": {},
     "output_type": "display_data"
    },
    {
     "data": {
      "text/plain": [
       "'Validação:'"
      ]
     },
     "metadata": {},
     "output_type": "display_data"
    },
    {
     "data": {
      "text/html": [
       "<div>\n",
       "<style scoped>\n",
       "    .dataframe tbody tr th:only-of-type {\n",
       "        vertical-align: middle;\n",
       "    }\n",
       "\n",
       "    .dataframe tbody tr th {\n",
       "        vertical-align: top;\n",
       "    }\n",
       "\n",
       "    .dataframe thead th {\n",
       "        text-align: right;\n",
       "    }\n",
       "</style>\n",
       "<table border=\"1\" class=\"dataframe\">\n",
       "  <thead>\n",
       "    <tr style=\"text-align: right;\">\n",
       "      <th></th>\n",
       "      <th>userId</th>\n",
       "      <th>userType</th>\n",
       "      <th>history</th>\n",
       "      <th>timestampHistory</th>\n",
       "    </tr>\n",
       "  </thead>\n",
       "  <tbody>\n",
       "    <tr>\n",
       "      <th>0</th>\n",
       "      <td>e25fbee3a42d45a2914f9b061df3386b2ded2d8cc1f3d4b901419051126488b9</td>\n",
       "      <td>Logged</td>\n",
       "      <td>['be89a7da-d9fa-49d4-9fdc-388c27a15bc8'\n",
       " '01c59ff6-fb82-4258-918f-2910cb2d4c52']</td>\n",
       "      <td>['1660533136590' '1660672113513']</td>\n",
       "    </tr>\n",
       "  </tbody>\n",
       "</table>\n",
       "</div>"
      ],
      "text/plain": [
       "                                                             userId userType                                                                           history                   timestampHistory\n",
       "0  e25fbee3a42d45a2914f9b061df3386b2ded2d8cc1f3d4b901419051126488b9  Logged   ['be89a7da-d9fa-49d4-9fdc-388c27a15bc8'\n",
       " '01c59ff6-fb82-4258-918f-2910cb2d4c52']  ['1660533136590' '1660672113513']"
      ]
     },
     "metadata": {},
     "output_type": "display_data"
    },
    {
     "data": {
      "text/plain": [
       "'Treino:'"
      ]
     },
     "metadata": {},
     "output_type": "display_data"
    },
    {
     "data": {
      "text/html": [
       "<div>\n",
       "<style scoped>\n",
       "    .dataframe tbody tr th:only-of-type {\n",
       "        vertical-align: middle;\n",
       "    }\n",
       "\n",
       "    .dataframe tbody tr th {\n",
       "        vertical-align: top;\n",
       "    }\n",
       "\n",
       "    .dataframe thead th {\n",
       "        text-align: right;\n",
       "    }\n",
       "</style>\n",
       "<table border=\"1\" class=\"dataframe\">\n",
       "  <thead>\n",
       "    <tr style=\"text-align: right;\">\n",
       "      <th></th>\n",
       "      <th>userId</th>\n",
       "      <th>userType</th>\n",
       "      <th>historySize</th>\n",
       "      <th>history</th>\n",
       "      <th>timestampHistory</th>\n",
       "      <th>numberOfClicksHistory</th>\n",
       "      <th>timeOnPageHistory</th>\n",
       "      <th>scrollPercentageHistory</th>\n",
       "      <th>pageVisitsCountHistory</th>\n",
       "    </tr>\n",
       "  </thead>\n",
       "  <tbody>\n",
       "    <tr>\n",
       "      <th>482774</th>\n",
       "      <td>e25fbee3a42d45a2914f9b061df3386b2ded2d8cc1f3d4...</td>\n",
       "      <td>Logged</td>\n",
       "      <td>6</td>\n",
       "      <td>['c7b6f56c-3304-4fe5-994a-50c8937d6431'\n",
       " 'c6af...</td>\n",
       "      <td>['1657003078783' '1659484116867' '165970076624...</td>\n",
       "      <td>['5' '1' '10' '16' '4' '2']</td>\n",
       "      <td>['20848' '10000' '37197' '90813' '23755' '1000...</td>\n",
       "      <td>['36.51' '19.78' '46.59' '36.45' '32.46' '13.89']</td>\n",
       "      <td>['1' '1' '1' '1' '1' '1']</td>\n",
       "    </tr>\n",
       "  </tbody>\n",
       "</table>\n",
       "</div>"
      ],
      "text/plain": [
       "                                                   userId userType  historySize                                            history                                   timestampHistory        numberOfClicksHistory                                  timeOnPageHistory                            scrollPercentageHistory     pageVisitsCountHistory\n",
       "482774  e25fbee3a42d45a2914f9b061df3386b2ded2d8cc1f3d4...   Logged            6  ['c7b6f56c-3304-4fe5-994a-50c8937d6431'\n",
       " 'c6af...  ['1657003078783' '1659484116867' '165970076624...  ['5' '1' '10' '16' '4' '2']  ['20848' '10000' '37197' '90813' '23755' '1000...  ['36.51' '19.78' '46.59' '36.45' '32.46' '13.89']  ['1' '1' '1' '1' '1' '1']"
      ]
     },
     "metadata": {},
     "output_type": "display_data"
    }
   ],
   "source": [
    "display(f\"Primeiro userId na validation: f{validation['userId'][0]}\")\n",
    "\n",
    "with pd.option_context(\"display.max_colwidth\", 1):\n",
    "    display(\"Validação:\", validation.head(1))\n",
    "    display(\"Treino:\", train.query(f\"userId == '{validation['userId'][0]}'\"))"
   ]
  },
  {
   "cell_type": "code",
   "execution_count": 29,
   "metadata": {},
   "outputs": [
    {
     "data": {
      "text/plain": [
       "DatetimeIndex(['2022-08-15 03:12:16.590000', '2022-08-16 17:48:33.513000', '2022-07-05 06:37:58.783000', '2022-08-02 23:48:36.867000', '2022-08-05 11:59:26.244000', '2022-08-08 03:31:40.885000', '2022-08-09 16:23:59.512000', '2022-08-11 01:50:01.797000'], dtype='datetime64[ns]', freq=None)"
      ]
     },
     "execution_count": 29,
     "metadata": {},
     "output_type": "execute_result"
    }
   ],
   "source": [
    "pd.to_datetime(\n",
    "    [\n",
    "        1660533136590,  # validação\n",
    "        1660672113513,  # validação\n",
    "        1657003078783,  # treino\n",
    "        1659484116867,  # treino\n",
    "        1659700766244,  # treino\n",
    "        1659929500885,  # treino\n",
    "        1660062239512,  # treino\n",
    "        1660182601797,  # treino\n",
    "    ],\n",
    "    unit=\"ms\",\n",
    ")"
   ]
  },
  {
   "cell_type": "code",
   "execution_count": 30,
   "metadata": {},
   "outputs": [
    {
     "data": {
      "text/plain": [
       "'Validação:'"
      ]
     },
     "metadata": {},
     "output_type": "display_data"
    },
    {
     "data": {
      "text/html": [
       "<div>\n",
       "<style scoped>\n",
       "    .dataframe tbody tr th:only-of-type {\n",
       "        vertical-align: middle;\n",
       "    }\n",
       "\n",
       "    .dataframe tbody tr th {\n",
       "        vertical-align: top;\n",
       "    }\n",
       "\n",
       "    .dataframe thead th {\n",
       "        text-align: right;\n",
       "    }\n",
       "</style>\n",
       "<table border=\"1\" class=\"dataframe\">\n",
       "  <thead>\n",
       "    <tr style=\"text-align: right;\">\n",
       "      <th></th>\n",
       "      <th>userId</th>\n",
       "      <th>userType</th>\n",
       "      <th>history</th>\n",
       "      <th>timestampHistory</th>\n",
       "    </tr>\n",
       "  </thead>\n",
       "  <tbody>\n",
       "    <tr>\n",
       "      <th>0</th>\n",
       "      <td>e25fbee3a42d45a2914f9b061df3386b2ded2d8cc1f3d4b901419051126488b9</td>\n",
       "      <td>Logged</td>\n",
       "      <td>['be89a7da-d9fa-49d4-9fdc-388c27a15bc8'\n",
       " '01c59ff6-fb82-4258-918f-2910cb2d4c52']</td>\n",
       "      <td>['1660533136590' '1660672113513']</td>\n",
       "    </tr>\n",
       "    <tr>\n",
       "      <th>1</th>\n",
       "      <td>d0afad7ea843d86597d822f0df1d39d31a3fea7c39fdeee870d49b897e1e99cd</td>\n",
       "      <td>Logged</td>\n",
       "      <td>['77901133-aee7-4f7b-afc0-652231d76fe9']</td>\n",
       "      <td>['1660556860253']</td>\n",
       "    </tr>\n",
       "  </tbody>\n",
       "</table>\n",
       "</div>"
      ],
      "text/plain": [
       "                                                             userId userType                                                                           history                   timestampHistory\n",
       "0  e25fbee3a42d45a2914f9b061df3386b2ded2d8cc1f3d4b901419051126488b9  Logged   ['be89a7da-d9fa-49d4-9fdc-388c27a15bc8'\n",
       " '01c59ff6-fb82-4258-918f-2910cb2d4c52']  ['1660533136590' '1660672113513']\n",
       "1  d0afad7ea843d86597d822f0df1d39d31a3fea7c39fdeee870d49b897e1e99cd  Logged   ['77901133-aee7-4f7b-afc0-652231d76fe9']                                          ['1660556860253']                "
      ]
     },
     "metadata": {},
     "output_type": "display_data"
    },
    {
     "data": {
      "text/plain": [
       "'Treino:'"
      ]
     },
     "metadata": {},
     "output_type": "display_data"
    },
    {
     "data": {
      "text/html": [
       "<div>\n",
       "<style scoped>\n",
       "    .dataframe tbody tr th:only-of-type {\n",
       "        vertical-align: middle;\n",
       "    }\n",
       "\n",
       "    .dataframe tbody tr th {\n",
       "        vertical-align: top;\n",
       "    }\n",
       "\n",
       "    .dataframe thead th {\n",
       "        text-align: right;\n",
       "    }\n",
       "</style>\n",
       "<table border=\"1\" class=\"dataframe\">\n",
       "  <thead>\n",
       "    <tr style=\"text-align: right;\">\n",
       "      <th></th>\n",
       "      <th>userId</th>\n",
       "      <th>userType</th>\n",
       "      <th>historySize</th>\n",
       "      <th>history</th>\n",
       "      <th>timestampHistory</th>\n",
       "      <th>numberOfClicksHistory</th>\n",
       "      <th>timeOnPageHistory</th>\n",
       "      <th>scrollPercentageHistory</th>\n",
       "      <th>pageVisitsCountHistory</th>\n",
       "    </tr>\n",
       "  </thead>\n",
       "  <tbody>\n",
       "    <tr>\n",
       "      <th>554897</th>\n",
       "      <td>d0afad7ea843d86597d822f0df1d39d31a3fea7c39fdee...</td>\n",
       "      <td>Logged</td>\n",
       "      <td>1</td>\n",
       "      <td>['9a37393c-15fc-413a-b285-860da171d0a2']</td>\n",
       "      <td>['1656668214243']</td>\n",
       "      <td>['15']</td>\n",
       "      <td>['30883']</td>\n",
       "      <td>['35.35']</td>\n",
       "      <td>['1']</td>\n",
       "    </tr>\n",
       "  </tbody>\n",
       "</table>\n",
       "</div>"
      ],
      "text/plain": [
       "                                                   userId userType  historySize                                   history   timestampHistory numberOfClicksHistory timeOnPageHistory scrollPercentageHistory pageVisitsCountHistory\n",
       "554897  d0afad7ea843d86597d822f0df1d39d31a3fea7c39fdee...   Logged            1  ['9a37393c-15fc-413a-b285-860da171d0a2']  ['1656668214243']                ['15']         ['30883']               ['35.35']                  ['1']"
      ]
     },
     "metadata": {},
     "output_type": "display_data"
    }
   ],
   "source": [
    "with pd.option_context(\"display.max_colwidth\", 1):\n",
    "    display(\"Validação:\", validation.head(2))\n",
    "    display(\"Treino:\", train.query(f\"userId == '{validation['userId'][1]}'\"))"
   ]
  },
  {
   "cell_type": "code",
   "execution_count": 31,
   "metadata": {},
   "outputs": [
    {
     "data": {
      "text/plain": [
       "DatetimeIndex(['2022-08-15 09:47:40.253000', '2022-07-01 09:36:54.243000'], dtype='datetime64[ns]', freq=None)"
      ]
     },
     "execution_count": 31,
     "metadata": {},
     "output_type": "execute_result"
    }
   ],
   "source": [
    "# validação e treino\n",
    "pd.to_datetime([1660556860253, 1656668214243], unit=\"ms\")"
   ]
  },
  {
   "cell_type": "markdown",
   "metadata": {},
   "source": [
    "Pela análise acima, percebe-se algo estranho:\n",
    "- O `history` **não contém** as mesmas notícias nos dois datasets, mas é o mesmo usuário.\n",
    "- O `timestampHistory` segue da mesma forma, não registrou as notícias corretamente."
   ]
  },
  {
   "cell_type": "markdown",
   "metadata": {},
   "source": [
    "Retirando dúvidas com a FIAP e analisando melhor os datasets, percebemos que **é o mesmo usuário**, porém com seu histórico de notícias sendo capturado em um período diferente.\n",
    "\n",
    "Exemplo com o usuário de ID \"d0afad7ea843d86597d822f0df1d39d31a3fea7c39fdeee870d49b897e1e99cd\":\n",
    "- No dataset de treino, ele possui uma notícia em seu histórico. Ela foi acessada na data 2022-07-01\n",
    "- Já no dataset de validação, ele possui uma notícia também, mas ela foi acessada na data 2022-08-15\n",
    "\n",
    "O mesmo ocorre para outros usuários. Isso nos mostra que o dataset de treino captura as notícias **mais antigas**, enquanto o de validação irá capturar as **mais recentes** consumidas pelo usuário.\n",
    "\n",
    "Sendo assim, a forma correta de validar nosso modelo será:\n",
    "1. Buscamos no dataset de treino todas as linhas que contém os IDs que estão no dataset de validação\n",
    "2. Com essas linhas (do dataset de treino), iremos usar nosso modelo para recomendar/prever as N próximas notícias que esses usuários devem consumir\n",
    "   1. O número de previsões (N) pode ser fixo, mas é melhor que seja dinâmico, onde o valor de N irá ser definido pelo tamanho do histórico do usário no dataset de validação. Ou seja, se o usuário tem um `history` de três notícias no dataset de validação, o valor de N deve ser 3.\n",
    "3. Iremos pegar as notícias previstas e comparar com as que estão no dataset de validação\n",
    "4. Com essa comparação, podemos criar algum tipo de score (ainda será definido) para validar se o modelo está prevendo bem ou não."
   ]
  },
  {
   "cell_type": "markdown",
   "metadata": {},
   "source": [
    "## Análise dos itens complementares"
   ]
  },
  {
   "cell_type": "code",
   "execution_count": 65,
   "metadata": {},
   "outputs": [
    {
     "data": {
      "text/html": [
       "<div>\n",
       "<style scoped>\n",
       "    .dataframe tbody tr th:only-of-type {\n",
       "        vertical-align: middle;\n",
       "    }\n",
       "\n",
       "    .dataframe tbody tr th {\n",
       "        vertical-align: top;\n",
       "    }\n",
       "\n",
       "    .dataframe thead th {\n",
       "        text-align: right;\n",
       "    }\n",
       "</style>\n",
       "<table border=\"1\" class=\"dataframe\">\n",
       "  <thead>\n",
       "    <tr style=\"text-align: right;\">\n",
       "      <th></th>\n",
       "      <th>page</th>\n",
       "      <th>url</th>\n",
       "      <th>issued</th>\n",
       "      <th>modified</th>\n",
       "      <th>title</th>\n",
       "      <th>body</th>\n",
       "      <th>caption</th>\n",
       "    </tr>\n",
       "  </thead>\n",
       "  <tbody>\n",
       "    <tr>\n",
       "      <th>0</th>\n",
       "      <td>13db0ab1-eea2-4603-84c4-f40a876c7400</td>\n",
       "      <td>http://g1.globo.com/am/amazonas/noticia/2022/0...</td>\n",
       "      <td>2022-06-18 20:37:45+00:00</td>\n",
       "      <td>2023-04-15 00:02:08+00:00</td>\n",
       "      <td>Caso Bruno e Dom: 3º suspeito tem prisão tempo...</td>\n",
       "      <td>Após audiência de custódia, a Justiça do Amazo...</td>\n",
       "      <td>Jeferson da Silva Lima foi escoltado por agent...</td>\n",
       "    </tr>\n",
       "    <tr>\n",
       "      <th>1</th>\n",
       "      <td>92907b73-5cd3-4184-8d8c-e206aed2bf1c</td>\n",
       "      <td>http://g1.globo.com/pa/santarem-regiao/noticia...</td>\n",
       "      <td>2019-06-20 17:19:52+00:00</td>\n",
       "      <td>2023-06-16 20:19:15+00:00</td>\n",
       "      <td>Linguajar dos santarenos é diferenciado e chei...</td>\n",
       "      <td>Vista aérea de Santarém\n",
       "Ádrio Denner/ AD Produ...</td>\n",
       "      <td>As expressões santarenas não significam apenas...</td>\n",
       "    </tr>\n",
       "  </tbody>\n",
       "</table>\n",
       "</div>"
      ],
      "text/plain": [
       "                                   page                                                url                     issued                   modified                                              title                                               body                                            caption\n",
       "0  13db0ab1-eea2-4603-84c4-f40a876c7400  http://g1.globo.com/am/amazonas/noticia/2022/0...  2022-06-18 20:37:45+00:00  2023-04-15 00:02:08+00:00  Caso Bruno e Dom: 3º suspeito tem prisão tempo...  Após audiência de custódia, a Justiça do Amazo...  Jeferson da Silva Lima foi escoltado por agent...\n",
       "1  92907b73-5cd3-4184-8d8c-e206aed2bf1c  http://g1.globo.com/pa/santarem-regiao/noticia...  2019-06-20 17:19:52+00:00  2023-06-16 20:19:15+00:00  Linguajar dos santarenos é diferenciado e chei...  Vista aérea de Santarém\n",
       "Ádrio Denner/ AD Produ...  As expressões santarenas não significam apenas..."
      ]
     },
     "execution_count": 65,
     "metadata": {},
     "output_type": "execute_result"
    }
   ],
   "source": [
    "itens_path = \"../data/raw/itens/itens/*.csv\"\n",
    "itens_files = Path.cwd().glob(itens_path)\n",
    "\n",
    "itens = pd.concat(\n",
    "    (read_csv_pyarrow(file) for file in itens_files),\n",
    "    ignore_index=True,\n",
    ")\n",
    "\n",
    "itens.head(2)"
   ]
  },
  {
   "cell_type": "markdown",
   "metadata": {},
   "source": [
    "- `page`: ID da matéria\n",
    "- `url`: URL da matéria\n",
    "- `issued`: data que a matéria foi criada\n",
    "- `modified`: última data que a matéria foi modificada\n",
    "- `title`: título da matéria\n",
    "- `body`: corpo da matéria\n",
    "- `caption`: subtítulo da matéria"
   ]
  },
  {
   "cell_type": "markdown",
   "metadata": {},
   "source": [
    "Para os itens, a URL nos dá uma certa informação sobre o tipo da notícia. Ex.:\n",
    "- http://g1.globo.com/am/amazonas/noticia/2022/06/18/(...)\n",
    "  - A URL fornece a data que a notícia foi postada (18/06/2022)\n",
    "  - A URL fornece as \"tags\" da notícia:\n",
    "    - É do Amazonas, por isso contém 'am'\n",
    "    - A notícia é específica de Amazonas, por isso contém \"amazonas\"\n",
    "    - É uma notícia, então fica com \"noticia\" na tag\n",
    "- A URL \"http://g1.globo.com/pa/santarem-regiao/noticia/2019/06/20/(...)\" funciona de forma igual ao exemplo acima\n",
    "- http://g1.globo.com/mundo/noticia/2022/07/08/\n",
    "  - A notícia é internacional, então recebe a tag \"mundo\"\n",
    "  - Diferente das outras, não teve uma tag específica para a região que ocorreu. Isso já indica uma certa probabilidade de que o G1 recomende notícias para as pessoas baseadas na sua localização, infelizmente é um dado que não temos\n",
    "- http://g1.globo.com/politica/noticia/2021/09/09/(...)\n",
    "  - Aqui a tag mudou, por mais que seja algo brasileiro, apenas ficou como \"politica\"\n",
    "- http://g1.globo.com/politica/eleicoes/2022/noticia/2022/04/18/(...)\n",
    "  - Aqui a tag ficou mais específica, ainda está dentro de \"politica\", mas faz parte das eleições\n",
    "  - O \"2022\" aparece duas vezes, mas tem significados diferentes, um deles indica que a notícia é sobre as eleições de 2022, não necessariamente fala sobre a data de publicação da notícia\n",
    "\n",
    "Dito isso, temos o seguinte padrão:\n",
    "1. Aparece a URL base do G1 (http://g1.globo.com/)\n",
    "2. Aparece uma longa URL (tamanho variado) que fornece tags sobre a notícia, como sua região (estado, cidade ou se é internacional) ou seu tema (política, eleições, economia, etc.)\n",
    "3. Aparece a data da postagem da notícia - que é o mesmo valor que aparece na coluna `issued`\n",
    "4. E, por fim, tem-se a página e sua extensão (ghtml, por exemplo). Essa parte pode servir como a coluna `title` já tratada, pois segue o mesmo padrão, mas sem acentos. Ex.:\n",
    "   - Na url: \"eleicoes-titulo-de-eleitor-cancelado-o-que-fazer-saiba-como-regularizar-a-tempo-de-votar.ghtml\"\n",
    "   - No title: \"Eleições: título de eleitor cancelado, o que fazer? Saiba como regularizar a tempo de votar\"\n",
    "   - Com isso, pode-se utilizar a URL para pular a etapa de tratamento do título, pois a URL já aplica:\n",
    "     - Remoção de caracteres especiais (pontos, vírgulas etc.)\n",
    "     - Substituição de acentos pelo caractere de origem: \"ç\" vira \"c\", \"í\" vira \"i\"\n",
    "     - Tudo fica em letras minúsculas"
   ]
  },
  {
   "cell_type": "markdown",
   "metadata": {},
   "source": [
    "Agora, sobre as outras colunas, a mais preocupante parece a `body` - o corpo da notícia.\n",
    "\n",
    "Ela contém um enorme texto e precisará de uma série de tratamentos para ser processada corretamente em algoritmos de machine learning."
   ]
  },
  {
   "cell_type": "code",
   "execution_count": 33,
   "metadata": {},
   "outputs": [
    {
     "data": {
      "text/plain": [
       "'Caso Bruno e Dom: 3º suspeito tem prisão temporária decretada pela Justiça do AM'"
      ]
     },
     "execution_count": 33,
     "metadata": {},
     "output_type": "execute_result"
    }
   ],
   "source": [
    "itens[\"title\"][0]"
   ]
  },
  {
   "cell_type": "code",
   "execution_count": 34,
   "metadata": {},
   "outputs": [
    {
     "data": {
      "text/plain": [
       "'Jeferson da Silva Lima foi escoltado por agentes da Polícia Federal ao Fórum de Justiça do município para a audiência de custódia'"
      ]
     },
     "execution_count": 34,
     "metadata": {},
     "output_type": "execute_result"
    }
   ],
   "source": [
    "itens[\"caption\"][0]"
   ]
  },
  {
   "cell_type": "code",
   "execution_count": 35,
   "metadata": {},
   "outputs": [
    {
     "data": {
      "text/plain": [
       "'Após audiência de custódia, a Justiça do Amazonas decretou, na tarde deste sábado (18), a prisão temporária,  por 30 dias, de Jeferson da Silva Lima, conhecido como \"Pelado da Dinha\". Ele teve participação direta na morte do indigenista Bruno Pereira e do jornalista inglês Dom Phillips, aponta as investigações. \\n\"Pelado da Dinha\" foi considerado foragido na noite de sexta-feira (17) após ter o mandado de prisão expedido e não ser localizado pelas autoridades. Ele se entregou na delegacia de Atalaia do Norte, a 1.136 quilômetros de Manaus, nas primeiras horas da manhã deste sábado, onde foi ouvido pelo delegado Alex Perez Timóteo. \\n\"Pelado da Dinha\" foi considerado foragido na noite de sexta-feira (17) após ter o mandado de prisão expedido \\nRôney Elias/Rede Amazônica \\nDurante a tarde, Jeferson foi escoltado por agentes da Polícia Federal ao Fórum de Justiça do município para a audiência de custódia e teve a prisão temporária decretada. \\nPerícia confirma identificação dos restos mortais de Bruno Pereira\\nO delegado afirmou que, segundo as investigações, Jeferson tem participação direta no caso, desde a emboscada até a ocultação dos corpos.  \"Conforme todas as provas, todos os depoimentos colhidos até o momento, ele estava na cena do crime e participou ativamente do duplo homicídio ocorrido\", disse.\\nAssim como os outros dois presos, o prazo de 30 dias da prisão temporária de Jeferson pode ser prorrogado por mais 30. O processo tramita sob Segredo de Justiça.\\nA audiência de custódia foi realizada de forma híbrida- com a juíza, o investigado e o promotor de Justiça\\nTjam \\nIrmãos presos\\nNo dia 9 de junho, a Justiça decretou a prisão temporária de Amarildo da Costa de Oliveira, conhecido como \"Pelado\", que confessou o crime no dia 15, um dia após o irmão Oseney da Costa de Oliveira, conhecido como \"Dos Santos\", ter sido preso.\\nTambém no dia 15 de junho, a Justiça decretou a prisão temporária de Oseney. Os três suspeitos seguem detidos na carceragem da 50ª Delegacia Interativa de Polícia (DIP) de Atalaia de Norte. \\nBruno e Dom foram mortos a tiros \\nUm laudo de peritos da Polícia Federal confirmou, neste sábado (18), que o indigenista Bruno Araújo Pereira e o jornalista inglês Dom Phillips foram mortos a tiros, com munição de caça. \\nSegundo a análise, Bruno foi atingido por três disparos, dois no tórax e um na cabeça. Já Dom foi baleado uma vez, no tórax.\\nLEIA TAMBÉM: \\nPF confirma que restos mortais encontrados na Amazônia são do indigenista Bruno Pereira\\nPerícia da PF confirma que restos mortais encontrados na Amazônia são do jornalista Dom Phillips\\nBuscas pela embarcação\\nNeste sábado (18) continuam as buscas pela embarcação que transportava Bruno Pereira e Dom Phillips. Na sexta-feira (17), as ações das forças de segurança encerraram no final da tarde.\\nA região onde as buscas se concentram foi apontada por Amarildo da Costa Oliveira. Ele também indicou à polícia o local onde a embarcação foi afundada e a área onde os corpos das vítimas foram ocultados.\\nMotivação\\nA motivação do crime ainda é incerta, mas a polícia apura se há relação com a atividade de pesca ilegal e tráfico de drogas na região. Segunda maior terra indígena do país, o Vale do Javari é palco de conflitos típicos da Amazônia: desmatamento e avanço do garimpo.\\nAras e procuradores vão ao AM\\nO procurador-geral da República, Augusto Aras, e membros do Ministério Público Federal viajam a Tabatinga, no Amazonas, neste domingo (19).\\n O grupo deve participar de reuniões sobre a insegurança na Amazônia e, também, acompanhar os desdobramentos do assassinato do indigenista Bruno Pereira e do jornalista britânico Dom Phillips.\\n(CORREÇÃO: o Jornal Nacional errou no dia 18 de junho de 2022 ao exibir a imagem de um outro homem, de nome parecido, como se fosse Jeferson da Silva Lima, suspeito de participar do assassinato de Bruno Pereira e Dom Phillips no Vale do Javari, no Amazonas. O suspeito Jeferson da Silva Lima é este homem que você na foto abaixo. O Jornal Nacional pede desculpas a você e, em especial, ao homem cuja foto tinha sido exibida erroneamente.)\\nJeferson da Silva Lima, suspeito de participar do assassinato de Bruno Pereira e Dom Phillips no Vale do Javari, no Amazonas\\nJornal Nacional\\nOs vídeos mais assistidos do Amazonas:'"
      ]
     },
     "execution_count": 35,
     "metadata": {},
     "output_type": "execute_result"
    }
   ],
   "source": [
    "itens[\"body\"][0]"
   ]
  },
  {
   "cell_type": "code",
   "execution_count": 44,
   "metadata": {},
   "outputs": [
    {
     "data": {
      "text/plain": [
       "np.int64(0)"
      ]
     },
     "execution_count": 44,
     "metadata": {},
     "output_type": "execute_result"
    }
   ],
   "source": [
    "itens.duplicated().sum()"
   ]
  },
  {
   "cell_type": "code",
   "execution_count": 43,
   "metadata": {},
   "outputs": [
    {
     "data": {
      "text/plain": [
       "np.int64(0)"
      ]
     },
     "execution_count": 43,
     "metadata": {},
     "output_type": "execute_result"
    }
   ],
   "source": [
    "itens.duplicated(subset=[\"page\"]).sum()"
   ]
  },
  {
   "cell_type": "code",
   "execution_count": null,
   "metadata": {},
   "outputs": [
    {
     "data": {
      "text/plain": [
       "count                       255603\n",
       "mean     2021-02-01 03:10:26+00:00\n",
       "min      2014-07-31 08:00:01+00:00\n",
       "25%      2020-02-17 08:08:03+00:00\n",
       "50%      2021-08-21 19:34:28+00:00\n",
       "75%      2022-05-03 02:00:19+00:00\n",
       "max      2022-08-15 02:57:16+00:00\n",
       "Name: issued, dtype: object"
      ]
     },
     "metadata": {},
     "output_type": "display_data"
    }
   ],
   "source": [
    "itens[\"issued\"].describe()"
   ]
  },
  {
   "cell_type": "code",
   "execution_count": null,
   "metadata": {},
   "outputs": [
    {
     "data": {
      "text/plain": [
       "issued\n",
       "2022-06-18 20:37:45+00:00      1\n",
       "2019-06-20 17:19:52+00:00      1\n",
       "2022-07-08 08:55:52+00:00      1\n",
       "2021-09-09 19:06:46+00:00      1\n",
       "2021-09-15 19:16:13+00:00      1\n",
       "                            ... \n",
       "2021-01-07 17:29:00+00:00      5\n",
       "2015-06-30 07:00:00+00:00      8\n",
       "2015-12-29 07:00:00+00:00     22\n",
       "2017-01-01 07:00:00+00:00     40\n",
       "2018-10-07 20:00:00+00:00    248\n",
       "Name: count, Length: 253864, dtype: int64[pyarrow]"
      ]
     },
     "metadata": {},
     "output_type": "display_data"
    }
   ],
   "source": [
    "itens[\"issued\"].value_counts().sort_values()"
   ]
  },
  {
   "cell_type": "markdown",
   "metadata": {},
   "source": [
    "**Todas as páginas aparecem no histórico de pelo menos um usuário?**\n",
    "\n",
    "Conforme o código abaixo, sim, todas as páginas aparecem ao menos uma vez no histórico de algum usuário. Isso significa que não poderemos excluir nenhuma das páginas de nossa pesquisa, pois, por mais que o usuário tenha acessado uma página inválida, não podemos ignorar as preferências dele."
   ]
  },
  {
   "cell_type": "code",
   "execution_count": 52,
   "metadata": {},
   "outputs": [],
   "source": [
    "all_history_values = set()\n",
    "\n",
    "for history_list in train[\"history\"]:\n",
    "    all_history_values.update(history_list)\n",
    "\n",
    "for history_list in validation[\"history\"]:\n",
    "    all_history_values.update(history_list)"
   ]
  },
  {
   "cell_type": "code",
   "execution_count": 54,
   "metadata": {},
   "outputs": [
    {
     "data": {
      "text/html": [
       "<div>\n",
       "<style scoped>\n",
       "    .dataframe tbody tr th:only-of-type {\n",
       "        vertical-align: middle;\n",
       "    }\n",
       "\n",
       "    .dataframe tbody tr th {\n",
       "        vertical-align: top;\n",
       "    }\n",
       "\n",
       "    .dataframe thead th {\n",
       "        text-align: right;\n",
       "    }\n",
       "</style>\n",
       "<table border=\"1\" class=\"dataframe\">\n",
       "  <thead>\n",
       "    <tr style=\"text-align: right;\">\n",
       "      <th></th>\n",
       "      <th>page</th>\n",
       "      <th>url</th>\n",
       "      <th>issued</th>\n",
       "      <th>modified</th>\n",
       "      <th>title</th>\n",
       "      <th>body</th>\n",
       "      <th>caption</th>\n",
       "    </tr>\n",
       "  </thead>\n",
       "  <tbody>\n",
       "  </tbody>\n",
       "</table>\n",
       "</div>"
      ],
      "text/plain": [
       "Empty DataFrame\n",
       "Columns: [page, url, issued, modified, title, body, caption]\n",
       "Index: []"
      ]
     },
     "execution_count": 54,
     "metadata": {},
     "output_type": "execute_result"
    }
   ],
   "source": [
    "itens[~itens[\"page\"].isin(all_history_values)]"
   ]
  },
  {
   "cell_type": "markdown",
   "metadata": {},
   "source": [
    "**Todas as URLs são mesmo de notícias?**\\\n",
    "Em teoria, o dataset deveria ser composto 100% de dados referentes a notícias do G1, sem falar sobre outros tipos de sites (como uma página de FAQ ou a homepage, por exemplo)"
   ]
  },
  {
   "cell_type": "markdown",
   "metadata": {},
   "source": [
    "Várias URLs possuem nela o texto/tag \"noticia\", indicando que aquela página do G1 é uma notícia."
   ]
  },
  {
   "cell_type": "code",
   "execution_count": 36,
   "metadata": {},
   "outputs": [
    {
     "data": {
      "text/plain": [
       "0    http://g1.globo.com/am/amazonas/noticia/2022/06/18/caso-bruno-e-dom-3o-suspeito-tem-prisao-temporaria-decretada-pela-justica-do-am.ghtml                        \n",
       "1    http://g1.globo.com/pa/santarem-regiao/noticia/2019/06/20/linguajar-dos-santarenos-e-diferenciado-e-cheio-de-identidade-egua-tu-nao-vai-ser-leso-de-perder.ghtml\n",
       "2    http://g1.globo.com/mundo/noticia/2022/07/08/ex-premie-shinzo-abe-morre-apos-ser-baleado-no-japao-diz-nhk.ghtml                                                 \n",
       "3    http://g1.globo.com/politica/noticia/2021/09/09/relator-no-stf-fachin-vota-contra-marco-temporal-para-demarcacao-de-terras-indigenas.ghtml                      \n",
       "4    http://g1.globo.com/politica/noticia/2021/09/15/apos-2-votos-pedido-de-vista-suspende-julgamento-no-stf-sobre-demarcacao-de-terras-indigenas.ghtml              \n",
       "Name: url, dtype: string[pyarrow]"
      ]
     },
     "metadata": {},
     "output_type": "display_data"
    }
   ],
   "source": [
    "with pd.option_context(\"display.max_colwidth\", 1):\n",
    "    display(itens.head(5)[\"url\"])"
   ]
  },
  {
   "cell_type": "markdown",
   "metadata": {},
   "source": [
    "Abaixo, pode-se ver que nem todas possuem a tag \"noticia\" em sua URL."
   ]
  },
  {
   "cell_type": "code",
   "execution_count": 37,
   "metadata": {},
   "outputs": [
    {
     "data": {
      "text/plain": [
       "url\n",
       "True     250533\n",
       "False      5070\n",
       "Name: count, dtype: int64[pyarrow]"
      ]
     },
     "execution_count": 37,
     "metadata": {},
     "output_type": "execute_result"
    }
   ],
   "source": [
    "itens[\"url\"].str.contains(\"/noticia/\").value_counts()"
   ]
  },
  {
   "cell_type": "markdown",
   "metadata": {},
   "source": [
    "Temos páginas que **não são notícias**, como a página institucional que fala sobre a equipe do G1.\n",
    "\n",
    "Além disso, muitas notícias foram marcadas com a tag \"blog\" ao invés de \"notícia\", indicando que, por mais que seja uma notícia, ela faz parte de um blog específico. Aparentemente, uma notícia/postagem de um blog é feita para agrupar notícias que foram postadas por uma pessoa.\n",
    "\n",
    "> Ex.: Temos um blog chamado \"Viver Noronha\", ele pode ser identificado vendo se a URL contém \"/blog/viver-noronha/\".\n",
    "\n",
    "No enriquecimento de features, isso pode virar uma tag chamada \"blog-viver-noronha\", pois algumas pessoas podem estar mais interessadas em notícias desse blog."
   ]
  },
  {
   "cell_type": "code",
   "execution_count": null,
   "metadata": {},
   "outputs": [
    {
     "data": {
      "text/plain": [
       "8         http://g1.globo.com/institucional/equipe-do-g1.ghtml                                                                                                                                      \n",
       "319       http://g1.globo.com/pe/pernambuco/blog/viver-noronha/post/2022/05/23/stf-marca-audiencia-de-conciliacao-entre-uniao-e-pernambuco-na-disputa-pela-titularidade-de-fernando-de-noronha.ghtml\n",
       "320       http://g1.globo.com/pe/pernambuco/blog/viver-noronha/post/2022/06/11/curso-gratuito-de-cinema-e-oferecido-para-moradores-de-fernando-de-noronha.ghtml                                     \n",
       "732       http://g1.globo.com/politica/blog/andreia-sadi/post/andreia-sadi.ghtml                                                                                                                    \n",
       "733       http://g1.globo.com/politica/blog/julia-duailibi/post/2022/05/23/doria-comunicou-desistencia-da-pre-candidatura-da-presidencia-a-aliados-no-domingo.ghtml                                 \n",
       "                                                                                    ...                                                                                                             \n",
       "255584    http://g1.globo.com/politica/blog/matheus-leitao/post/2020/02/12/decreto-do-governo-reduz-cargos-de-chefia-do-icmbio-em-unidades-de-conversacao-sob-comando-do-orgao.ghtml                \n",
       "255585    http://g1.globo.com/politica/blog/matheus-leitao/post/2020/03/26/aras-pede-ao-stf-que-dinheiro-apreendido-em-bunker-de-geddel-seja-usado-no-combate-ao-coronavirus.ghtml                  \n",
       "255586    http://g1.globo.com/politica/blog/gerson-camarotti/post/2022/08/08/bolsonaro-mantem-ataque-contra-urna-eletronica-e-gera-desanimo-em-ala-politica-de-campanha.ghtml                       \n",
       "255587    http://g1.globo.com/politica/blog/gerson-camarotti/post/2022/08/11/representante-da-argentina-vem-ao-brasil-pedir-apoio-na-luta-pela-soberania-das-ilhas-malvinas.ghtml                   \n",
       "255588    http://g1.globo.com/politica/blog/gerson-camarotti/post/2022/06/21/pp-decide-por-enquanto-nao-assinar-requerimento-de-criacao-da-cpi-da-petrobras.ghtml                                   \n",
       "Name: url, Length: 5070, dtype: string[pyarrow]"
      ]
     },
     "metadata": {},
     "output_type": "display_data"
    },
    {
     "ename": "",
     "evalue": "",
     "output_type": "error",
     "traceback": [
      "\u001b[1;31mThe Kernel crashed while executing code in the current cell or a previous cell. \n",
      "\u001b[1;31mPlease review the code in the cell(s) to identify a possible cause of the failure. \n",
      "\u001b[1;31mClick <a href='https://aka.ms/vscodeJupyterKernelCrash'>here</a> for more info. \n",
      "\u001b[1;31mView Jupyter <a href='command:jupyter.viewOutput'>log</a> for further details."
     ]
    }
   ],
   "source": [
    "with pd.option_context(\"display.max_colwidth\", 1):\n",
    "    display(itens[~itens[\"url\"].str.contains(\"/noticia/\")][\"url\"])"
   ]
  },
  {
   "cell_type": "markdown",
   "metadata": {},
   "source": [
    "Mesmo sem considerar \"noticia\", \"blog\" ou \"post\" nas URLs, ainda temos algumas URLs que são notícias, tornando difícil de identificar quais URLs são ou não notícias em nosso dataset.\n",
    "\n",
    "Identificamos abaixo:\n",
    "- Há \"institucional\" em URLs que não são notícias, apenas uma notícia institucional do site;\n",
    "- Há \"especiais.g1.globo.com\" na URL de base para sites que não são uma notícia, mas sim algum tipo de matéria especial, como em \"http://especiais.g1.globo.com/educacao/guia-de-carreiras/2017/teste-vocacional/\", que é apenas um teste vocacional, e \"http://especiais.g1.globo.com/\", que é uma URL quebrada/não funcional;\n",
    "- As tags \"quiz\" e \"interatividade\" são presentes em alguns sites que não são notícias, mas um conteúdo interativo"
   ]
  },
  {
   "cell_type": "code",
   "execution_count": null,
   "metadata": {},
   "outputs": [],
   "source": [
    "with pd.option_context(\"display.max_colwidth\", 1):\n",
    "    display(\n",
    "        itens[~itens[\"url\"].str.contains(\"/noticia/|/blog/|/post/\", regex=True)][\"url\"]\n",
    "    )"
   ]
  },
  {
   "cell_type": "markdown",
   "metadata": {},
   "source": [
    "Removendo todas os textos identificados acima que indicam que algo não é uma notícia, sobraram poucos resultados no filtro, indicando que eles **são notícias**, mas que tem uma estrutura da tag diferente do convencional.\n",
    "\n",
    "Sendo assim, para remover da base as coisas que **não** são notícias, mantendo todo o resto, precisaremos remover URLs com:\n",
    "- /especiais.g1.globo.com/\n",
    "- /interatividade/\n",
    "- /institucional/\n",
    "- /quiz/\n",
    "\n",
    "Sendo assim, ainda teremos matérias onde sua URL contém a estrutura mais presente na base (contendo \"notícia\"), mas manterá publicações em blogs, postagens sem um blog e as notícias que apareceram abaixo, que não seguem um formato específico de URL."
   ]
  },
  {
   "cell_type": "code",
   "execution_count": null,
   "metadata": {},
   "outputs": [
    {
     "data": {
      "text/plain": [
       "967       http://g1.globo.com/mg/minas-gerais/apos-dois-...\n",
       "7742      http://g1.globo.com/mg/minas-gerais/belotur-pr...\n",
       "24583     http://g1.globo.com/to/tocantins/segundo-turno...\n",
       "28554     http://g1.globo.com/to/tocantins/ifto-abre-ext...\n",
       "47641     http://g1.globo.com/ro/rondonia/rondonia-rural...\n",
       "142212    http://g1.globo.com/sp/sao-paulo/carnaval/2022...\n",
       "147912    http://g1.globo.com/ba/bahia/blogdoemprego/ass...\n",
       "152209    http://g1.globo.com/rs/rio-grande-do-sul/banco...\n",
       "193735    http://g1.globo.com/globonews/eleicoes-e-suste...\n",
       "199999    http://g1.globo.com/pa/para/canaa-dos-carajas-...\n",
       "226681    http://g1.globo.com/mundo/por-que-os-vikings-n...\n",
       "234740    http://g1.globo.com/to/tocantins/policial-civi...\n",
       "Name: url, dtype: string[pyarrow]"
      ]
     },
     "metadata": {},
     "output_type": "display_data"
    }
   ],
   "source": [
    "with pd.option_context(\"display.max_colwidth\", 1):\n",
    "    display(\n",
    "        itens[\n",
    "            ~itens[\"url\"].str.contains(\n",
    "                \"/especiais.g1.globo.com/|/noticia/|/blog/|/post/|/interatividade/|/institucional/|/quiz/\",\n",
    "                regex=True,\n",
    "            )\n",
    "        ][\"url\"]\n",
    "    )"
   ]
  },
  {
   "cell_type": "markdown",
   "metadata": {},
   "source": [
    "Porém, antes de pensarmos em manter apenas notícias válidas na base, precisamos descobrir se os usuários nos nossos datasets de treino e validação acessaram alguma dessas páginas.\n",
    "\n",
    "Isso é muito importante, pois como estamos falando sobre fazer um **recomendador de notícias**, o ideal seria manter apenas as notícias válidas na base, porém, caso tenhamos também essas não-notícias na base, isso significa que nosso modelo precisará ser treinado com elas, mesmo **não sendo a intenção do projeto**."
   ]
  },
  {
   "cell_type": "code",
   "execution_count": null,
   "metadata": {},
   "outputs": [
    {
     "name": "stdout",
     "output_type": "stream",
     "text": [
      "<class 'pandas.core.frame.DataFrame'>\n",
      "Index: 596 entries, 8 to 253431\n",
      "Data columns (total 7 columns):\n",
      " #   Column    Non-Null Count  Dtype                        \n",
      "---  ------    --------------  -----                        \n",
      " 0   page      596 non-null    string[pyarrow]              \n",
      " 1   url       596 non-null    string[pyarrow]              \n",
      " 2   issued    596 non-null    timestamp[s, tz=UTC][pyarrow]\n",
      " 3   modified  596 non-null    timestamp[s, tz=UTC][pyarrow]\n",
      " 4   title     596 non-null    string[pyarrow]              \n",
      " 5   body      596 non-null    string[pyarrow]              \n",
      " 6   caption   596 non-null    string[pyarrow]              \n",
      "dtypes: string[pyarrow](5), timestamp[s, tz=UTC][pyarrow](2)\n",
      "memory usage: 599.9 KB\n"
     ]
    }
   ],
   "source": [
    "not_news_tags = \"/especiais.g1.globo.com/|/interatividade/|/institucional/|/quiz/\"\n",
    "\n",
    "not_news = itens[itens[\"url\"].str.contains(not_news_tags, regex=True)]\n",
    "not_news.info()"
   ]
  },
  {
   "cell_type": "code",
   "execution_count": null,
   "metadata": {},
   "outputs": [
    {
     "data": {
      "text/plain": [
       "{'01baa090-3aad-49c5-932b-b65aa8a11d4b',\n",
       " '023d795e-f870-436c-abe8-3cd6ec81a976',\n",
       " '031ff7a1-0101-40f8-8f1e-e038e3a1cca2',\n",
       " '03cbecd0-1590-47c7-8993-2f9aa47cc72e',\n",
       " '03dd47cc-6b07-4aa7-8924-87a0c0cd0815',\n",
       " '04831657-dfdb-46ac-81e0-0b93a412a95c',\n",
       " '06347173-bc55-4e2f-9ea7-7673ac178809',\n",
       " '084da78e-fcf9-4d50-869a-ccc7be947d62',\n",
       " '09b30338-48b3-4a60-b8eb-38c69ea0f4d8',\n",
       " '0a19f025-d33a-4c03-a7a0-530a9effa033',\n",
       " '0b22f887-6c89-4d0b-9ee4-07253ca890be',\n",
       " '15163840-dba9-484e-b731-8b54fe735320',\n",
       " '158064c4-e715-4ddd-881f-a77f755aaa88',\n",
       " '160d065a-f1a2-4768-b514-959f184b5ad6',\n",
       " '16912729-9a79-4cf4-a739-52ff88b0d8c7',\n",
       " '181b0989-5d84-49a7-b109-f0ba225d9806',\n",
       " '1a2c95ef-6156-4a42-9a35-2b25d70d7e1a',\n",
       " '1c3b37b0-020f-4bde-bfb8-0b0aed13d93e',\n",
       " '1c5f2865-8ce9-4391-815d-1e3030dbf567',\n",
       " '1e150d5d-91ed-4a42-b31b-de06e4e48022',\n",
       " '21204c7f-cebf-46eb-9049-5ded7f4f6116',\n",
       " '22735c26-8d91-4093-81f1-d3cb2a2cb591',\n",
       " '22860df5-1722-4a02-9206-e11f30354d2d',\n",
       " '23a206eb-db00-4448-b729-1132b1996c32',\n",
       " '258332fe-69ec-48f9-b6fe-cde265417c14',\n",
       " '2915abe5-fecc-4656-ae56-46edec5ccc94',\n",
       " '2f1dc46f-e6fe-4b6c-8fd2-0d97ce79430e',\n",
       " '2f30bd5c-1af9-4a2d-be12-eaa1014dc805',\n",
       " '333d9dbe-4d86-4e21-967e-60f8aa88bbd9',\n",
       " '344111db-04d7-4f74-82c1-a1df8093a81e',\n",
       " '35a83916-d2d9-4468-9c24-35eed5882c78',\n",
       " '3713dba0-e3f7-4dd0-8551-62c414a8e8fc',\n",
       " '3be85054-5eeb-413e-8a2e-6544acd89b51',\n",
       " '3e01f023-4966-40fb-aa7f-622ee3898b67',\n",
       " '3ec7d931-152a-4d8e-83a1-736bff5024ff',\n",
       " '3f17f015-cd0d-4462-826e-6027b30c16b3',\n",
       " '3f3739ba-c34e-4dc2-a201-869bd54c0038',\n",
       " '4069d613-f674-4730-aa50-05f8c20517a2',\n",
       " '4321115f-badd-4a00-9b2f-cf6c885c4c93',\n",
       " '43378583-21e2-4db8-b87d-4c0c373ed62d',\n",
       " '43752b49-864e-4d76-aea9-9acd39446ff0',\n",
       " '444d5229-6b7c-4dc4-ab05-552cae6a4063',\n",
       " '44aa9f82-b697-4e1d-959c-538fc691a268',\n",
       " '46ae41c6-6d6d-411f-9028-2d661029359e',\n",
       " '473f6c84-cb3c-4491-8a56-e1c7b8d6208e',\n",
       " '47f7d47d-c771-4dcf-8da8-fa446c67f1b0',\n",
       " '484df629-f6dc-401c-aff4-48cf95030fd7',\n",
       " '49caa9e3-c31e-4049-b249-8e91e03bc719',\n",
       " '49ddb47f-a4ec-40fb-9c98-b10d39f512dc',\n",
       " '4ae07937-e58b-4983-9764-d8b4e64fdd6f',\n",
       " '4d9eef34-8b25-4a00-9349-b2f5287b6a64',\n",
       " '4f14c22f-de7f-40c6-9cd8-5aea02d3e49d',\n",
       " '4fde30b9-3e49-4857-82c2-176330c3952d',\n",
       " '50f017bd-f5e2-4ff4-9d91-5502de1157ae',\n",
       " '548322b0-4d25-4ab2-88da-7e04f9121f29',\n",
       " '54d41d06-b5a7-4e3f-8ce3-66d4ba1edc40',\n",
       " '551ea163-4a1a-4635-907b-0736112183c3',\n",
       " '55bd877b-6742-4d18-a619-1b6627da4366',\n",
       " '567c5588-a0be-46b3-aac9-14b55cb23c32',\n",
       " '5718061f-18b3-4146-869b-53c23292dae4',\n",
       " '58eb1304-2474-4264-a227-fc8f47ca244c',\n",
       " '59b8585c-8a67-49d4-9da2-ee4680010e2d',\n",
       " '5b94ed35-0bff-4b8c-b59a-b8966f8eee25',\n",
       " '5becb248-28bf-4409-9f5e-c6fac09d01c6',\n",
       " '5d3d2776-c247-41e5-a090-9b936fa056c3',\n",
       " '5eb1d4e4-e9ff-477d-b1f3-3faf26b34873',\n",
       " '5eef7b09-fff4-4840-babf-ff57fca23996',\n",
       " '5f2184d3-62a9-4889-ae68-fda82122eed3',\n",
       " '61017d49-4c87-4354-ac0b-be3090bb3d37',\n",
       " '6400b088-5e54-4c12-a9e6-eddad74fd0ff',\n",
       " '652ea0c2-db13-4114-8c4b-623cff5e0275',\n",
       " '66310fc5-8347-45b7-9e6d-16b4dd0c1e37',\n",
       " '68da9cab-ec70-43eb-8076-41fabb645fb7',\n",
       " '6c293a8c-a824-44ae-8320-f87ff6cde9df',\n",
       " '6e14d475-a2ea-4378-a7de-ee8a80c1537f',\n",
       " '6f7aaf0d-5aba-4842-b139-1e100d80f081',\n",
       " '7036bf4f-dbbc-4742-ac06-109200cd36de',\n",
       " '707887b6-67e0-4816-83b8-ee58833ae6cf',\n",
       " '7091595c-ab0e-4bd7-98ff-20546f2b8284',\n",
       " '70f114fb-ede3-43ad-aae9-de4e9dfe91f7',\n",
       " '7136971d-bfba-4d77-a8a6-15a734aa8768',\n",
       " '71767954-ed3c-459c-931f-9777aa260a26',\n",
       " '74e30f9e-5d1d-46db-b0d4-1cb17b065e14',\n",
       " '753903e5-6bc7-4d15-b8f8-c180fdd28c1d',\n",
       " '75b7caf2-ae13-4bde-8134-2848b0f319be',\n",
       " '76a95cb0-03e2-424b-b2ff-f4d481886b38',\n",
       " '79606f8e-5b78-4ae8-9b45-fe536e863cf2',\n",
       " '7a9d728e-e43f-44de-8ec3-d41c970a7f8a',\n",
       " '7eacd9bd-f50c-46e3-ab1b-0eae1d8475ce',\n",
       " '7f8a98b0-3af1-4255-a3fe-fcf1a7f95551',\n",
       " '7fcc075c-ba00-4c30-b8be-45e0ec3124b7',\n",
       " '80ef8eab-c3f9-4e77-960c-257eda54c63f',\n",
       " '8410e5de-c468-459f-9caf-be916109c3c5',\n",
       " '85319b93-917b-4790-808c-4fdd9e2c0a9b',\n",
       " '85337559-59bf-4aca-9e40-9645cfbcf944',\n",
       " '85ad0964-2147-4929-8504-98d68a80b4a2',\n",
       " '87eca045-28a7-49cd-9040-a0577ef36a4d',\n",
       " '88a2985e-768d-4d0f-97d1-48ecaf296c32',\n",
       " '893972c8-38f5-48d3-9c42-77b8a583a981',\n",
       " '8b11eb98-b7ff-40c4-9c1a-8e2bb4936cd7',\n",
       " '8ddd6680-3d1a-4936-ad6e-953caa445d29',\n",
       " '8e4f743b-1ee4-4e9b-a9be-bc19c9264227',\n",
       " '8f364591-fc62-45c0-98d9-e4daa8f02746',\n",
       " '91b22e4b-0f1a-461e-ba2c-8516782efbb1',\n",
       " '93627535-13eb-4e00-a44e-93dfd85ad64f',\n",
       " '9537f571-a17e-42a6-b0f4-81ed5f613ef7',\n",
       " '9775b5e5-cfa5-4131-8f37-0be5332c246b',\n",
       " '985057b4-255b-4870-a5e1-76e972a3cebf',\n",
       " '98a8579d-a699-4a0e-8f37-4069146f978b',\n",
       " '997a2489-6ce2-4e38-a653-ca76d573dbd8',\n",
       " '9a8cc7f6-7e2f-4478-8d44-ed30e27b43dd',\n",
       " '9b8f7d20-9146-4a09-aded-1a4e025df9d7',\n",
       " '9d592416-541e-4297-82ab-cec94e9922df',\n",
       " '9d621dbb-8c08-43ad-9867-93a28b34dfc1',\n",
       " '9dffdf6f-52ff-467c-9170-3e09ec459939',\n",
       " '9e640f47-edc4-4961-81cf-3d15f0efa774',\n",
       " '9e99d880-cbec-4c6c-aa19-fe016ed9abf1',\n",
       " 'a1f214c0-5790-48d5-849d-feb21129e942',\n",
       " 'a38248c7-eea8-471e-aa47-a8e718a50c01',\n",
       " 'a5512d34-edb6-4df9-91c2-aa1df4dfd9dc',\n",
       " 'a7965391-fe63-4316-9eea-008e9ccec241',\n",
       " 'a8dc2e1e-d643-4f77-8bd9-a3998711fadb',\n",
       " 'a9af6ba0-a1f2-4f93-91ae-c8e134697a97',\n",
       " 'aad7f4f7-13d5-4799-b8e7-fe8315eb665b',\n",
       " 'ac5e2864-b261-41d4-b258-67d736164efe',\n",
       " 'ae5a4574-9347-40c4-b17a-bc20f13faa67',\n",
       " 'ae8d7ae7-5e0e-4f71-a238-b9dbe1581804',\n",
       " 'af3fea7b-0ae8-4047-8bf5-363346c1b24b',\n",
       " 'afa4b2c6-d6dd-4b6c-93df-4a39fdc26d1a',\n",
       " 'afbfe440-8aca-484f-aad7-70c6e4de20a3',\n",
       " 'b102c2cf-4fd2-4e18-9c9c-f6cdab429d3b',\n",
       " 'b1d22931-20ad-4ec1-8059-4320d04852be',\n",
       " 'b29cf051-ec22-446b-b539-b0b6bb8b5f0f',\n",
       " 'b34f7c45-b4af-4ede-bced-fe01816865df',\n",
       " 'b3ff07c8-5f8e-4d3f-90ea-1ef23f237e26',\n",
       " 'b6886461-aa50-4d76-bd86-e9789188e195',\n",
       " 'b7cbbae6-e2af-4269-bdc7-a71916a540da',\n",
       " 'b9d01973-7d0f-40fe-9cdc-99c700c2e120',\n",
       " 'bb420a66-9bc9-49ff-b88b-b0dbf295a684',\n",
       " 'bbd26593-915b-4c2d-85d8-d7849075c286',\n",
       " 'be591c18-29f0-4c2f-a910-744351e7badb',\n",
       " 'bf9625cf-f82a-46e3-9b83-af7f1c041dd3',\n",
       " 'c0cef9c6-a6e6-416e-ab22-5553ea2c7999',\n",
       " 'c316755d-e8fd-41a3-a300-b892cc335d63',\n",
       " 'c63906a2-8e9f-4f8f-9a6b-09f2a6373941',\n",
       " 'c7274a7b-e62a-47d6-8c67-48369ea70640',\n",
       " 'c74ca4db-39a6-44e4-bbc2-668a413fee0a',\n",
       " 'c836541c-6b1c-4e08-a4b5-471d8eaa86bc',\n",
       " 'c9ccee5e-68ce-42a6-8349-1eddc24b94b2',\n",
       " 'caf61e97-38de-4ce6-b5b6-79c758cb71c6',\n",
       " 'cb463072-12ad-4103-af96-9d16d593fbfb',\n",
       " 'cd6a47e1-4094-415d-b751-0db4c36860b5',\n",
       " 'cda30e11-0197-4357-b32f-e1c93ac102e6',\n",
       " 'd0ccc1c5-4993-4d6f-b408-992a49e31899',\n",
       " 'd2b8e189-191b-45de-b988-c96b6c625112',\n",
       " 'd37a43d8-857e-4a9c-9651-1f73180be33e',\n",
       " 'd3fca604-98b0-4491-8efc-15b8b7dc4a35',\n",
       " 'd44fc04f-7bd2-4890-a2be-3e3912088b3f',\n",
       " 'd590c96a-ab01-4b51-91f6-2a19561ba934',\n",
       " 'd6078432-d618-4514-8540-58b9f6dbd948',\n",
       " 'd663341e-9b17-4bb8-84d0-4949d0d7a119',\n",
       " 'd95f5862-89ca-4c58-b8ee-cb87cfb8c5b8',\n",
       " 'd9b2774c-3a94-4934-88ab-dc186d1e65d7',\n",
       " 'da1ffa53-826b-45be-989d-8e4597fda792',\n",
       " 'da2be0cd-80a7-4135-8510-cf89b90fe126',\n",
       " 'db9c65c2-72ef-49b6-ac14-74113e857924',\n",
       " 'dc910ab4-8af2-48fd-9e49-ce9bc3c99912',\n",
       " 'e04d6602-0a57-4c21-bb33-484cc4feb52f',\n",
       " 'e0a2507d-3cd8-475c-a94d-ee5d3fee7795',\n",
       " 'e7c9bc51-4d5a-4cd1-8c40-657f46bbdc95',\n",
       " 'ebc4abce-f8c8-4193-9cfd-e7b05344d72c',\n",
       " 'esid:conteudo_editorial_g1#materia#http://especiais.g1.globo.com/acre/2017/as-promessas-de-marcus/',\n",
       " 'esid:conteudo_editorial_g1#materia#http://especiais.g1.globo.com/alagoas/2015/as-promessas-de-renan/',\n",
       " 'esid:conteudo_editorial_g1#materia#http://especiais.g1.globo.com/alagoas/2017/as-promessas-de-rui-palmeira/',\n",
       " 'esid:conteudo_editorial_g1#materia#http://especiais.g1.globo.com/amapa/2015/as-promessas-de-waldez/',\n",
       " 'esid:conteudo_editorial_g1#materia#http://especiais.g1.globo.com/amapa/2017/as-promessas-de-clecio/',\n",
       " 'esid:conteudo_editorial_g1#materia#http://especiais.g1.globo.com/amazonas/2017/as-promessas-de-arthur/',\n",
       " 'esid:conteudo_editorial_g1#materia#http://especiais.g1.globo.com/amazonas/2018/as-promessas-de-amazonino-mendes/',\n",
       " 'esid:conteudo_editorial_g1#materia#http://especiais.g1.globo.com/app-g1/',\n",
       " 'esid:conteudo_editorial_g1#materia#http://especiais.g1.globo.com/bahia/2017/as-promessas-de-acm-neto/',\n",
       " 'esid:conteudo_editorial_g1#materia#http://especiais.g1.globo.com/ceara/2015/as-promessas-de-camilo/',\n",
       " 'esid:conteudo_editorial_g1#materia#http://especiais.g1.globo.com/ceara/2017/as-promessas-de-roberto/',\n",
       " 'esid:conteudo_editorial_g1#materia#http://especiais.g1.globo.com/distrito-federal/2015/as-promessas-de-rollemberg/',\n",
       " 'esid:conteudo_editorial_g1#materia#http://especiais.g1.globo.com/e-ou-nao-e/2017/banco-de-boatos/',\n",
       " 'esid:conteudo_editorial_g1#materia#http://especiais.g1.globo.com/economia/2015/calculadora-de-combustivel/',\n",
       " 'esid:conteudo_editorial_g1#materia#http://especiais.g1.globo.com/economia/2016/calculadora-a-vista-ou-parcelado/',\n",
       " 'esid:conteudo_editorial_g1#materia#http://especiais.g1.globo.com/economia/2016/calculadora-nova-regra-aposentadoria',\n",
       " 'esid:conteudo_editorial_g1#materia#http://especiais.g1.globo.com/economia/concursos-e-emprego/lista-de-concursos-publicos-e-vagas-de-emprego/',\n",
       " 'esid:conteudo_editorial_g1#materia#http://especiais.g1.globo.com/economia/educacao-financeira/calculadoras/2018/investimentos/',\n",
       " 'esid:conteudo_editorial_g1#materia#http://especiais.g1.globo.com/economia/seu-dinheiro/calculadoras/2017/gastos-domesticos/',\n",
       " 'esid:conteudo_editorial_g1#materia#http://especiais.g1.globo.com/economia/seu-dinheiro/calculadoras/2017/pets/',\n",
       " 'esid:conteudo_editorial_g1#materia#http://especiais.g1.globo.com/economia/seu-dinheiro/calculadoras/2018/ipva-e-iptu/',\n",
       " 'esid:conteudo_editorial_g1#materia#http://especiais.g1.globo.com/educacao/guia-de-carreiras/2017/teste-vocacional/',\n",
       " 'esid:conteudo_editorial_g1#materia#http://especiais.g1.globo.com/espirito-santo/2015/as-promessas-de-hartung/',\n",
       " 'esid:conteudo_editorial_g1#materia#http://especiais.g1.globo.com/espirito-santo/2017/as-promessas-de-luciano/',\n",
       " 'esid:conteudo_editorial_g1#materia#http://especiais.g1.globo.com/fato-ou-fake/2018/banco-de-boatos/',\n",
       " 'esid:conteudo_editorial_g1#materia#http://especiais.g1.globo.com/goias/2015/as-promessas-de-perillo/',\n",
       " 'esid:conteudo_editorial_g1#materia#http://especiais.g1.globo.com/goias/2017/as-promessas-de-iris/',\n",
       " 'esid:conteudo_editorial_g1#materia#http://especiais.g1.globo.com/maranhao/2015/as-promessas-de-dino/',\n",
       " 'esid:conteudo_editorial_g1#materia#http://especiais.g1.globo.com/maranhao/2017/as-promessas-de-edivaldo/',\n",
       " 'esid:conteudo_editorial_g1#materia#http://especiais.g1.globo.com/mato-grosso-do-sul/2017/as-promessas-de-trad/',\n",
       " 'esid:conteudo_editorial_g1#materia#http://especiais.g1.globo.com/mato-grosso/2015/as-promessas-de-taques/',\n",
       " 'esid:conteudo_editorial_g1#materia#http://especiais.g1.globo.com/mato-grosso/2017/as-promessas-de-emanuel/',\n",
       " 'esid:conteudo_editorial_g1#materia#http://especiais.g1.globo.com/minas-gerais/2015/as-promessas-de-pimentel/',\n",
       " 'esid:conteudo_editorial_g1#materia#http://especiais.g1.globo.com/minas-gerais/2017/as-promessas-de-kalil/',\n",
       " 'esid:conteudo_editorial_g1#materia#http://especiais.g1.globo.com/monitor-da-violencia/2017/uma-semana-de-mortes-violentas-no-brasil/',\n",
       " 'esid:conteudo_editorial_g1#materia#http://especiais.g1.globo.com/monitor-da-violencia/2018/feminicidios-no-brasil/',\n",
       " 'esid:conteudo_editorial_g1#materia#http://especiais.g1.globo.com/monitor-da-violencia/2018/mortos-por-policiais-no-brasil/',\n",
       " 'esid:conteudo_editorial_g1#materia#http://especiais.g1.globo.com/monitor-da-violencia/2018/raio-x-do-sistema-prisional/',\n",
       " 'esid:conteudo_editorial_g1#materia#http://especiais.g1.globo.com/musica/rock-in-rio/2017/botaoteca/',\n",
       " 'esid:conteudo_editorial_g1#materia#http://especiais.g1.globo.com/para/2015/as-promessas-de-jatene/',\n",
       " 'esid:conteudo_editorial_g1#materia#http://especiais.g1.globo.com/para/2017/as-promessas-de-zenaldo/',\n",
       " 'esid:conteudo_editorial_g1#materia#http://especiais.g1.globo.com/paraiba/2015/as-promessas-de-ricardo/',\n",
       " 'esid:conteudo_editorial_g1#materia#http://especiais.g1.globo.com/paraiba/2017/as-promessas-de-cartaxo/',\n",
       " 'esid:conteudo_editorial_g1#materia#http://especiais.g1.globo.com/parana/2015/as-promessas-de-richa/',\n",
       " 'esid:conteudo_editorial_g1#materia#http://especiais.g1.globo.com/parana/2017/as-promessas-de-greca/',\n",
       " 'esid:conteudo_editorial_g1#materia#http://especiais.g1.globo.com/pernambuco/2015/as-promessas-de-camara/',\n",
       " 'esid:conteudo_editorial_g1#materia#http://especiais.g1.globo.com/pernambuco/2017/as-promessas-de-geraldo/',\n",
       " 'esid:conteudo_editorial_g1#materia#http://especiais.g1.globo.com/piaui/2015/as-promessas-de-wellington/',\n",
       " 'esid:conteudo_editorial_g1#materia#http://especiais.g1.globo.com/piaui/2017/as-promessas-de-firmino/',\n",
       " 'esid:conteudo_editorial_g1#materia#http://especiais.g1.globo.com/politica/2015/lava-jato/linha-do-tempo-da-lava-jato/',\n",
       " 'esid:conteudo_editorial_g1#materia#http://especiais.g1.globo.com/politica/2017/lava-jato/delacao-da-odebrecht/',\n",
       " 'esid:conteudo_editorial_g1#materia#http://especiais.g1.globo.com/politica/2017/votacao-da-segunda-denuncia-contra-temer-na-camara/',\n",
       " 'esid:conteudo_editorial_g1#materia#http://especiais.g1.globo.com/politica/eleicoes/2018/da-boca-do-candidato-governador/',\n",
       " 'esid:conteudo_editorial_g1#materia#http://especiais.g1.globo.com/politica/eleicoes/2018/quem-eu-escolho/',\n",
       " 'esid:conteudo_editorial_g1#materia#http://especiais.g1.globo.com/pop-arte/2018/palpites-da-copa/',\n",
       " 'esid:conteudo_editorial_g1#materia#http://especiais.g1.globo.com/retrospectiva-g1/2017/as-mortes-do-ano/',\n",
       " 'esid:conteudo_editorial_g1#materia#http://especiais.g1.globo.com/rio-de-janeiro/2015/as-promessas-de-pezao/',\n",
       " 'esid:conteudo_editorial_g1#materia#http://especiais.g1.globo.com/rio-de-janeiro/2017/as-promessas-de-crivella/',\n",
       " 'esid:conteudo_editorial_g1#materia#http://especiais.g1.globo.com/rio-de-janeiro/2017/pms-mortos-no-rj/',\n",
       " 'esid:conteudo_editorial_g1#materia#http://especiais.g1.globo.com/rio-de-janeiro/complexo-do-alemao/',\n",
       " 'esid:conteudo_editorial_g1#materia#http://especiais.g1.globo.com/rio-grande-do-norte/2015/as-promessas-de-robinson/',\n",
       " 'esid:conteudo_editorial_g1#materia#http://especiais.g1.globo.com/rio-grande-do-norte/2017/as-promessas-de-carlos-eduardo/',\n",
       " 'esid:conteudo_editorial_g1#materia#http://especiais.g1.globo.com/rio-grande-do-sul/2015/as-promessas-de-sartori/',\n",
       " 'esid:conteudo_editorial_g1#materia#http://especiais.g1.globo.com/rio-grande-do-sul/2017/as-promessas-de-marchezan/',\n",
       " 'esid:conteudo_editorial_g1#materia#http://especiais.g1.globo.com/rondonia/2015/as-promessas-de-confucio/',\n",
       " 'esid:conteudo_editorial_g1#materia#http://especiais.g1.globo.com/rondonia/2017/as-promessas-de-hildon/',\n",
       " 'esid:conteudo_editorial_g1#materia#http://especiais.g1.globo.com/roraima/2015/as-promessas-de-suely/',\n",
       " 'esid:conteudo_editorial_g1#materia#http://especiais.g1.globo.com/roraima/2017/as-promessas-de-teresa/',\n",
       " 'esid:conteudo_editorial_g1#materia#http://especiais.g1.globo.com/santa-catarina/2015/as-promessas-de-colombo/',\n",
       " 'esid:conteudo_editorial_g1#materia#http://especiais.g1.globo.com/santa-catarina/2017/as-promessas-de-gean/',\n",
       " 'esid:conteudo_editorial_g1#materia#http://especiais.g1.globo.com/sao-paulo/2015/as-promessas-de-alckmin/',\n",
       " 'esid:conteudo_editorial_g1#materia#http://especiais.g1.globo.com/sao-paulo/2017/as-promessas-de-doria/',\n",
       " 'esid:conteudo_editorial_g1#materia#http://especiais.g1.globo.com/sergipe/2015/as-promessas-de-jackson/',\n",
       " 'esid:conteudo_editorial_g1#materia#http://especiais.g1.globo.com/sergipe/2017/as-promessas-de-edvaldo/',\n",
       " 'esid:conteudo_editorial_g1#materia#http://especiais.g1.globo.com/tocantins/2017/as-promessas-de-amastha/',\n",
       " 'esid:conteudo_editorial_g1#materia#https://especiais.g1.globo.com/ac/acre/eleicoes/2018/apuracao-estado-governador/1-turno/',\n",
       " 'esid:conteudo_editorial_g1#materia#https://especiais.g1.globo.com/ac/acre/eleicoes/2018/apuracao-estado-presidente/1-turno/',\n",
       " 'esid:conteudo_editorial_g1#materia#https://especiais.g1.globo.com/ac/acre/eleicoes/2018/apuracao-zona-eleitoral-governador/rio-branco/1-turno/',\n",
       " 'esid:conteudo_editorial_g1#materia#https://especiais.g1.globo.com/ac/acre/eleicoes/2018/apuracao-zona-eleitoral-presidente/rio-branco/1-turno/',\n",
       " 'esid:conteudo_editorial_g1#materia#https://especiais.g1.globo.com/acre/2017/as-promessas-de-marcus/',\n",
       " 'esid:conteudo_editorial_g1#materia#https://especiais.g1.globo.com/al/alagoas/eleicoes/2018/apuracao-estado-governador/1-turno/',\n",
       " 'esid:conteudo_editorial_g1#materia#https://especiais.g1.globo.com/al/alagoas/eleicoes/2018/apuracao-estado-presidente/1-turno/',\n",
       " 'esid:conteudo_editorial_g1#materia#https://especiais.g1.globo.com/al/alagoas/eleicoes/2018/apuracao-zona-eleitoral-governador/maceio/1-turno/',\n",
       " 'esid:conteudo_editorial_g1#materia#https://especiais.g1.globo.com/al/alagoas/eleicoes/2018/apuracao-zona-eleitoral-presidente/maceio/1-turno/',\n",
       " 'esid:conteudo_editorial_g1#materia#https://especiais.g1.globo.com/alagoas/2017/as-promessas-de-rui-palmeira/',\n",
       " 'esid:conteudo_editorial_g1#materia#https://especiais.g1.globo.com/am/amazonas/eleicoes/2018/apuracao-estado-governador/1-turno/',\n",
       " 'esid:conteudo_editorial_g1#materia#https://especiais.g1.globo.com/am/amazonas/eleicoes/2018/apuracao-estado-presidente/1-turno/',\n",
       " 'esid:conteudo_editorial_g1#materia#https://especiais.g1.globo.com/am/amazonas/eleicoes/2018/apuracao-zona-eleitoral-governador/manaus/1-turno/',\n",
       " 'esid:conteudo_editorial_g1#materia#https://especiais.g1.globo.com/am/amazonas/eleicoes/2018/apuracao-zona-eleitoral-presidente/manaus/1-turno/',\n",
       " 'esid:conteudo_editorial_g1#materia#https://especiais.g1.globo.com/amapa/2017/as-promessas-de-clecio/',\n",
       " 'esid:conteudo_editorial_g1#materia#https://especiais.g1.globo.com/amazonas/2017/as-promessas-de-arthur/',\n",
       " 'esid:conteudo_editorial_g1#materia#https://especiais.g1.globo.com/ap/amapa/eleicoes/2018/apuracao-estado-governador/1-turno/',\n",
       " 'esid:conteudo_editorial_g1#materia#https://especiais.g1.globo.com/ap/amapa/eleicoes/2018/apuracao-estado-presidente/1-turno/',\n",
       " 'esid:conteudo_editorial_g1#materia#https://especiais.g1.globo.com/ap/amapa/eleicoes/2018/apuracao-zona-eleitoral-governador/macapa/1-turno/',\n",
       " 'esid:conteudo_editorial_g1#materia#https://especiais.g1.globo.com/ap/amapa/eleicoes/2018/apuracao-zona-eleitoral-presidente/macapa/1-turno/',\n",
       " 'esid:conteudo_editorial_g1#materia#https://especiais.g1.globo.com/ba/bahia/eleicoes/2018/apuracao-estado-governador/1-turno/',\n",
       " 'esid:conteudo_editorial_g1#materia#https://especiais.g1.globo.com/ba/bahia/eleicoes/2018/apuracao-estado-presidente/1-turno/',\n",
       " 'esid:conteudo_editorial_g1#materia#https://especiais.g1.globo.com/ba/bahia/eleicoes/2018/apuracao-zona-eleitoral-governador/feira-de-santana/1-turno/',\n",
       " 'esid:conteudo_editorial_g1#materia#https://especiais.g1.globo.com/ba/bahia/eleicoes/2018/apuracao-zona-eleitoral-governador/salvador/1-turno/',\n",
       " 'esid:conteudo_editorial_g1#materia#https://especiais.g1.globo.com/ba/bahia/eleicoes/2018/apuracao-zona-eleitoral-governador/vitoria-da-conquista/1-turno/',\n",
       " 'esid:conteudo_editorial_g1#materia#https://especiais.g1.globo.com/ba/bahia/eleicoes/2018/apuracao-zona-eleitoral-presidente/feira-de-santana/1-turno/',\n",
       " 'esid:conteudo_editorial_g1#materia#https://especiais.g1.globo.com/ba/bahia/eleicoes/2018/apuracao-zona-eleitoral-presidente/salvador/1-turno/',\n",
       " 'esid:conteudo_editorial_g1#materia#https://especiais.g1.globo.com/ba/bahia/eleicoes/2018/apuracao-zona-eleitoral-presidente/vitoria-da-conquista/1-turno/',\n",
       " 'esid:conteudo_editorial_g1#materia#https://especiais.g1.globo.com/bahia/2017/as-promessas-de-acm-neto/',\n",
       " 'esid:conteudo_editorial_g1#materia#https://especiais.g1.globo.com/bemestar/coronavirus/2021/200-mil-mortos-covid-brasil/',\n",
       " 'esid:conteudo_editorial_g1#materia#https://especiais.g1.globo.com/bemestar/coronavirus/2021/300-mil-mortos-covid-brasil/',\n",
       " 'esid:conteudo_editorial_g1#materia#https://especiais.g1.globo.com/bemestar/coronavirus/2021/gente-que-inspira/',\n",
       " 'esid:conteudo_editorial_g1#materia#https://especiais.g1.globo.com/bemestar/coronavirus/2021/mapa-cidades-brasil-mortes-covid/',\n",
       " 'esid:conteudo_editorial_g1#materia#https://especiais.g1.globo.com/bemestar/coronavirus/2021/planos-interrompidos/',\n",
       " 'esid:conteudo_editorial_g1#materia#https://especiais.g1.globo.com/bemestar/coronavirus/estados-brasil-mortes-casos-media-movel/',\n",
       " 'esid:conteudo_editorial_g1#materia#https://especiais.g1.globo.com/bemestar/vacina/2021/mapa-brasil-vacina-covid/',\n",
       " 'esid:conteudo_editorial_g1#materia#https://especiais.g1.globo.com/carnaval/2020/tbt/',\n",
       " 'esid:conteudo_editorial_g1#materia#https://especiais.g1.globo.com/ce/ceara/eleicoes/2018/apuracao-estado-presidente/1-turno/',\n",
       " 'esid:conteudo_editorial_g1#materia#https://especiais.g1.globo.com/ce/ceara/eleicoes/2018/apuracao-zona-eleitoral-governador/caucaia/1-turno/',\n",
       " 'esid:conteudo_editorial_g1#materia#https://especiais.g1.globo.com/ce/ceara/eleicoes/2018/apuracao-zona-eleitoral-governador/fortaleza/1-turno/',\n",
       " 'esid:conteudo_editorial_g1#materia#https://especiais.g1.globo.com/ce/ceara/eleicoes/2018/apuracao-zona-eleitoral-presidente/caucaia/1-turno/',\n",
       " 'esid:conteudo_editorial_g1#materia#https://especiais.g1.globo.com/ce/ceara/eleicoes/2018/apuracao-zona-eleitoral-presidente/fortaleza/1-turno/',\n",
       " 'esid:conteudo_editorial_g1#materia#https://especiais.g1.globo.com/ceara/2015/as-promessas-de-camilo/',\n",
       " 'esid:conteudo_editorial_g1#materia#https://especiais.g1.globo.com/ceara/2017/as-promessas-de-roberto/',\n",
       " 'esid:conteudo_editorial_g1#materia#https://especiais.g1.globo.com/df/distrito-federal/eleicoes/2018/apuracao-estado-governador/1-turno/',\n",
       " 'esid:conteudo_editorial_g1#materia#https://especiais.g1.globo.com/df/distrito-federal/eleicoes/2018/apuracao-estado-presidente/1-turno/',\n",
       " 'esid:conteudo_editorial_g1#materia#https://especiais.g1.globo.com/df/distrito-federal/eleicoes/2018/apuracao-zona-eleitoral-governador/brasilia/1-turno/',\n",
       " 'esid:conteudo_editorial_g1#materia#https://especiais.g1.globo.com/df/distrito-federal/eleicoes/2018/apuracao-zona-eleitoral-presidente/brasilia/1-turno/',\n",
       " 'esid:conteudo_editorial_g1#materia#https://especiais.g1.globo.com/distrito-federal/2015/as-promessas-de-rollemberg/',\n",
       " 'esid:conteudo_editorial_g1#materia#https://especiais.g1.globo.com/economia/2015/calculadora-de-combustivel/',\n",
       " 'esid:conteudo_editorial_g1#materia#https://especiais.g1.globo.com/economia/2016/calculadora-a-vista-ou-parcelado/',\n",
       " 'esid:conteudo_editorial_g1#materia#https://especiais.g1.globo.com/economia/2016/calculadora-nova-regra-aposentadoria/',\n",
       " 'esid:conteudo_editorial_g1#materia#https://especiais.g1.globo.com/economia/concursos-e-emprego/lista-de-concursos-publicos-e-vagas-de-emprego/',\n",
       " 'esid:conteudo_editorial_g1#materia#https://especiais.g1.globo.com/economia/educacao-financeira/calculadoras/2018/investimentos/',\n",
       " 'esid:conteudo_editorial_g1#materia#https://especiais.g1.globo.com/economia/educacao-financeira/calculadoras/2018/piramide-do-ir/',\n",
       " 'esid:conteudo_editorial_g1#materia#https://especiais.g1.globo.com/economia/educacao-financeira/calculadoras/2019/piramide-do-ir/',\n",
       " 'esid:conteudo_editorial_g1#materia#https://especiais.g1.globo.com/economia/educacao-financeira/calculadoras/2019/previdencia/',\n",
       " 'esid:conteudo_editorial_g1#materia#https://especiais.g1.globo.com/economia/educacao-financeira/calculadoras/2021/reajuste-plano-de-saude/',\n",
       " 'esid:conteudo_editorial_g1#materia#https://especiais.g1.globo.com/economia/seu-dinheiro/calculadoras/2017/gastos-domesticos/',\n",
       " 'esid:conteudo_editorial_g1#materia#https://especiais.g1.globo.com/economia/seu-dinheiro/calculadoras/2017/milhao/',\n",
       " 'esid:conteudo_editorial_g1#materia#https://especiais.g1.globo.com/economia/seu-dinheiro/calculadoras/2017/pets/',\n",
       " 'esid:conteudo_editorial_g1#materia#https://especiais.g1.globo.com/economia/seu-dinheiro/calculadoras/2018/ipva-e-iptu/',\n",
       " 'esid:conteudo_editorial_g1#materia#https://especiais.g1.globo.com/educacao/enem/2019/correcao-provas-enem/',\n",
       " 'esid:conteudo_editorial_g1#materia#https://especiais.g1.globo.com/educacao/guia-de-carreiras/2017/teste-vocacional/',\n",
       " 'esid:conteudo_editorial_g1#materia#https://especiais.g1.globo.com/es/espirito-santo/eleicoes/2018/apuracao-estado-governador/1-turno/',\n",
       " 'esid:conteudo_editorial_g1#materia#https://especiais.g1.globo.com/es/espirito-santo/eleicoes/2018/apuracao-estado-presidente/1-turno/',\n",
       " 'esid:conteudo_editorial_g1#materia#https://especiais.g1.globo.com/es/espirito-santo/eleicoes/2018/apuracao-zona-eleitoral-governador/cariacica/1-turno/',\n",
       " 'esid:conteudo_editorial_g1#materia#https://especiais.g1.globo.com/es/espirito-santo/eleicoes/2018/apuracao-zona-eleitoral-governador/serra/1-turno/',\n",
       " 'esid:conteudo_editorial_g1#materia#https://especiais.g1.globo.com/es/espirito-santo/eleicoes/2018/apuracao-zona-eleitoral-governador/vila-velha/1-turno/',\n",
       " 'esid:conteudo_editorial_g1#materia#https://especiais.g1.globo.com/es/espirito-santo/eleicoes/2018/apuracao-zona-eleitoral-governador/vitoria/1-turno/',\n",
       " 'esid:conteudo_editorial_g1#materia#https://especiais.g1.globo.com/es/espirito-santo/eleicoes/2018/apuracao-zona-eleitoral-presidente/cariacica/1-turno/',\n",
       " 'esid:conteudo_editorial_g1#materia#https://especiais.g1.globo.com/es/espirito-santo/eleicoes/2018/apuracao-zona-eleitoral-presidente/serra/1-turno/',\n",
       " 'esid:conteudo_editorial_g1#materia#https://especiais.g1.globo.com/es/espirito-santo/eleicoes/2018/apuracao-zona-eleitoral-presidente/vila-velha/1-turno/',\n",
       " 'esid:conteudo_editorial_g1#materia#https://especiais.g1.globo.com/es/espirito-santo/eleicoes/2018/apuracao-zona-eleitoral-presidente/vitoria/1-turno/',\n",
       " 'esid:conteudo_editorial_g1#materia#https://especiais.g1.globo.com/fato-ou-fake/2018/banco-de-boatos/',\n",
       " 'esid:conteudo_editorial_g1#materia#https://especiais.g1.globo.com/g1-15-anos/2021/amazonia-meio-ambiente-devastacao/',\n",
       " 'esid:conteudo_editorial_g1#materia#https://especiais.g1.globo.com/g1-15-anos/2021/meu-celular-minha-vida/',\n",
       " 'esid:conteudo_editorial_g1#materia#https://especiais.g1.globo.com/g1-15-anos/2021/voz-das-mulheres/',\n",
       " 'esid:conteudo_editorial_g1#materia#https://especiais.g1.globo.com/go/goias/eleicoes/2018/apuracao-estado-governador/1-turno/',\n",
       " 'esid:conteudo_editorial_g1#materia#https://especiais.g1.globo.com/go/goias/eleicoes/2018/apuracao-estado-presidente/1-turno/',\n",
       " 'esid:conteudo_editorial_g1#materia#https://especiais.g1.globo.com/go/goias/eleicoes/2018/apuracao-zona-eleitoral-governador/anapolis/1-turno/',\n",
       " 'esid:conteudo_editorial_g1#materia#https://especiais.g1.globo.com/go/goias/eleicoes/2018/apuracao-zona-eleitoral-governador/aparecida-de-goiania/1-turno/',\n",
       " 'esid:conteudo_editorial_g1#materia#https://especiais.g1.globo.com/go/goias/eleicoes/2018/apuracao-zona-eleitoral-governador/goiania/1-turno/',\n",
       " 'esid:conteudo_editorial_g1#materia#https://especiais.g1.globo.com/go/goias/eleicoes/2018/apuracao-zona-eleitoral-presidente/anapolis/1-turno/',\n",
       " 'esid:conteudo_editorial_g1#materia#https://especiais.g1.globo.com/go/goias/eleicoes/2018/apuracao-zona-eleitoral-presidente/aparecida-de-goiania/1-turno/',\n",
       " 'esid:conteudo_editorial_g1#materia#https://especiais.g1.globo.com/go/goias/eleicoes/2018/apuracao-zona-eleitoral-presidente/goiania/1-turno/',\n",
       " 'esid:conteudo_editorial_g1#materia#https://especiais.g1.globo.com/goias/2015/as-promessas-de-perillo/',\n",
       " 'esid:conteudo_editorial_g1#materia#https://especiais.g1.globo.com/ma/maranhao/eleicoes/2018/apuracao-estado-governador/1-turno/',\n",
       " 'esid:conteudo_editorial_g1#materia#https://especiais.g1.globo.com/ma/maranhao/eleicoes/2018/apuracao-estado-presidente/1-turno/',\n",
       " 'esid:conteudo_editorial_g1#materia#https://especiais.g1.globo.com/ma/maranhao/eleicoes/2018/apuracao-zona-eleitoral-governador/sao-luis/1-turno/',\n",
       " 'esid:conteudo_editorial_g1#materia#https://especiais.g1.globo.com/ma/maranhao/eleicoes/2018/apuracao-zona-eleitoral-presidente/sao-luis/1-turno/',\n",
       " 'esid:conteudo_editorial_g1#materia#https://especiais.g1.globo.com/maranhao/2015/as-promessas-de-dino/',\n",
       " 'esid:conteudo_editorial_g1#materia#https://especiais.g1.globo.com/mg/grande-minas/eleicoes/2018/apuracao-zona-eleitoral-governador/montes-claros/1-turno/',\n",
       " 'esid:conteudo_editorial_g1#materia#https://especiais.g1.globo.com/mg/grande-minas/eleicoes/2018/apuracao-zona-eleitoral-presidente/montes-claros/1-turno/',\n",
       " 'esid:conteudo_editorial_g1#materia#https://especiais.g1.globo.com/mg/minas-gerais/eleicoes/2018/apuracao-estado-governador/1-turno/',\n",
       " 'esid:conteudo_editorial_g1#materia#https://especiais.g1.globo.com/mg/minas-gerais/eleicoes/2018/apuracao-estado-presidente/1-turno/',\n",
       " 'esid:conteudo_editorial_g1#materia#https://especiais.g1.globo.com/mg/minas-gerais/eleicoes/2018/apuracao-zona-eleitoral-governador/belo-horizonte/1-turno/',\n",
       " 'esid:conteudo_editorial_g1#materia#https://especiais.g1.globo.com/mg/minas-gerais/eleicoes/2018/apuracao-zona-eleitoral-governador/betim/1-turno/',\n",
       " 'esid:conteudo_editorial_g1#materia#https://especiais.g1.globo.com/mg/minas-gerais/eleicoes/2018/apuracao-zona-eleitoral-governador/contagem/1-turno/',\n",
       " 'esid:conteudo_editorial_g1#materia#https://especiais.g1.globo.com/mg/minas-gerais/eleicoes/2018/apuracao-zona-eleitoral-governador/ribeirao-das-neves/1-turno/',\n",
       " 'esid:conteudo_editorial_g1#materia#https://especiais.g1.globo.com/mg/minas-gerais/eleicoes/2018/apuracao-zona-eleitoral-presidente/belo-horizonte/1-turno/',\n",
       " 'esid:conteudo_editorial_g1#materia#https://especiais.g1.globo.com/mg/minas-gerais/eleicoes/2018/apuracao-zona-eleitoral-presidente/betim/1-turno/',\n",
       " 'esid:conteudo_editorial_g1#materia#https://especiais.g1.globo.com/mg/minas-gerais/eleicoes/2018/apuracao-zona-eleitoral-presidente/contagem/1-turno/',\n",
       " 'esid:conteudo_editorial_g1#materia#https://especiais.g1.globo.com/mg/minas-gerais/eleicoes/2018/apuracao-zona-eleitoral-presidente/ribeirao-das-neves/1-turno/',\n",
       " 'esid:conteudo_editorial_g1#materia#https://especiais.g1.globo.com/mg/triangulo-mineiro/eleicoes/2018/apuracao-zona-eleitoral-governador/uberaba/1-turno/',\n",
       " 'esid:conteudo_editorial_g1#materia#https://especiais.g1.globo.com/mg/triangulo-mineiro/eleicoes/2018/apuracao-zona-eleitoral-governador/uberlandia/1-turno/',\n",
       " 'esid:conteudo_editorial_g1#materia#https://especiais.g1.globo.com/mg/triangulo-mineiro/eleicoes/2018/apuracao-zona-eleitoral-presidente/uberaba/1-turno/',\n",
       " 'esid:conteudo_editorial_g1#materia#https://especiais.g1.globo.com/mg/triangulo-mineiro/eleicoes/2018/apuracao-zona-eleitoral-presidente/uberlandia/1-turno/',\n",
       " 'esid:conteudo_editorial_g1#materia#https://especiais.g1.globo.com/mg/vales-mg/eleicoes/2018/apuracao-zona-eleitoral-governador/governador-valadares/1-turno/',\n",
       " 'esid:conteudo_editorial_g1#materia#https://especiais.g1.globo.com/mg/vales-mg/eleicoes/2018/apuracao-zona-eleitoral-presidente/governador-valadares/1-turno/',\n",
       " 'esid:conteudo_editorial_g1#materia#https://especiais.g1.globo.com/mg/zona-da-mata/eleicoes/2018/apuracao-zona-eleitoral-governador/juiz-de-fora/1-turno/',\n",
       " 'esid:conteudo_editorial_g1#materia#https://especiais.g1.globo.com/mg/zona-da-mata/eleicoes/2018/apuracao-zona-eleitoral-presidente/juiz-de-fora/1-turno/',\n",
       " 'esid:conteudo_editorial_g1#materia#https://especiais.g1.globo.com/minas-gerais/2015/as-promessas-de-pimentel/',\n",
       " 'esid:conteudo_editorial_g1#materia#https://especiais.g1.globo.com/minas-gerais/2017/as-promessas-de-kalil/',\n",
       " 'esid:conteudo_editorial_g1#materia#https://especiais.g1.globo.com/mobilidade/2022/de-pedal-pra-sua-mesa/',\n",
       " 'esid:conteudo_editorial_g1#materia#https://especiais.g1.globo.com/monitor-da-violencia/2017/uma-semana-de-mortes-violentas-no-brasil/',\n",
       " 'esid:conteudo_editorial_g1#materia#https://especiais.g1.globo.com/monitor-da-violencia/2018/feminicidios-no-brasil/',\n",
       " 'esid:conteudo_editorial_g1#materia#https://especiais.g1.globo.com/monitor-da-violencia/2018/mortes-violentas-no-brasil/',\n",
       " 'esid:conteudo_editorial_g1#materia#https://especiais.g1.globo.com/monitor-da-violencia/2018/mortos-por-policiais-no-brasil/',\n",
       " 'esid:conteudo_editorial_g1#materia#https://especiais.g1.globo.com/monitor-da-violencia/2018/raio-x-do-sistema-prisional/',\n",
       " 'esid:conteudo_editorial_g1#materia#https://especiais.g1.globo.com/monitor-da-violencia/2019/raio-x-do-sistema-prisional/',\n",
       " 'esid:conteudo_editorial_g1#materia#https://especiais.g1.globo.com/monitor-da-violencia/2020/raio-x-do-sistema-prisional/',\n",
       " 'esid:conteudo_editorial_g1#materia#https://especiais.g1.globo.com/monitor-da-violencia/2021/raio-x-do-sistema-prisional/',\n",
       " 'esid:conteudo_editorial_g1#materia#https://especiais.g1.globo.com/ms/mato-grosso-do-sul/eleicoes/2018/apuracao-estado-governador/1-turno/',\n",
       " 'esid:conteudo_editorial_g1#materia#https://especiais.g1.globo.com/ms/mato-grosso-do-sul/eleicoes/2018/apuracao-estado-presidente/1-turno/',\n",
       " 'esid:conteudo_editorial_g1#materia#https://especiais.g1.globo.com/ms/mato-grosso-do-sul/eleicoes/2018/apuracao-zona-eleitoral-governador/campo-grande/1-turno/',\n",
       " 'esid:conteudo_editorial_g1#materia#https://especiais.g1.globo.com/ms/mato-grosso-do-sul/eleicoes/2018/apuracao-zona-eleitoral-presidente/campo-grande/1-turno/',\n",
       " 'esid:conteudo_editorial_g1#materia#https://especiais.g1.globo.com/mt/mato-grosso/eleicoes/2018/apuracao-estado-governador/1-turno/',\n",
       " 'esid:conteudo_editorial_g1#materia#https://especiais.g1.globo.com/mt/mato-grosso/eleicoes/2018/apuracao-estado-presidente/1-turno/',\n",
       " 'esid:conteudo_editorial_g1#materia#https://especiais.g1.globo.com/mt/mato-grosso/eleicoes/2018/apuracao-zona-eleitoral-governador/cuiaba/1-turno/',\n",
       " 'esid:conteudo_editorial_g1#materia#https://especiais.g1.globo.com/mt/mato-grosso/eleicoes/2018/apuracao-zona-eleitoral-presidente/cuiaba/1-turno/',\n",
       " 'esid:conteudo_editorial_g1#materia#https://especiais.g1.globo.com/musica/rock-in-rio/2017/botaoteca/',\n",
       " 'esid:conteudo_editorial_g1#materia#https://especiais.g1.globo.com/musica/rock-in-rio/2017/mapa-cidade-do-rock/',\n",
       " 'esid:conteudo_editorial_g1#materia#https://especiais.g1.globo.com/pa/para/eleicoes/2018/apuracao-estado-governador/1-turno/',\n",
       " 'esid:conteudo_editorial_g1#materia#https://especiais.g1.globo.com/pa/para/eleicoes/2018/apuracao-estado-presidente/1-turno/',\n",
       " 'esid:conteudo_editorial_g1#materia#https://especiais.g1.globo.com/pa/para/eleicoes/2018/apuracao-zona-eleitoral-governador/ananindeua/1-turno/',\n",
       " 'esid:conteudo_editorial_g1#materia#https://especiais.g1.globo.com/pa/para/eleicoes/2018/apuracao-zona-eleitoral-governador/belem/1-turno/',\n",
       " 'esid:conteudo_editorial_g1#materia#https://especiais.g1.globo.com/pa/para/eleicoes/2018/apuracao-zona-eleitoral-presidente/ananindeua/1-turno/',\n",
       " 'esid:conteudo_editorial_g1#materia#https://especiais.g1.globo.com/pa/para/eleicoes/2018/apuracao-zona-eleitoral-presidente/belem/1-turno/',\n",
       " 'esid:conteudo_editorial_g1#materia#https://especiais.g1.globo.com/para/2015/as-promessas-de-jatene/',\n",
       " 'esid:conteudo_editorial_g1#materia#https://especiais.g1.globo.com/paraiba/2015/as-promessas-de-ricardo/',\n",
       " 'esid:conteudo_editorial_g1#materia#https://especiais.g1.globo.com/parana/2017/as-promessas-de-greca/',\n",
       " 'esid:conteudo_editorial_g1#materia#https://especiais.g1.globo.com/pb/paraiba/eleicoes/2018/apuracao-estado-governador/1-turno/',\n",
       " 'esid:conteudo_editorial_g1#materia#https://especiais.g1.globo.com/pb/paraiba/eleicoes/2018/apuracao-estado-presidente/1-turno/',\n",
       " 'esid:conteudo_editorial_g1#materia#https://especiais.g1.globo.com/pb/paraiba/eleicoes/2018/apuracao-zona-eleitoral-governador/campina-grande/1-turno/',\n",
       " 'esid:conteudo_editorial_g1#materia#https://especiais.g1.globo.com/pb/paraiba/eleicoes/2018/apuracao-zona-eleitoral-governador/joao-pessoa/1-turno/',\n",
       " 'esid:conteudo_editorial_g1#materia#https://especiais.g1.globo.com/pb/paraiba/eleicoes/2018/apuracao-zona-eleitoral-presidente/campina-grande/1-turno/',\n",
       " 'esid:conteudo_editorial_g1#materia#https://especiais.g1.globo.com/pb/paraiba/eleicoes/2018/apuracao-zona-eleitoral-presidente/joao-pessoa/1-turno/',\n",
       " 'esid:conteudo_editorial_g1#materia#https://especiais.g1.globo.com/pe/caruaru-regiao/eleicoes/2018/apuracao-zona-eleitoral-governador/caruaru/1-turno/',\n",
       " 'esid:conteudo_editorial_g1#materia#https://especiais.g1.globo.com/pe/caruaru-regiao/eleicoes/2018/apuracao-zona-eleitoral-presidente/caruaru/1-turno/',\n",
       " 'esid:conteudo_editorial_g1#materia#https://especiais.g1.globo.com/pe/pernambuco/eleicoes/2018/apuracao-estado-governador/1-turno/',\n",
       " 'esid:conteudo_editorial_g1#materia#https://especiais.g1.globo.com/pe/pernambuco/eleicoes/2018/apuracao-estado-presidente/1-turno/',\n",
       " 'esid:conteudo_editorial_g1#materia#https://especiais.g1.globo.com/pe/pernambuco/eleicoes/2018/apuracao-zona-eleitoral-governador/jaboatao-dos-guararapes/1-turno/',\n",
       " 'esid:conteudo_editorial_g1#materia#https://especiais.g1.globo.com/pe/pernambuco/eleicoes/2018/apuracao-zona-eleitoral-governador/olinda/1-turno/',\n",
       " 'esid:conteudo_editorial_g1#materia#https://especiais.g1.globo.com/pe/pernambuco/eleicoes/2018/apuracao-zona-eleitoral-governador/paulista/1-turno/',\n",
       " 'esid:conteudo_editorial_g1#materia#https://especiais.g1.globo.com/pe/pernambuco/eleicoes/2018/apuracao-zona-eleitoral-governador/recife/1-turno/',\n",
       " 'esid:conteudo_editorial_g1#materia#https://especiais.g1.globo.com/pe/pernambuco/eleicoes/2018/apuracao-zona-eleitoral-presidente/jaboatao-dos-guararapes/1-turno/',\n",
       " 'esid:conteudo_editorial_g1#materia#https://especiais.g1.globo.com/pe/pernambuco/eleicoes/2018/apuracao-zona-eleitoral-presidente/olinda/1-turno/',\n",
       " 'esid:conteudo_editorial_g1#materia#https://especiais.g1.globo.com/pe/pernambuco/eleicoes/2018/apuracao-zona-eleitoral-presidente/paulista/1-turno/',\n",
       " 'esid:conteudo_editorial_g1#materia#https://especiais.g1.globo.com/pe/pernambuco/eleicoes/2018/apuracao-zona-eleitoral-presidente/recife/1-turno/',\n",
       " 'esid:conteudo_editorial_g1#materia#https://especiais.g1.globo.com/pe/petrolina-regiao/eleicoes/2018/apuracao-zona-eleitoral-governador/petrolina/1-turno/',\n",
       " 'esid:conteudo_editorial_g1#materia#https://especiais.g1.globo.com/pe/petrolina-regiao/eleicoes/2018/apuracao-zona-eleitoral-presidente/petrolina/1-turno/',\n",
       " 'esid:conteudo_editorial_g1#materia#https://especiais.g1.globo.com/pi/piaui/eleicoes/2018/apuracao-estado-governador/1-turno/',\n",
       " 'esid:conteudo_editorial_g1#materia#https://especiais.g1.globo.com/pi/piaui/eleicoes/2018/apuracao-estado-presidente/1-turno/',\n",
       " 'esid:conteudo_editorial_g1#materia#https://especiais.g1.globo.com/pi/piaui/eleicoes/2018/apuracao-zona-eleitoral-governador/teresina/1-turno/',\n",
       " 'esid:conteudo_editorial_g1#materia#https://especiais.g1.globo.com/pi/piaui/eleicoes/2018/apuracao-zona-eleitoral-presidente/teresina/1-turno/',\n",
       " 'esid:conteudo_editorial_g1#materia#https://especiais.g1.globo.com/piaui/2015/as-promessas-de-wellington/',\n",
       " 'esid:conteudo_editorial_g1#materia#https://especiais.g1.globo.com/politica/2015/lava-jato/conexoes-da-lava-jato/',\n",
       " 'esid:conteudo_editorial_g1#materia#https://especiais.g1.globo.com/politica/2015/lava-jato/delatores-da-lava-jato/',\n",
       " 'esid:conteudo_editorial_g1#materia#https://especiais.g1.globo.com/politica/2015/lava-jato/linha-do-tempo-da-lava-jato/',\n",
       " 'esid:conteudo_editorial_g1#materia#https://especiais.g1.globo.com/politica/2017/lava-jato/delacao-da-odebrecht/',\n",
       " 'esid:conteudo_editorial_g1#materia#https://especiais.g1.globo.com/politica/2017/votacao-da-segunda-denuncia-contra-temer-na-camara/',\n",
       " 'esid:conteudo_editorial_g1#materia#https://especiais.g1.globo.com/politica/cpi-da-covid/2021/bolsonaro-cpi-da-covid-imunidade-de-rebanho-caso-covaxin/',\n",
       " 'esid:conteudo_editorial_g1#materia#https://especiais.g1.globo.com/politica/cpi-da-covid/2021/cpi-covid-relatorio-final-bolsonaro-outros-investigados/',\n",
       " 'esid:conteudo_editorial_g1#materia#https://especiais.g1.globo.com/politica/cpi-da-covid/2021/volta-da-cpi-perguntas-vacina-corrupcao-fake-news/',\n",
       " 'esid:conteudo_editorial_g1#materia#https://especiais.g1.globo.com/politica/eleicoes/2018/da-boca-do-candidato-governador/',\n",
       " 'esid:conteudo_editorial_g1#materia#https://especiais.g1.globo.com/politica/eleicoes/2018/quem-eu-escolho/',\n",
       " 'esid:conteudo_editorial_g1#materia#https://especiais.g1.globo.com/pop-arte/2018/palpites-da-copa/',\n",
       " 'esid:conteudo_editorial_g1#materia#https://especiais.g1.globo.com/pop-arte/2022/jo-soares-o-ultimo-beijo-do-gordo/',\n",
       " 'esid:conteudo_editorial_g1#materia#https://especiais.g1.globo.com/pop-arte/musica/2021/marilia-mendonca-a-cantora-que-fez-o-brasil-sofrer/',\n",
       " 'esid:conteudo_editorial_g1#materia#https://especiais.g1.globo.com/pop-arte/musica/2021/mariliateca/',\n",
       " 'esid:conteudo_editorial_g1#materia#https://especiais.g1.globo.com/pop-arte/musica/2022/elza-soares-a-mulher-que-cantou-ate-o-fim/',\n",
       " 'esid:conteudo_editorial_g1#materia#https://especiais.g1.globo.com/pr/campos-gerais-sul/eleicoes/2018/apuracao-zona-eleitoral-governador/ponta-grossa/1-turno/',\n",
       " 'esid:conteudo_editorial_g1#materia#https://especiais.g1.globo.com/pr/campos-gerais-sul/eleicoes/2018/apuracao-zona-eleitoral-presidente/ponta-grossa/1-turno/',\n",
       " 'esid:conteudo_editorial_g1#materia#https://especiais.g1.globo.com/pr/norte-noroeste/eleicoes/2018/apuracao-zona-eleitoral-governador/londrina/1-turno/',\n",
       " 'esid:conteudo_editorial_g1#materia#https://especiais.g1.globo.com/pr/norte-noroeste/eleicoes/2018/apuracao-zona-eleitoral-governador/maringa/1-turno/',\n",
       " 'esid:conteudo_editorial_g1#materia#https://especiais.g1.globo.com/pr/norte-noroeste/eleicoes/2018/apuracao-zona-eleitoral-presidente/londrina/1-turno/',\n",
       " 'esid:conteudo_editorial_g1#materia#https://especiais.g1.globo.com/pr/norte-noroeste/eleicoes/2018/apuracao-zona-eleitoral-presidente/maringa/1-turno/',\n",
       " 'esid:conteudo_editorial_g1#materia#https://especiais.g1.globo.com/pr/oeste-sudoeste/eleicoes/2018/apuracao-zona-eleitoral-governador/cascavel/1-turno/',\n",
       " 'esid:conteudo_editorial_g1#materia#https://especiais.g1.globo.com/pr/oeste-sudoeste/eleicoes/2018/apuracao-zona-eleitoral-presidente/cascavel/1-turno/',\n",
       " 'esid:conteudo_editorial_g1#materia#https://especiais.g1.globo.com/pr/parana/eleicoes/2018/apuracao-estado-governador/1-turno/',\n",
       " 'esid:conteudo_editorial_g1#materia#https://especiais.g1.globo.com/pr/parana/eleicoes/2018/apuracao-estado-presidente/1-turno/',\n",
       " 'esid:conteudo_editorial_g1#materia#https://especiais.g1.globo.com/pr/parana/eleicoes/2018/apuracao-zona-eleitoral-governador/curitiba/1-turno/',\n",
       " 'esid:conteudo_editorial_g1#materia#https://especiais.g1.globo.com/pr/parana/eleicoes/2018/apuracao-zona-eleitoral-presidente/curitiba/1-turno/',\n",
       " 'esid:conteudo_editorial_g1#materia#https://especiais.g1.globo.com/retrospectiva-g1/2017/as-mortes-do-ano/',\n",
       " 'esid:conteudo_editorial_g1#materia#https://especiais.g1.globo.com/retrospectiva/2019/blogueiros-fazem-projecoes-para-2020/',\n",
       " 'esid:conteudo_editorial_g1#materia#https://especiais.g1.globo.com/retrospectiva/2019/frases-do-ano/',\n",
       " 'esid:conteudo_editorial_g1#materia#https://especiais.g1.globo.com/retrospectiva/2019/mortes-do-ano/',\n",
       " 'esid:conteudo_editorial_g1#materia#https://especiais.g1.globo.com/rio-de-janeiro/2017/as-promessas-de-crivella/',\n",
       " 'esid:conteudo_editorial_g1#materia#https://especiais.g1.globo.com/rio-de-janeiro/2017/pms-mortos-no-rj/',\n",
       " 'esid:conteudo_editorial_g1#materia#https://especiais.g1.globo.com/rio-de-janeiro/complexo-do-alemao/',\n",
       " 'esid:conteudo_editorial_g1#materia#https://especiais.g1.globo.com/rio-grande-do-norte/2015/as-promessas-de-robinson/',\n",
       " 'esid:conteudo_editorial_g1#materia#https://especiais.g1.globo.com/rio-grande-do-norte/2017/as-promessas-de-carlos-eduardo/',\n",
       " 'esid:conteudo_editorial_g1#materia#https://especiais.g1.globo.com/rio-grande-do-sul/2017/as-promessas-de-marchezan/',\n",
       " 'esid:conteudo_editorial_g1#materia#https://especiais.g1.globo.com/rj/norte-fluminense/eleicoes/2018/apuracao-zona-eleitoral-governador/campos-dos-goytacazes/1-turno/',\n",
       " 'esid:conteudo_editorial_g1#materia#https://especiais.g1.globo.com/rj/norte-fluminense/eleicoes/2018/apuracao-zona-eleitoral-presidente/campos-dos-goytacazes/1-turno/',\n",
       " 'esid:conteudo_editorial_g1#materia#https://especiais.g1.globo.com/rj/regiao-dos-lagos/eleicoes/2018/apuracao-zona-eleitoral-governador/cabo-frio/1-turno/',\n",
       " 'esid:conteudo_editorial_g1#materia#https://especiais.g1.globo.com/rj/regiao-dos-lagos/eleicoes/2018/apuracao-zona-eleitoral-presidente/cabo-frio/1-turno/',\n",
       " 'esid:conteudo_editorial_g1#materia#https://especiais.g1.globo.com/rj/regiao-serrana/eleicoes/2018/apuracao-zona-eleitoral-governador/petropolis/1-turno/',\n",
       " 'esid:conteudo_editorial_g1#materia#https://especiais.g1.globo.com/rj/regiao-serrana/eleicoes/2018/apuracao-zona-eleitoral-presidente/petropolis/1-turno/',\n",
       " 'esid:conteudo_editorial_g1#materia#https://especiais.g1.globo.com/rj/rio-de-janeiro/carnaval/2020/superzoom-da-musa/',\n",
       " 'esid:conteudo_editorial_g1#materia#https://especiais.g1.globo.com/rj/rio-de-janeiro/carnaval/2022/superzoom-da-musa/',\n",
       " 'esid:conteudo_editorial_g1#materia#https://especiais.g1.globo.com/rj/rio-de-janeiro/eleicoes/2018/apuracao-estado-governador/1-turno/',\n",
       " 'esid:conteudo_editorial_g1#materia#https://especiais.g1.globo.com/rj/rio-de-janeiro/eleicoes/2018/apuracao-estado-presidente/1-turno/',\n",
       " 'esid:conteudo_editorial_g1#materia#https://especiais.g1.globo.com/rj/rio-de-janeiro/eleicoes/2018/apuracao-zona-eleitoral-governador/belford-roxo/1-turno/',\n",
       " 'esid:conteudo_editorial_g1#materia#https://especiais.g1.globo.com/rj/rio-de-janeiro/eleicoes/2018/apuracao-zona-eleitoral-governador/duque-de-caxias/1-turno/',\n",
       " 'esid:conteudo_editorial_g1#materia#https://especiais.g1.globo.com/rj/rio-de-janeiro/eleicoes/2018/apuracao-zona-eleitoral-governador/mage/1-turno/',\n",
       " 'esid:conteudo_editorial_g1#materia#https://especiais.g1.globo.com/rj/rio-de-janeiro/eleicoes/2018/apuracao-zona-eleitoral-governador/niteroi/1-turno/',\n",
       " 'esid:conteudo_editorial_g1#materia#https://especiais.g1.globo.com/rj/rio-de-janeiro/eleicoes/2018/apuracao-zona-eleitoral-governador/nova-iguacu/1-turno/',\n",
       " 'esid:conteudo_editorial_g1#materia#https://especiais.g1.globo.com/rj/rio-de-janeiro/eleicoes/2018/apuracao-zona-eleitoral-governador/rio-de-janeiro/1-turno/',\n",
       " 'esid:conteudo_editorial_g1#materia#https://especiais.g1.globo.com/rj/rio-de-janeiro/eleicoes/2018/apuracao-zona-eleitoral-governador/sao-goncalo/1-turno/',\n",
       " 'esid:conteudo_editorial_g1#materia#https://especiais.g1.globo.com/rj/rio-de-janeiro/eleicoes/2018/apuracao-zona-eleitoral-governador/sao-joao-de-meriti/1-turno/',\n",
       " 'esid:conteudo_editorial_g1#materia#https://especiais.g1.globo.com/rj/rio-de-janeiro/eleicoes/2018/apuracao-zona-eleitoral-presidente/belford-roxo/1-turno/',\n",
       " 'esid:conteudo_editorial_g1#materia#https://especiais.g1.globo.com/rj/rio-de-janeiro/eleicoes/2018/apuracao-zona-eleitoral-presidente/duque-de-caxias/1-turno/',\n",
       " 'esid:conteudo_editorial_g1#materia#https://especiais.g1.globo.com/rj/rio-de-janeiro/eleicoes/2018/apuracao-zona-eleitoral-presidente/mage/1-turno/',\n",
       " 'esid:conteudo_editorial_g1#materia#https://especiais.g1.globo.com/rj/rio-de-janeiro/eleicoes/2018/apuracao-zona-eleitoral-presidente/niteroi/1-turno/',\n",
       " 'esid:conteudo_editorial_g1#materia#https://especiais.g1.globo.com/rj/rio-de-janeiro/eleicoes/2018/apuracao-zona-eleitoral-presidente/nova-iguacu/1-turno/',\n",
       " 'esid:conteudo_editorial_g1#materia#https://especiais.g1.globo.com/rj/rio-de-janeiro/eleicoes/2018/apuracao-zona-eleitoral-presidente/rio-de-janeiro/1-turno/',\n",
       " 'esid:conteudo_editorial_g1#materia#https://especiais.g1.globo.com/rj/rio-de-janeiro/eleicoes/2018/apuracao-zona-eleitoral-presidente/sao-goncalo/1-turno/',\n",
       " 'esid:conteudo_editorial_g1#materia#https://especiais.g1.globo.com/rj/rio-de-janeiro/eleicoes/2018/apuracao-zona-eleitoral-presidente/sao-joao-de-meriti/1-turno/',\n",
       " 'esid:conteudo_editorial_g1#materia#https://especiais.g1.globo.com/rj/sul-do-rio-costa-verde/eleicoes/2018/apuracao-zona-eleitoral-governador/angra-dos-reis/1-turno/',\n",
       " 'esid:conteudo_editorial_g1#materia#https://especiais.g1.globo.com/rj/sul-do-rio-costa-verde/eleicoes/2018/apuracao-zona-eleitoral-governador/volta-redonda/1-turno/',\n",
       " 'esid:conteudo_editorial_g1#materia#https://especiais.g1.globo.com/rj/sul-do-rio-costa-verde/eleicoes/2018/apuracao-zona-eleitoral-presidente/angra-dos-reis/1-turno/',\n",
       " 'esid:conteudo_editorial_g1#materia#https://especiais.g1.globo.com/rj/sul-do-rio-costa-verde/eleicoes/2018/apuracao-zona-eleitoral-presidente/volta-redonda/1-turno/',\n",
       " 'esid:conteudo_editorial_g1#materia#https://especiais.g1.globo.com/rn/rio-grande-do-norte/eleicoes/2018/apuracao-estado-governador/1-turno/',\n",
       " 'esid:conteudo_editorial_g1#materia#https://especiais.g1.globo.com/rn/rio-grande-do-norte/eleicoes/2018/apuracao-estado-presidente/1-turno/',\n",
       " 'esid:conteudo_editorial_g1#materia#https://especiais.g1.globo.com/rn/rio-grande-do-norte/eleicoes/2018/apuracao-zona-eleitoral-governador/natal/1-turno/',\n",
       " 'esid:conteudo_editorial_g1#materia#https://especiais.g1.globo.com/ro/rondonia/eleicoes/2018/apuracao-estado-governador/1-turno/',\n",
       " 'esid:conteudo_editorial_g1#materia#https://especiais.g1.globo.com/ro/rondonia/eleicoes/2018/apuracao-estado-presidente/1-turno/',\n",
       " 'esid:conteudo_editorial_g1#materia#https://especiais.g1.globo.com/ro/rondonia/eleicoes/2018/apuracao-zona-eleitoral-governador/porto-velho/1-turno/',\n",
       " 'esid:conteudo_editorial_g1#materia#https://especiais.g1.globo.com/ro/rondonia/eleicoes/2018/apuracao-zona-eleitoral-presidente/porto-velho/1-turno/',\n",
       " 'esid:conteudo_editorial_g1#materia#https://especiais.g1.globo.com/rondonia/2017/as-promessas-de-hildon/',\n",
       " 'esid:conteudo_editorial_g1#materia#https://especiais.g1.globo.com/rr/roraima/eleicoes/2018/apuracao-estado-governador/1-turno/',\n",
       " 'esid:conteudo_editorial_g1#materia#https://especiais.g1.globo.com/rr/roraima/eleicoes/2018/apuracao-estado-presidente/1-turno/',\n",
       " 'esid:conteudo_editorial_g1#materia#https://especiais.g1.globo.com/rr/roraima/eleicoes/2018/apuracao-zona-eleitoral-governador/boa-vista/1-turno/',\n",
       " 'esid:conteudo_editorial_g1#materia#https://especiais.g1.globo.com/rr/roraima/eleicoes/2018/apuracao-zona-eleitoral-presidente/boa-vista/1-turno/',\n",
       " 'esid:conteudo_editorial_g1#materia#https://especiais.g1.globo.com/rs/rio-grande-do-sul/eleicoes/2018/apuracao-estado-governador/1-turno/',\n",
       " 'esid:conteudo_editorial_g1#materia#https://especiais.g1.globo.com/rs/rio-grande-do-sul/eleicoes/2018/apuracao-estado-presidente/1-turno/',\n",
       " 'esid:conteudo_editorial_g1#materia#https://especiais.g1.globo.com/rs/rio-grande-do-sul/eleicoes/2018/apuracao-zona-eleitoral-governador/canoas/1-turno/',\n",
       " 'esid:conteudo_editorial_g1#materia#https://especiais.g1.globo.com/rs/rio-grande-do-sul/eleicoes/2018/apuracao-zona-eleitoral-governador/caxias-do-sul/1-turno/',\n",
       " 'esid:conteudo_editorial_g1#materia#https://especiais.g1.globo.com/rs/rio-grande-do-sul/eleicoes/2018/apuracao-zona-eleitoral-governador/pelotas/1-turno/',\n",
       " 'esid:conteudo_editorial_g1#materia#https://especiais.g1.globo.com/rs/rio-grande-do-sul/eleicoes/2018/apuracao-zona-eleitoral-governador/porto-alegre/1-turno/',\n",
       " 'esid:conteudo_editorial_g1#materia#https://especiais.g1.globo.com/rs/rio-grande-do-sul/eleicoes/2018/apuracao-zona-eleitoral-governador/santa-maria/1-turno/',\n",
       " 'esid:conteudo_editorial_g1#materia#https://especiais.g1.globo.com/rs/rio-grande-do-sul/eleicoes/2018/apuracao-zona-eleitoral-presidente/canoas/1-turno/',\n",
       " 'esid:conteudo_editorial_g1#materia#https://especiais.g1.globo.com/rs/rio-grande-do-sul/eleicoes/2018/apuracao-zona-eleitoral-presidente/caxias-do-sul/1-turno/',\n",
       " 'esid:conteudo_editorial_g1#materia#https://especiais.g1.globo.com/rs/rio-grande-do-sul/eleicoes/2018/apuracao-zona-eleitoral-presidente/pelotas/1-turno/',\n",
       " 'esid:conteudo_editorial_g1#materia#https://especiais.g1.globo.com/rs/rio-grande-do-sul/eleicoes/2018/apuracao-zona-eleitoral-presidente/porto-alegre/1-turno/',\n",
       " 'esid:conteudo_editorial_g1#materia#https://especiais.g1.globo.com/rs/rio-grande-do-sul/eleicoes/2018/apuracao-zona-eleitoral-presidente/santa-maria/1-turno/',\n",
       " 'esid:conteudo_editorial_g1#materia#https://especiais.g1.globo.com/santa-catarina/2017/as-promessas-de-gean/',\n",
       " 'esid:conteudo_editorial_g1#materia#https://especiais.g1.globo.com/sao-paulo/2015/as-promessas-de-alckmin/',\n",
       " 'esid:conteudo_editorial_g1#materia#https://especiais.g1.globo.com/sao-paulo/2017/as-promessas-de-doria/',\n",
       " 'esid:conteudo_editorial_g1#materia#https://especiais.g1.globo.com/sao-paulo/eleicoes/2018/apuracao-zona-eleitoral-governador/mogi-das-cruzes/1-turno/',\n",
       " 'esid:conteudo_editorial_g1#materia#https://especiais.g1.globo.com/sao-paulo/eleicoes/2018/apuracao-zona-eleitoral-presidente/mogi-das-cruzes/1-turno/',\n",
       " 'esid:conteudo_editorial_g1#materia#https://especiais.g1.globo.com/sao-paulo/sorocaba-jundiai/eleicoes/2018/apuracao-zona-eleitoral-presidente/jundiai/1-turno/',\n",
       " 'esid:conteudo_editorial_g1#materia#https://especiais.g1.globo.com/sc/santa-catarina/eleicoes/2018/apuracao-estado-governador/1-turno/',\n",
       " 'esid:conteudo_editorial_g1#materia#https://especiais.g1.globo.com/sc/santa-catarina/eleicoes/2018/apuracao-estado-presidente/1-turno/',\n",
       " 'esid:conteudo_editorial_g1#materia#https://especiais.g1.globo.com/sc/santa-catarina/eleicoes/2018/apuracao-zona-eleitoral-governador/blumenau/1-turno/',\n",
       " 'esid:conteudo_editorial_g1#materia#https://especiais.g1.globo.com/sc/santa-catarina/eleicoes/2018/apuracao-zona-eleitoral-governador/florianopolis/1-turno/',\n",
       " 'esid:conteudo_editorial_g1#materia#https://especiais.g1.globo.com/sc/santa-catarina/eleicoes/2018/apuracao-zona-eleitoral-governador/joinville/1-turno/',\n",
       " 'esid:conteudo_editorial_g1#materia#https://especiais.g1.globo.com/sc/santa-catarina/eleicoes/2018/apuracao-zona-eleitoral-presidente/blumenau/1-turno/',\n",
       " 'esid:conteudo_editorial_g1#materia#https://especiais.g1.globo.com/sc/santa-catarina/eleicoes/2018/apuracao-zona-eleitoral-presidente/florianopolis/1-turno/',\n",
       " 'esid:conteudo_editorial_g1#materia#https://especiais.g1.globo.com/sc/santa-catarina/eleicoes/2018/apuracao-zona-eleitoral-presidente/joinville/1-turno/',\n",
       " 'esid:conteudo_editorial_g1#materia#https://especiais.g1.globo.com/se/sergipe/eleicoes/2018/apuracao-estado-governador/1-turno/',\n",
       " 'esid:conteudo_editorial_g1#materia#https://especiais.g1.globo.com/se/sergipe/eleicoes/2018/apuracao-estado-presidente/1-turno/',\n",
       " 'esid:conteudo_editorial_g1#materia#https://especiais.g1.globo.com/se/sergipe/eleicoes/2018/apuracao-zona-eleitoral-governador/aracaju/1-turno/',\n",
       " 'esid:conteudo_editorial_g1#materia#https://especiais.g1.globo.com/se/sergipe/eleicoes/2018/apuracao-zona-eleitoral-presidente/aracaju/1-turno/',\n",
       " 'esid:conteudo_editorial_g1#materia#https://especiais.g1.globo.com/sp/bauru-marilia/eleicoes/2018/apuracao-zona-eleitoral-presidente/bauru/1-turno/',\n",
       " 'esid:conteudo_editorial_g1#materia#https://especiais.g1.globo.com/sp/bauru-marilia/eleicoes/2018/apuracao-zona-eleitoral-presidente/marilia/1-turno/',\n",
       " 'esid:conteudo_editorial_g1#materia#https://especiais.g1.globo.com/sp/campinas-regiao/eleicoes/2018/apuracao-zona-eleitoral-governador/campinas/1-turno/',\n",
       " 'esid:conteudo_editorial_g1#materia#https://especiais.g1.globo.com/sp/campinas-regiao/eleicoes/2018/apuracao-zona-eleitoral-presidente/campinas/1-turno/',\n",
       " 'esid:conteudo_editorial_g1#materia#https://especiais.g1.globo.com/sp/campinas-regiao/eleicoes/2018/apuracao-zona-eleitoral-presidente/sumare/1-turno/',\n",
       " 'esid:conteudo_editorial_g1#materia#https://especiais.g1.globo.com/sp/mogi-das-cruzes-suzano/eleicoes/2018/apuracao-zona-eleitoral-governador/itaquaquecetuba/1-turno/',\n",
       " 'esid:conteudo_editorial_g1#materia#https://especiais.g1.globo.com/sp/mogi-das-cruzes-suzano/eleicoes/2018/apuracao-zona-eleitoral-governador/suzano/1-turno/',\n",
       " 'esid:conteudo_editorial_g1#materia#https://especiais.g1.globo.com/sp/mogi-das-cruzes-suzano/eleicoes/2018/apuracao-zona-eleitoral-presidente/itaquaquecetuba/1-turno/',\n",
       " 'esid:conteudo_editorial_g1#materia#https://especiais.g1.globo.com/sp/mogi-das-cruzes-suzano/eleicoes/2018/apuracao-zona-eleitoral-presidente/suzano/1-turno/',\n",
       " 'esid:conteudo_editorial_g1#materia#https://especiais.g1.globo.com/sp/piracicaba-regiao/eleicoes/2018/apuracao-zona-eleitoral-governador/piracicaba/1-turno/',\n",
       " 'esid:conteudo_editorial_g1#materia#https://especiais.g1.globo.com/sp/piracicaba-regiao/eleicoes/2018/apuracao-zona-eleitoral-presidente/limeira/1-turno/',\n",
       " 'esid:conteudo_editorial_g1#materia#https://especiais.g1.globo.com/sp/piracicaba-regiao/eleicoes/2018/apuracao-zona-eleitoral-presidente/piracicaba/1-turno/',\n",
       " 'esid:conteudo_editorial_g1#materia#https://especiais.g1.globo.com/sp/presidente-prudente-regiao/eleicoes/2018/apuracao-zona-eleitoral-governador/presidente-prudente/1-turno/',\n",
       " 'esid:conteudo_editorial_g1#materia#https://especiais.g1.globo.com/sp/presidente-prudente-regiao/eleicoes/2018/apuracao-zona-eleitoral-presidente/presidente-prudente/1-turno/',\n",
       " 'esid:conteudo_editorial_g1#materia#https://especiais.g1.globo.com/sp/ribeirao-preto-franca/eleicoes/2018/apuracao-zona-eleitoral-governador/ribeirao-preto/1-turno/',\n",
       " 'esid:conteudo_editorial_g1#materia#https://especiais.g1.globo.com/sp/ribeirao-preto-franca/eleicoes/2018/apuracao-zona-eleitoral-presidente/franca/1-turno/',\n",
       " 'esid:conteudo_editorial_g1#materia#https://especiais.g1.globo.com/sp/ribeirao-preto-franca/eleicoes/2018/apuracao-zona-eleitoral-presidente/ribeirao-preto/1-turno/',\n",
       " 'esid:conteudo_editorial_g1#materia#https://especiais.g1.globo.com/sp/santos-regiao/eleicoes/2018/apuracao-zona-eleitoral-governador/guaruja/1-turno/',\n",
       " 'esid:conteudo_editorial_g1#materia#https://especiais.g1.globo.com/sp/santos-regiao/eleicoes/2018/apuracao-zona-eleitoral-governador/praia-grande/1-turno/',\n",
       " 'esid:conteudo_editorial_g1#materia#https://especiais.g1.globo.com/sp/santos-regiao/eleicoes/2018/apuracao-zona-eleitoral-governador/santos/1-turno/',\n",
       " 'esid:conteudo_editorial_g1#materia#https://especiais.g1.globo.com/sp/santos-regiao/eleicoes/2018/apuracao-zona-eleitoral-governador/sao-vicente/1-turno/',\n",
       " 'esid:conteudo_editorial_g1#materia#https://especiais.g1.globo.com/sp/santos-regiao/eleicoes/2018/apuracao-zona-eleitoral-presidente/guaruja/1-turno/',\n",
       " 'esid:conteudo_editorial_g1#materia#https://especiais.g1.globo.com/sp/santos-regiao/eleicoes/2018/apuracao-zona-eleitoral-presidente/praia-grande/1-turno/',\n",
       " 'esid:conteudo_editorial_g1#materia#https://especiais.g1.globo.com/sp/santos-regiao/eleicoes/2018/apuracao-zona-eleitoral-presidente/santos/1-turno/',\n",
       " 'esid:conteudo_editorial_g1#materia#https://especiais.g1.globo.com/sp/santos-regiao/eleicoes/2018/apuracao-zona-eleitoral-presidente/sao-vicente/1-turno/',\n",
       " 'esid:conteudo_editorial_g1#materia#https://especiais.g1.globo.com/sp/sao-carlos-regiao/eleicoes/2018/apuracao-zona-eleitoral-governador/araraquara/1-turno/',\n",
       " 'esid:conteudo_editorial_g1#materia#https://especiais.g1.globo.com/sp/sao-carlos-regiao/eleicoes/2018/apuracao-zona-eleitoral-governador/sao-carlos/1-turno/',\n",
       " 'esid:conteudo_editorial_g1#materia#https://especiais.g1.globo.com/sp/sao-carlos-regiao/eleicoes/2018/apuracao-zona-eleitoral-presidente/araraquara/1-turno/',\n",
       " 'esid:conteudo_editorial_g1#materia#https://especiais.g1.globo.com/sp/sao-carlos-regiao/eleicoes/2018/apuracao-zona-eleitoral-presidente/sao-carlos/1-turno/',\n",
       " 'esid:conteudo_editorial_g1#materia#https://especiais.g1.globo.com/sp/sao-jose-do-rio-preto-aracatuba/eleicoes/2018/apuracao-zona-eleitoral-governador/aracatuba/1-turno/',\n",
       " 'esid:conteudo_editorial_g1#materia#https://especiais.g1.globo.com/sp/sao-jose-do-rio-preto-aracatuba/eleicoes/2018/apuracao-zona-eleitoral-governador/sao-jose-do-rio-preto/1-turno/',\n",
       " 'esid:conteudo_editorial_g1#materia#https://especiais.g1.globo.com/sp/sao-jose-do-rio-preto-aracatuba/eleicoes/2018/apuracao-zona-eleitoral-presidente/aracatuba/1-turno/',\n",
       " 'esid:conteudo_editorial_g1#materia#https://especiais.g1.globo.com/sp/sao-jose-do-rio-preto-aracatuba/eleicoes/2018/apuracao-zona-eleitoral-presidente/sao-jose-do-rio-preto/1-turno/',\n",
       " 'esid:conteudo_editorial_g1#materia#https://especiais.g1.globo.com/sp/sao-paulo/2021/um-ano-de-covid-sp/',\n",
       " 'esid:conteudo_editorial_g1#materia#https://especiais.g1.globo.com/sp/sao-paulo/carnaval/2020/superzoom-da-musa/',\n",
       " 'esid:conteudo_editorial_g1#materia#https://especiais.g1.globo.com/sp/sao-paulo/carnaval/2022/superzoom-da-musa/',\n",
       " 'esid:conteudo_editorial_g1#materia#https://especiais.g1.globo.com/sp/sao-paulo/eleicoes/2018/apuracao-zona-eleitoral-governador/barueri/1-turno/',\n",
       " 'esid:conteudo_editorial_g1#materia#https://especiais.g1.globo.com/sp/sao-paulo/eleicoes/2018/apuracao-zona-eleitoral-governador/carapicuiba/1-turno/',\n",
       " 'esid:conteudo_editorial_g1#materia#https://especiais.g1.globo.com/sp/sao-paulo/eleicoes/2018/apuracao-zona-eleitoral-governador/diadema/1-turno/',\n",
       " 'esid:conteudo_editorial_g1#materia#https://especiais.g1.globo.com/sp/sao-paulo/eleicoes/2018/apuracao-zona-eleitoral-governador/guarulhos/1-turno/',\n",
       " 'esid:conteudo_editorial_g1#materia#https://especiais.g1.globo.com/sp/sao-paulo/eleicoes/2018/apuracao-zona-eleitoral-governador/maua/1-turno/',\n",
       " 'esid:conteudo_editorial_g1#materia#https://especiais.g1.globo.com/sp/sao-paulo/eleicoes/2018/apuracao-zona-eleitoral-governador/osasco/1-turno/',\n",
       " 'esid:conteudo_editorial_g1#materia#https://especiais.g1.globo.com/sp/sao-paulo/eleicoes/2018/apuracao-zona-eleitoral-governador/santo-andre/1-turno/',\n",
       " 'esid:conteudo_editorial_g1#materia#https://especiais.g1.globo.com/sp/sao-paulo/eleicoes/2018/apuracao-zona-eleitoral-governador/sao-bernardo-do-campo/1-turno/',\n",
       " 'esid:conteudo_editorial_g1#materia#https://especiais.g1.globo.com/sp/sao-paulo/eleicoes/2018/apuracao-zona-eleitoral-governador/sao-paulo/1-turno/',\n",
       " 'esid:conteudo_editorial_g1#materia#https://especiais.g1.globo.com/sp/sao-paulo/eleicoes/2018/apuracao-zona-eleitoral-governador/taboao-da-serra/1-turno/',\n",
       " 'esid:conteudo_editorial_g1#materia#https://especiais.g1.globo.com/sp/sao-paulo/eleicoes/2018/apuracao-zona-eleitoral-presidente/barueri/1-turno/',\n",
       " 'esid:conteudo_editorial_g1#materia#https://especiais.g1.globo.com/sp/sao-paulo/eleicoes/2018/apuracao-zona-eleitoral-presidente/carapicuiba/1-turno/',\n",
       " 'esid:conteudo_editorial_g1#materia#https://especiais.g1.globo.com/sp/sao-paulo/eleicoes/2018/apuracao-zona-eleitoral-presidente/diadema/1-turno/',\n",
       " 'esid:conteudo_editorial_g1#materia#https://especiais.g1.globo.com/sp/sao-paulo/eleicoes/2018/apuracao-zona-eleitoral-presidente/guarulhos/1-turno/',\n",
       " 'esid:conteudo_editorial_g1#materia#https://especiais.g1.globo.com/sp/sao-paulo/eleicoes/2018/apuracao-zona-eleitoral-presidente/maua/1-turno/',\n",
       " 'esid:conteudo_editorial_g1#materia#https://especiais.g1.globo.com/sp/sao-paulo/eleicoes/2018/apuracao-zona-eleitoral-presidente/osasco/1-turno/',\n",
       " 'esid:conteudo_editorial_g1#materia#https://especiais.g1.globo.com/sp/sao-paulo/eleicoes/2018/apuracao-zona-eleitoral-presidente/santo-andre/1-turno/',\n",
       " 'esid:conteudo_editorial_g1#materia#https://especiais.g1.globo.com/sp/sao-paulo/eleicoes/2018/apuracao-zona-eleitoral-presidente/sao-bernardo-do-campo/1-turno/',\n",
       " 'esid:conteudo_editorial_g1#materia#https://especiais.g1.globo.com/sp/sao-paulo/eleicoes/2018/apuracao-zona-eleitoral-presidente/sao-paulo/1-turno/',\n",
       " 'esid:conteudo_editorial_g1#materia#https://especiais.g1.globo.com/sp/sao-paulo/eleicoes/2018/apuracao-zona-eleitoral-presidente/taboao-da-serra/1-turno/',\n",
       " 'esid:conteudo_editorial_g1#materia#https://especiais.g1.globo.com/sp/sorocaba-jundiai/eleicoes/2018/apuracao-zona-eleitoral-presidente/sorocaba/1-turno/',\n",
       " 'esid:conteudo_editorial_g1#materia#https://especiais.g1.globo.com/sp/vale-do-paraiba-regiao/eleicoes/2018/apuracao-zona-eleitoral-governador/sao-jose-dos-campos/1-turno/',\n",
       " 'esid:conteudo_editorial_g1#materia#https://especiais.g1.globo.com/sp/vale-do-paraiba-regiao/eleicoes/2018/apuracao-zona-eleitoral-governador/taubate/1-turno/',\n",
       " 'esid:conteudo_editorial_g1#materia#https://especiais.g1.globo.com/sp/vale-do-paraiba-regiao/eleicoes/2018/apuracao-zona-eleitoral-presidente/sao-jose-dos-campos/1-turno/',\n",
       " 'esid:conteudo_editorial_g1#materia#https://especiais.g1.globo.com/sp/vale-do-paraiba-regiao/eleicoes/2018/apuracao-zona-eleitoral-presidente/taubate/1-turno/',\n",
       " 'esid:conteudo_editorial_g1#materia#https://especiais.g1.globo.com/to/tocantins/eleicoes/2018/apuracao-estado-presidente/1-turno/',\n",
       " 'esid:conteudo_editorial_g1#materia#https://especiais.g1.globo.com/to/tocantins/eleicoes/2018/apuracao-zona-eleitoral-governador/palmas/1-turno/',\n",
       " 'esid:conteudo_editorial_g1#materia#https://especiais.g1.globo.com/to/tocantins/eleicoes/2018/apuracao-zona-eleitoral-presidente/palmas/1-turno/',\n",
       " 'f43b6407-c17d-4d5f-baf6-3ce0b48bcd93',\n",
       " 'f4b6be34-c388-4457-b170-eb3a678bd064',\n",
       " 'f55db7cd-26b3-4075-b32a-c1d0e3ded173',\n",
       " 'f624f75d-665e-4524-af7a-a5257d3a87c1',\n",
       " 'f6d5f440-e15c-4e4a-a4a1-f8b69ad8c3a2',\n",
       " 'f8aad0a2-0a82-4c12-9824-714b81e6dc72',\n",
       " 'f9fae662-46d6-424a-982f-89b11fdfa70a',\n",
       " 'fb0cfa43-b92a-4cfe-bbe9-b2decc9d5351',\n",
       " 'ffcdecca-7d1d-40c8-b2c4-14747fccc51c',\n",
       " 'fffa3adc-c6f1-40dd-89e4-c992d0eef625'}"
      ]
     },
     "execution_count": 44,
     "metadata": {},
     "output_type": "execute_result"
    }
   ],
   "source": [
    "not_news_set = set(not_news[\"page\"])\n",
    "not_news_set"
   ]
  },
  {
   "cell_type": "code",
   "execution_count": null,
   "metadata": {},
   "outputs": [
    {
     "data": {
      "text/html": [
       "<div>\n",
       "<style scoped>\n",
       "    .dataframe tbody tr th:only-of-type {\n",
       "        vertical-align: middle;\n",
       "    }\n",
       "\n",
       "    .dataframe tbody tr th {\n",
       "        vertical-align: top;\n",
       "    }\n",
       "\n",
       "    .dataframe thead th {\n",
       "        text-align: right;\n",
       "    }\n",
       "</style>\n",
       "<table border=\"1\" class=\"dataframe\">\n",
       "  <thead>\n",
       "    <tr style=\"text-align: right;\">\n",
       "      <th></th>\n",
       "      <th>userId</th>\n",
       "      <th>userType</th>\n",
       "      <th>historySize</th>\n",
       "      <th>history</th>\n",
       "      <th>timestampHistory</th>\n",
       "      <th>numberOfClicksHistory</th>\n",
       "      <th>timeOnPageHistory</th>\n",
       "      <th>scrollPercentageHistory</th>\n",
       "      <th>pageVisitsCountHistory</th>\n",
       "    </tr>\n",
       "  </thead>\n",
       "  <tbody>\n",
       "    <tr>\n",
       "      <th>152</th>\n",
       "      <td>ece48284c7581bff3faeb85741fb95ae58fcd183af9cd7...</td>\n",
       "      <td>Non-Logged</td>\n",
       "      <td>2</td>\n",
       "      <td>['esid:conteudo_editorial_g1#materia#https://e...</td>\n",
       "      <td>['1657126383344' '1657126383344']</td>\n",
       "      <td>['2' '2']</td>\n",
       "      <td>['8014' '8014']</td>\n",
       "      <td>['16.8' '16.8']</td>\n",
       "      <td>['1' '1']</td>\n",
       "    </tr>\n",
       "    <tr>\n",
       "      <th>269</th>\n",
       "      <td>cbaf80887e193891d23924b379688ca256682a4897c830...</td>\n",
       "      <td>Non-Logged</td>\n",
       "      <td>3</td>\n",
       "      <td>['be696673-5f83-4400-ab93-f56f451e9e19'\n",
       " 'esid...</td>\n",
       "      <td>['1660151308670' '1660151308670' '1660152597360']</td>\n",
       "      <td>['10' '10' '0']</td>\n",
       "      <td>['60000' '60000' '40000']</td>\n",
       "      <td>['67.99' '67.99' '59.94']</td>\n",
       "      <td>['1' '1' '1']</td>\n",
       "    </tr>\n",
       "    <tr>\n",
       "      <th>280</th>\n",
       "      <td>eefead1452bc97f14f748a2fcfa4af485a19453408f33e...</td>\n",
       "      <td>Non-Logged</td>\n",
       "      <td>3</td>\n",
       "      <td>['esid:conteudo_editorial_g1#materia#https://e...</td>\n",
       "      <td>['1658359852692' '1658359896915' '1658359926825']</td>\n",
       "      <td>['15' '13' '11']</td>\n",
       "      <td>['30398' '26830' '31023']</td>\n",
       "      <td>['26.42' '32.56' '22.56']</td>\n",
       "      <td>['1' '1' '1']</td>\n",
       "    </tr>\n",
       "    <tr>\n",
       "      <th>305</th>\n",
       "      <td>7d077f992c2b9accc434de86b2d1ab521565c1c20abaae...</td>\n",
       "      <td>Non-Logged</td>\n",
       "      <td>3</td>\n",
       "      <td>['533b3efd-b7d4-418e-92a9-0a1d88440963'\n",
       " 'esid...</td>\n",
       "      <td>['1658018768392' '1658032318887' '1658188311214']</td>\n",
       "      <td>['3' '6' '15']</td>\n",
       "      <td>['10000' '10657' '49387']</td>\n",
       "      <td>['8.21' '19.5' '28.32']</td>\n",
       "      <td>['1' '1' '1']</td>\n",
       "    </tr>\n",
       "    <tr>\n",
       "      <th>423</th>\n",
       "      <td>caa44b2543ed6b99fa332cc3c3146beb2c10b6937b21e1...</td>\n",
       "      <td>Non-Logged</td>\n",
       "      <td>1</td>\n",
       "      <td>['esid:conteudo_editorial_g1#materia#https://e...</td>\n",
       "      <td>['1657312329245']</td>\n",
       "      <td>['8']</td>\n",
       "      <td>['56306']</td>\n",
       "      <td>['65.99']</td>\n",
       "      <td>['2']</td>\n",
       "    </tr>\n",
       "    <tr>\n",
       "      <th>...</th>\n",
       "      <td>...</td>\n",
       "      <td>...</td>\n",
       "      <td>...</td>\n",
       "      <td>...</td>\n",
       "      <td>...</td>\n",
       "      <td>...</td>\n",
       "      <td>...</td>\n",
       "      <td>...</td>\n",
       "      <td>...</td>\n",
       "    </tr>\n",
       "    <tr>\n",
       "      <th>577475</th>\n",
       "      <td>51ba118535e7635f8f4edb0cee083bcdedd6fb92ce3bc8...</td>\n",
       "      <td>Non-Logged</td>\n",
       "      <td>84</td>\n",
       "      <td>['1f2b9c2f-a2d2-4192-b009-09065da8ec23'\n",
       " '7430...</td>\n",
       "      <td>['1656666412459' '1656666605741' '165675748632...</td>\n",
       "      <td>['27' '27' '19' '14' '15' '19' '17' '0' '44' '...</td>\n",
       "      <td>['110846' '72033' '101986' '89456' '120000' '1...</td>\n",
       "      <td>['58.63' '57.44' '35.02' '36.41' '46.01' '48.2...</td>\n",
       "      <td>['1' '1' '1' '1' '1' '1' '1' '1' '1' '1' '1' '...</td>\n",
       "    </tr>\n",
       "    <tr>\n",
       "      <th>577493</th>\n",
       "      <td>780b3ea4acfd65a80d87f1f61e31309ccaa2c333f0c39a...</td>\n",
       "      <td>Logged</td>\n",
       "      <td>319</td>\n",
       "      <td>['c5ea9fce-3afb-4041-87b7-bf755e96d402'\n",
       " 'cf7c...</td>\n",
       "      <td>['1656674553340' '1656674913760' '165668577560...</td>\n",
       "      <td>['31' '2' '13' '20' '14' '17' '9' '12' '25' '2...</td>\n",
       "      <td>['274271' '30000' '52760' '114805' '91588' '70...</td>\n",
       "      <td>['54.01' '26.29' '30.57' '49.53' '32.08' '45.2...</td>\n",
       "      <td>['1' '1' '1' '1' '1' '1' '1' '1' '2' '1' '1' '...</td>\n",
       "    </tr>\n",
       "    <tr>\n",
       "      <th>577495</th>\n",
       "      <td>998b655d2845a186c6753ee3f34a81af9eec695b199bfb...</td>\n",
       "      <td>Logged</td>\n",
       "      <td>33</td>\n",
       "      <td>['6f1a3d83-b2aa-4eae-98de-3b07ab0fdec3'\n",
       " '1c4d...</td>\n",
       "      <td>['1659290766899' '1659291377410' '165929187002...</td>\n",
       "      <td>['8' '0' '1' '0' '0' '0' '1' '0' '0' '1' '0' '...</td>\n",
       "      <td>['116720' '27134' '57234' '122383' '23112' '84...</td>\n",
       "      <td>['42.06' '34.06' '68.06' '47.06' '74.59' '72.1...</td>\n",
       "      <td>['3' '1' '1' '1' '1' '1' '1' '1' '1' '1' '1' '...</td>\n",
       "    </tr>\n",
       "    <tr>\n",
       "      <th>577503</th>\n",
       "      <td>f55d54fcb5cd9e65a6a884a9fcf3a3a8fbad300b9210b8...</td>\n",
       "      <td>Logged</td>\n",
       "      <td>145</td>\n",
       "      <td>['4549c4eb-c949-47e2-a071-7de377677d6b'\n",
       " '3c78...</td>\n",
       "      <td>['1656670787153' '1656670986496' '165667124737...</td>\n",
       "      <td>['32' '27' '41' '14' '52' '3' '1' '0' '2' '6' ...</td>\n",
       "      <td>['117885' '140000' '110000' '50000' '330000' '...</td>\n",
       "      <td>['51.05' '53.79' '50.21' '43.18' '64.73' '7.86...</td>\n",
       "      <td>['1' '1' '1' '1' '1' '1' '1' '1' '1' '1' '1' '...</td>\n",
       "    </tr>\n",
       "    <tr>\n",
       "      <th>577622</th>\n",
       "      <td>7898ee9350be99243a2936b75c5d62037becc166571c5a...</td>\n",
       "      <td>Non-Logged</td>\n",
       "      <td>1</td>\n",
       "      <td>['70f114fb-ede3-43ad-aae9-de4e9dfe91f7']</td>\n",
       "      <td>['1660129417185']</td>\n",
       "      <td>['13']</td>\n",
       "      <td>['31541']</td>\n",
       "      <td>['7.01']</td>\n",
       "      <td>['1']</td>\n",
       "    </tr>\n",
       "  </tbody>\n",
       "</table>\n",
       "<p>13717 rows × 9 columns</p>\n",
       "</div>"
      ],
      "text/plain": [
       "                                                   userId    userType  historySize                                            history                                   timestampHistory                              numberOfClicksHistory                                  timeOnPageHistory                            scrollPercentageHistory                             pageVisitsCountHistory\n",
       "152     ece48284c7581bff3faeb85741fb95ae58fcd183af9cd7...  Non-Logged            2  ['esid:conteudo_editorial_g1#materia#https://e...                  ['1657126383344' '1657126383344']                                          ['2' '2']                                    ['8014' '8014']                                    ['16.8' '16.8']                                          ['1' '1']\n",
       "269     cbaf80887e193891d23924b379688ca256682a4897c830...  Non-Logged            3  ['be696673-5f83-4400-ab93-f56f451e9e19'\n",
       " 'esid...  ['1660151308670' '1660151308670' '1660152597360']                                    ['10' '10' '0']                          ['60000' '60000' '40000']                          ['67.99' '67.99' '59.94']                                      ['1' '1' '1']\n",
       "280     eefead1452bc97f14f748a2fcfa4af485a19453408f33e...  Non-Logged            3  ['esid:conteudo_editorial_g1#materia#https://e...  ['1658359852692' '1658359896915' '1658359926825']                                   ['15' '13' '11']                          ['30398' '26830' '31023']                          ['26.42' '32.56' '22.56']                                      ['1' '1' '1']\n",
       "305     7d077f992c2b9accc434de86b2d1ab521565c1c20abaae...  Non-Logged            3  ['533b3efd-b7d4-418e-92a9-0a1d88440963'\n",
       " 'esid...  ['1658018768392' '1658032318887' '1658188311214']                                     ['3' '6' '15']                          ['10000' '10657' '49387']                            ['8.21' '19.5' '28.32']                                      ['1' '1' '1']\n",
       "423     caa44b2543ed6b99fa332cc3c3146beb2c10b6937b21e1...  Non-Logged            1  ['esid:conteudo_editorial_g1#materia#https://e...                                  ['1657312329245']                                              ['8']                                          ['56306']                                          ['65.99']                                              ['2']\n",
       "...                                                   ...         ...          ...                                                ...                                                ...                                                ...                                                ...                                                ...                                                ...\n",
       "577475  51ba118535e7635f8f4edb0cee083bcdedd6fb92ce3bc8...  Non-Logged           84  ['1f2b9c2f-a2d2-4192-b009-09065da8ec23'\n",
       " '7430...  ['1656666412459' '1656666605741' '165675748632...  ['27' '27' '19' '14' '15' '19' '17' '0' '44' '...  ['110846' '72033' '101986' '89456' '120000' '1...  ['58.63' '57.44' '35.02' '36.41' '46.01' '48.2...  ['1' '1' '1' '1' '1' '1' '1' '1' '1' '1' '1' '...\n",
       "577493  780b3ea4acfd65a80d87f1f61e31309ccaa2c333f0c39a...      Logged          319  ['c5ea9fce-3afb-4041-87b7-bf755e96d402'\n",
       " 'cf7c...  ['1656674553340' '1656674913760' '165668577560...  ['31' '2' '13' '20' '14' '17' '9' '12' '25' '2...  ['274271' '30000' '52760' '114805' '91588' '70...  ['54.01' '26.29' '30.57' '49.53' '32.08' '45.2...  ['1' '1' '1' '1' '1' '1' '1' '1' '2' '1' '1' '...\n",
       "577495  998b655d2845a186c6753ee3f34a81af9eec695b199bfb...      Logged           33  ['6f1a3d83-b2aa-4eae-98de-3b07ab0fdec3'\n",
       " '1c4d...  ['1659290766899' '1659291377410' '165929187002...  ['8' '0' '1' '0' '0' '0' '1' '0' '0' '1' '0' '...  ['116720' '27134' '57234' '122383' '23112' '84...  ['42.06' '34.06' '68.06' '47.06' '74.59' '72.1...  ['3' '1' '1' '1' '1' '1' '1' '1' '1' '1' '1' '...\n",
       "577503  f55d54fcb5cd9e65a6a884a9fcf3a3a8fbad300b9210b8...      Logged          145  ['4549c4eb-c949-47e2-a071-7de377677d6b'\n",
       " '3c78...  ['1656670787153' '1656670986496' '165667124737...  ['32' '27' '41' '14' '52' '3' '1' '0' '2' '6' ...  ['117885' '140000' '110000' '50000' '330000' '...  ['51.05' '53.79' '50.21' '43.18' '64.73' '7.86...  ['1' '1' '1' '1' '1' '1' '1' '1' '1' '1' '1' '...\n",
       "577622  7898ee9350be99243a2936b75c5d62037becc166571c5a...  Non-Logged            1           ['70f114fb-ede3-43ad-aae9-de4e9dfe91f7']                                  ['1660129417185']                                             ['13']                                          ['31541']                                           ['7.01']                                              ['1']\n",
       "\n",
       "[13717 rows x 9 columns]"
      ]
     },
     "execution_count": 47,
     "metadata": {},
     "output_type": "execute_result"
    }
   ],
   "source": [
    "train[train[\"history\"].apply(lambda x: any(id_ in not_news_set for id_ in x))]"
   ]
  },
  {
   "cell_type": "code",
   "execution_count": null,
   "metadata": {},
   "outputs": [
    {
     "data": {
      "text/html": [
       "<div>\n",
       "<style scoped>\n",
       "    .dataframe tbody tr th:only-of-type {\n",
       "        vertical-align: middle;\n",
       "    }\n",
       "\n",
       "    .dataframe tbody tr th {\n",
       "        vertical-align: top;\n",
       "    }\n",
       "\n",
       "    .dataframe thead th {\n",
       "        text-align: right;\n",
       "    }\n",
       "</style>\n",
       "<table border=\"1\" class=\"dataframe\">\n",
       "  <thead>\n",
       "    <tr style=\"text-align: right;\">\n",
       "      <th></th>\n",
       "      <th>userId</th>\n",
       "      <th>userType</th>\n",
       "      <th>history</th>\n",
       "      <th>timestampHistory</th>\n",
       "    </tr>\n",
       "  </thead>\n",
       "  <tbody>\n",
       "    <tr>\n",
       "      <th>17</th>\n",
       "      <td>8d53c0ac0094404c0bf1c9e5d8c25837b6ae111e8b5feb...</td>\n",
       "      <td>Logged</td>\n",
       "      <td>['esid:conteudo_editorial_g1#materia#https://e...</td>\n",
       "      <td>['1660660075462']</td>\n",
       "    </tr>\n",
       "    <tr>\n",
       "      <th>19</th>\n",
       "      <td>5c8352bd70309a0fa30b56f637927f9cc83414d1c153ca...</td>\n",
       "      <td>Logged</td>\n",
       "      <td>['e2418f4d-6928-481d-ae7b-0a5b42c63bf6'\n",
       " '1a73...</td>\n",
       "      <td>['1660659447173' '1660659547056' '1660659667887']</td>\n",
       "    </tr>\n",
       "    <tr>\n",
       "      <th>79</th>\n",
       "      <td>86e84a6997cb9b6b72d226cf892d57e83a96216443f7aa...</td>\n",
       "      <td>Logged</td>\n",
       "      <td>['esid:conteudo_editorial_g1#materia#https://e...</td>\n",
       "      <td>['1660564665041' '1660564665041' '166058446904...</td>\n",
       "    </tr>\n",
       "    <tr>\n",
       "      <th>93</th>\n",
       "      <td>2e2df6314cc333c8e844ab4c2dff9af7e2691936f3a460...</td>\n",
       "      <td>Logged</td>\n",
       "      <td>['0203a71d-4c14-4c16-8dba-e0f540f9c0f8'\n",
       " '5d3d...</td>\n",
       "      <td>['1660576129843' '1660593510133' '166067505083...</td>\n",
       "    </tr>\n",
       "    <tr>\n",
       "      <th>115</th>\n",
       "      <td>37920e6f27c91e885f8e6ddcde0b351f095ae5149b3100...</td>\n",
       "      <td>Logged</td>\n",
       "      <td>['dbb1f75b-afd3-4041-939a-5b4a0fd17376'\n",
       " 'esid...</td>\n",
       "      <td>['1660588141544' '1660700231730']</td>\n",
       "    </tr>\n",
       "    <tr>\n",
       "      <th>...</th>\n",
       "      <td>...</td>\n",
       "      <td>...</td>\n",
       "      <td>...</td>\n",
       "      <td>...</td>\n",
       "    </tr>\n",
       "    <tr>\n",
       "      <th>112066</th>\n",
       "      <td>4942607aa564730bc7626e9a78f3a536b658d9d1d17651...</td>\n",
       "      <td>Non-Logged</td>\n",
       "      <td>['esid:conteudo_editorial_g1#materia#https://e...</td>\n",
       "      <td>['1660609036705']</td>\n",
       "    </tr>\n",
       "    <tr>\n",
       "      <th>112067</th>\n",
       "      <td>aff0018336e41f00e004281ff3904ba6abb48c11c47332...</td>\n",
       "      <td>Non-Logged</td>\n",
       "      <td>['esid:conteudo_editorial_g1#materia#https://e...</td>\n",
       "      <td>['1660573449771']</td>\n",
       "    </tr>\n",
       "    <tr>\n",
       "      <th>112068</th>\n",
       "      <td>b8d776d2026aa117c0d5eaba82c6a133b6cd47caa3e7ab...</td>\n",
       "      <td>Non-Logged</td>\n",
       "      <td>['esid:conteudo_editorial_g1#materia#https://e...</td>\n",
       "      <td>['1660561940835']</td>\n",
       "    </tr>\n",
       "    <tr>\n",
       "      <th>112069</th>\n",
       "      <td>7e30ab7f8023dfd1b54785954fb6a54ec40281c0f3d937...</td>\n",
       "      <td>Non-Logged</td>\n",
       "      <td>['esid:conteudo_editorial_g1#materia#https://e...</td>\n",
       "      <td>['1660566331155']</td>\n",
       "    </tr>\n",
       "    <tr>\n",
       "      <th>112093</th>\n",
       "      <td>7745f5677b6d866eb502043ccd61c2641ebdacac704b64...</td>\n",
       "      <td>Non-Logged</td>\n",
       "      <td>['esid:conteudo_editorial_g1#materia#https://e...</td>\n",
       "      <td>['1660599527333']</td>\n",
       "    </tr>\n",
       "  </tbody>\n",
       "</table>\n",
       "<p>4780 rows × 4 columns</p>\n",
       "</div>"
      ],
      "text/plain": [
       "                                                   userId    userType                                            history                                   timestampHistory\n",
       "17      8d53c0ac0094404c0bf1c9e5d8c25837b6ae111e8b5feb...      Logged  ['esid:conteudo_editorial_g1#materia#https://e...                                  ['1660660075462']\n",
       "19      5c8352bd70309a0fa30b56f637927f9cc83414d1c153ca...      Logged  ['e2418f4d-6928-481d-ae7b-0a5b42c63bf6'\n",
       " '1a73...  ['1660659447173' '1660659547056' '1660659667887']\n",
       "79      86e84a6997cb9b6b72d226cf892d57e83a96216443f7aa...      Logged  ['esid:conteudo_editorial_g1#materia#https://e...  ['1660564665041' '1660564665041' '166058446904...\n",
       "93      2e2df6314cc333c8e844ab4c2dff9af7e2691936f3a460...      Logged  ['0203a71d-4c14-4c16-8dba-e0f540f9c0f8'\n",
       " '5d3d...  ['1660576129843' '1660593510133' '166067505083...\n",
       "115     37920e6f27c91e885f8e6ddcde0b351f095ae5149b3100...      Logged  ['dbb1f75b-afd3-4041-939a-5b4a0fd17376'\n",
       " 'esid...                  ['1660588141544' '1660700231730']\n",
       "...                                                   ...         ...                                                ...                                                ...\n",
       "112066  4942607aa564730bc7626e9a78f3a536b658d9d1d17651...  Non-Logged  ['esid:conteudo_editorial_g1#materia#https://e...                                  ['1660609036705']\n",
       "112067  aff0018336e41f00e004281ff3904ba6abb48c11c47332...  Non-Logged  ['esid:conteudo_editorial_g1#materia#https://e...                                  ['1660573449771']\n",
       "112068  b8d776d2026aa117c0d5eaba82c6a133b6cd47caa3e7ab...  Non-Logged  ['esid:conteudo_editorial_g1#materia#https://e...                                  ['1660561940835']\n",
       "112069  7e30ab7f8023dfd1b54785954fb6a54ec40281c0f3d937...  Non-Logged  ['esid:conteudo_editorial_g1#materia#https://e...                                  ['1660566331155']\n",
       "112093  7745f5677b6d866eb502043ccd61c2641ebdacac704b64...  Non-Logged  ['esid:conteudo_editorial_g1#materia#https://e...                                  ['1660599527333']\n",
       "\n",
       "[4780 rows x 4 columns]"
      ]
     },
     "execution_count": 50,
     "metadata": {},
     "output_type": "execute_result"
    }
   ],
   "source": [
    "validation[validation[\"history\"].apply(lambda x: any(id_ in not_news_set for id_ in x))]"
   ]
  },
  {
   "cell_type": "markdown",
   "metadata": {},
   "source": [
    "Infelizmente, através das validações acima, foi possível descobrir que nossos datasets possuem dados indicando que usuários acessaram páginas que não são notícias.\n",
    "\n",
    "Por mais que sejam poucos usuários, como isso aparece em nosso dataset de validação, significa que nosso modelo deve ser capaz de sugerir matérias além de notícias aos usuários.\n",
    "\n",
    "A pergunta inversa também foi analisada: **mas e as páginas que nenhum usuário possui no histórico, faria sentido recomendá-las?**\n",
    "\n",
    "Pensando no escopo fechado do projeto, onde a métrica final será definida pela quantidade de acertos (e sendo que temos o dataset de validação presente para isso), faria sentido remover essas páginas, porém, ao pensar em um modelo **pronto para produção**, temos que considerar todas as matérias possíveis - exemplo: caso uma notícia de esportes tenha sido acessado nenhuma vez, ela ainda deve aparecer para usuários que possuem uma forte afinidade com esportes, sendo assim, não faz sentido removê-la do treinamento do modelo."
   ]
  },
  {
   "cell_type": "markdown",
   "metadata": {},
   "source": [
    "notas\n",
    "\n",
    "- o modelo deve sugerir também notícias que façam mais sentido com as últimas vistas\n",
    "  - Quando um user vê uma notícia de política, é bem provável que as próximas também serão políticas? faça a análise\n",
    "- "
   ]
  },
  {
   "cell_type": "markdown",
   "metadata": {},
   "source": []
  }
 ],
 "metadata": {
  "kernelspec": {
   "display_name": ".venv",
   "language": "python",
   "name": "python3"
  },
  "language_info": {
   "codemirror_mode": {
    "name": "ipython",
    "version": 3
   },
   "file_extension": ".py",
   "mimetype": "text/x-python",
   "name": "python",
   "nbconvert_exporter": "python",
   "pygments_lexer": "ipython3",
   "version": "3.12.8"
  }
 },
 "nbformat": 4,
 "nbformat_minor": 2
}
